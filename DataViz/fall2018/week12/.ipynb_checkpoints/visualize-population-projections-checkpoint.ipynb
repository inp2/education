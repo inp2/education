{
 "cells": [
  {
   "cell_type": "markdown",
   "metadata": {},
   "source": [
    "# Visualizing UN Population Projections"
   ]
  },
  {
   "cell_type": "code",
   "execution_count": 6,
   "metadata": {},
   "outputs": [
    {
     "ename": "NameError",
     "evalue": "name 'importlib' is not defined",
     "output_type": "error",
     "traceback": [
      "\u001b[0;31m---------------------------------------------------------------------------\u001b[0m",
      "\u001b[0;31mNameError\u001b[0m                                 Traceback (most recent call last)",
      "\u001b[0;32m<ipython-input-6-dcf134b0912a>\u001b[0m in \u001b[0;36m<module>\u001b[0;34m()\u001b[0m\n\u001b[1;32m      4\u001b[0m \u001b[0;32mfrom\u001b[0m \u001b[0mmatplotlib\u001b[0m\u001b[0;34m.\u001b[0m\u001b[0mpatches\u001b[0m \u001b[0;32mimport\u001b[0m \u001b[0mPolygon\u001b[0m\u001b[0;34m\u001b[0m\u001b[0m\n\u001b[1;32m      5\u001b[0m \u001b[0;32mfrom\u001b[0m \u001b[0mmatplotlib\u001b[0m\u001b[0;34m.\u001b[0m\u001b[0mcollections\u001b[0m \u001b[0;32mimport\u001b[0m \u001b[0mPatchCollection\u001b[0m\u001b[0;34m\u001b[0m\u001b[0m\n\u001b[0;32m----> 6\u001b[0;31m \u001b[0mimportlib\u001b[0m\u001b[0;34m.\u001b[0m\u001b[0mimport_module\u001b[0m\u001b[0;34m(\u001b[0m\u001b[0;34m'mpl_toolkits'\u001b[0m\u001b[0;34m)\u001b[0m\u001b[0;34m.\u001b[0m\u001b[0m__path__\u001b[0m\u001b[0;34m\u001b[0m\u001b[0m\n\u001b[0m\u001b[1;32m      7\u001b[0m \u001b[0;32mfrom\u001b[0m \u001b[0mmpl_toolkits\u001b[0m\u001b[0;34m.\u001b[0m\u001b[0mbasemap\u001b[0m \u001b[0;32mimport\u001b[0m \u001b[0mBasemap\u001b[0m\u001b[0;34m\u001b[0m\u001b[0m\n\u001b[1;32m      8\u001b[0m \u001b[0mget_ipython\u001b[0m\u001b[0;34m(\u001b[0m\u001b[0;34m)\u001b[0m\u001b[0;34m.\u001b[0m\u001b[0mrun_line_magic\u001b[0m\u001b[0;34m(\u001b[0m\u001b[0;34m'matplotlib'\u001b[0m\u001b[0;34m,\u001b[0m \u001b[0;34m'inline'\u001b[0m\u001b[0;34m)\u001b[0m\u001b[0;34m\u001b[0m\u001b[0m\n",
      "\u001b[0;31mNameError\u001b[0m: name 'importlib' is not defined"
     ]
    }
   ],
   "source": [
    "import pandas as pd, numpy as np, matplotlib.pyplot as plt\n",
    "import matplotlib.colors as colors, matplotlib.colorbar as colorbar \n",
    "import matplotlib.cm as cm, matplotlib.font_manager as fm\n",
    "from matplotlib.patches import Polygon\n",
    "from matplotlib.collections import PatchCollection\n",
    "import \n",
    "importlib.import_module('mpl_toolkits').__path__\n",
    "from mpl_toolkits.basemap import Basemap\n",
    "%matplotlib inline"
   ]
  },
  {
   "cell_type": "code",
   "execution_count": 4,
   "metadata": {},
   "outputs": [],
   "source": [
    "# define the fonts to use for plots\n",
    "family = 'Myriad Pro'\n",
    "title_font = fm.FontProperties(family=family, style='normal', size=24, weight='normal', stretch='normal')\n",
    "label_font = fm.FontProperties(family=family, style='normal', size=18, weight='normal', stretch='normal')\n",
    "ticks_font = fm.FontProperties(family=family, style='normal', size=16, weight='normal', stretch='normal')\n",
    "annot_font = fm.FontProperties(family=family, style='normal', size=12, weight='normal', stretch='normal')"
   ]
  },
  {
   "cell_type": "code",
   "execution_count": null,
   "metadata": {},
   "outputs": [],
   "source": [
    "def get_colors(cmap, n, start=0., stop=1., alpha=1., reverse=False):\n",
    "    '''return n-length list of rgba colors from the passed colormap name and alpha,\n",
    "       limit extent by start/stop values and reverse list order if flag is true'''\n",
    "    import matplotlib.cm as cm, numpy as np\n",
    "    colors = [cm.get_cmap(cmap)(x) for x in np.linspace(start, stop, n)]\n",
    "    colors = [(r, g, b, alpha) for r, g, b, _ in colors]\n",
    "    return list(reversed(colors)) if reverse else colors"
   ]
  },
  {
   "cell_type": "markdown",
   "metadata": {},
   "source": [
    "## First, prep the data set\n",
    "\n",
    "The World Population Prospects dataset, 2015 revision, is by the UN Department of Social and Economic Affairs, Population Division: http://esa.un.org/unpd/wpp/DVD/. See here for more info on [ISO country codes](https://en.wikipedia.org/wiki/ISO_3166-1_numeric).\n",
    "\n",
    "I'll look at the UN's \"medium variant\" projections. For even wilder numbers, you can examine the \"constant fertility\" projections."
   ]
  },
  {
   "cell_type": "code",
   "execution_count": null,
   "metadata": {},
   "outputs": [],
   "source": [
    "# choose which UN population prediction to use (ie, which tab in the excel file)\n",
    "variant = 'MEDIUM VARIANT'"
   ]
  },
  {
   "cell_type": "code",
   "execution_count": null,
   "metadata": {},
   "outputs": [],
   "source": [
    "# load the population projections data and rename wonky column names\n",
    "df_excel = pd.read_excel('data/WPP2015_POP_F01_1_TOTAL_POPULATION_BOTH_SEXES.XLS',\n",
    "                         sheetname=variant, skiprows=range(16))\n",
    "df_excel = df_excel.rename(columns={'Country code':'country_code', 'Major area, region, country or area *':'country_name'})"
   ]
  },
  {
   "cell_type": "code",
   "execution_count": null,
   "metadata": {},
   "outputs": [],
   "source": [
    "# load the ISO UN country codes and prepend zeros\n",
    "country_codes = pd.read_csv('data/country_names_codes.csv', encoding='utf-8')\n",
    "country_codes['country_code'] = country_codes['country_code'].astype(str).str.zfill(3)"
   ]
  },
  {
   "cell_type": "code",
   "execution_count": null,
   "metadata": {},
   "outputs": [],
   "source": [
    "# filter the excel data set by only those rows that appear in the list of country codes\n",
    "# this filters out continent and regional scale entities\n",
    "df_excel['country_code'] = df_excel['country_code'].astype(str).str.zfill(3)\n",
    "df_full = df_excel[df_excel['country_code'].isin(country_codes['country_code'])].copy()"
   ]
  },
  {
   "cell_type": "code",
   "execution_count": null,
   "metadata": {},
   "outputs": [],
   "source": [
    "# retain only a subset of columns\n",
    "cols = ['country_name', 'country_code', '2015', '2020', '2030', '2040', '2050', '2060', '2070', '2080', '2090', '2100']\n",
    "df = df_full[cols].copy()"
   ]
  },
  {
   "cell_type": "code",
   "execution_count": null,
   "metadata": {},
   "outputs": [],
   "source": [
    "# clean up a couple of country names\n",
    "df['country_name'] = df['country_name'].str.replace('United States of America', 'USA')\n",
    "df['country_name'] = df['country_name'].str.replace('Russian Federation', 'Russia')\n",
    "df['country_name'] = df['country_name'].str.replace('Democratic Republic of the Congo', 'Congo')\n",
    "df['country_name'] = df['country_name'].str.replace('United Republic of Tanzania', 'Tanzania')\n",
    "df['country_name'] = df['country_name'].str.replace('Other non-specified areas', 'Taiwan')"
   ]
  },
  {
   "cell_type": "code",
   "execution_count": null,
   "metadata": {},
   "outputs": [],
   "source": [
    "# multiply all numeric columns by 1000 to get population in units of 1 instead of 1000\n",
    "f = lambda x: x if isinstance(x, str) else x * 1000\n",
    "df = df.applymap(f)"
   ]
  },
  {
   "cell_type": "code",
   "execution_count": null,
   "metadata": {},
   "outputs": [],
   "source": [
    "# select the countries in africa for further analysis\n",
    "africa = df.iloc[0:58]\n",
    "\n",
    "# then sort df by current pop and reset index\n",
    "df = df.sort_values(by='2015', ascending=True, inplace=False)\n",
    "df = df.reset_index(drop=True)\n",
    "df.head()"
   ]
  },
  {
   "cell_type": "markdown",
   "metadata": {},
   "source": [
    "## Next, examine the continent/supernational scale data"
   ]
  },
  {
   "cell_type": "code",
   "execution_count": null,
   "metadata": {},
   "outputs": [],
   "source": [
    "# extract the supernational regions, they are in upper-case\n",
    "df_regions = df_excel[df_excel['country_name']==df_excel['country_name'].str.upper()]\n",
    "df_regions = df_regions[cols].copy()\n",
    "df_regions = df_regions.applymap(f)"
   ]
  },
  {
   "cell_type": "code",
   "execution_count": null,
   "metadata": {},
   "outputs": [],
   "source": [
    "df_regions = df_regions.drop(labels=0, axis=0)\n",
    "df_regions['country_name'] = df_regions['country_name'].str.title()\n",
    "df_regions.loc[187, 'country_name'] = 'Latin America'"
   ]
  },
  {
   "cell_type": "code",
   "execution_count": null,
   "metadata": {},
   "outputs": [],
   "source": [
    "# first re-index by area name for one line per country\n",
    "df_plot = df_regions.copy()\n",
    "df_plot.index = df_plot['country_name']\n",
    "df_plot = df_plot.drop(['country_name'], axis=1)\n",
    "df_plot = df_plot.transpose()\n",
    "df_plot = df_plot.drop('country_code', axis=0)"
   ]
  },
  {
   "cell_type": "code",
   "execution_count": null,
   "metadata": {},
   "outputs": [],
   "source": [
    "color_list = get_colors('spectral', n=len(df_regions), start=0.1, stop=0.95, reverse=True)"
   ]
  },
  {
   "cell_type": "code",
   "execution_count": null,
   "metadata": {},
   "outputs": [],
   "source": [
    "fig, ax = plt.subplots(figsize=[9, 6])\n",
    "lines = []\n",
    "for col, c in zip(df_plot.columns, color_list):\n",
    "    ax.plot(df_plot[col]/10**9, linewidth=4, alpha=0.6, marker='o', markeredgewidth=0, color=c)\n",
    "    lines.append(col)\n",
    "    \n",
    "ax.set_title('UN Projected Population Growth of World Regions', fontproperties=label_font, y=1.01)\n",
    "ax.set_xlabel('Year', fontproperties=label_font)\n",
    "ax.set_ylabel('Population (Billions)', fontproperties=label_font)\n",
    "ax.grid()\n",
    "ax.set_axis_bgcolor('#ffffff')\n",
    "ax.set_xlim([2015, 2100])\n",
    "ax.legend(lines, loc='center right', bbox_to_anchor=(1.325,0.825))\n",
    "\n",
    "fig.savefig('images/projected-pop-line-regions.png', dpi=96, bbox_inches='tight')\n",
    "plt.show()"
   ]
  },
  {
   "cell_type": "markdown",
   "metadata": {},
   "source": [
    "## Now, plot population change as a line chart"
   ]
  },
  {
   "cell_type": "code",
   "execution_count": null,
   "metadata": {},
   "outputs": [],
   "source": [
    "# first re-index by area name for one line per country\n",
    "df_plot = df.copy()\n",
    "df_plot.index = df_plot['country_name']\n",
    "df_plot = df_plot.drop(['country_name'], axis=1)\n",
    "\n",
    "# only keep countries that exceed some minimum population threshold, and transpose df for line plotting\n",
    "min_population = 10 * 10**6\n",
    "df_plot = df_plot[df_plot['2015'] > min_population]\n",
    "df_plot = df_plot.transpose()\n",
    "df_plot = df_plot.drop('country_code', axis=0)"
   ]
  },
  {
   "cell_type": "code",
   "execution_count": null,
   "metadata": {},
   "outputs": [],
   "source": [
    "# get one color for each country's line\n",
    "color_list = get_colors('spectral', n=len(df_plot.columns), start=0.15, stop=0.9)"
   ]
  },
  {
   "cell_type": "code",
   "execution_count": null,
   "metadata": {},
   "outputs": [],
   "source": [
    "fig, ax = plt.subplots(figsize=[10, 7])\n",
    "for col, c in reversed(list(zip(df_plot.columns, color_list))):\n",
    "    ax.plot(df_plot[col]/10**9, linewidth=2, alpha=0.6, marker='.', markeredgewidth=0, color=c)\n",
    "    \n",
    "ax.set_title('UN Projected Population Growth of Large Countries', fontproperties=label_font, y=1.01)\n",
    "ax.set_xlabel('Year', fontproperties=label_font)\n",
    "ax.set_ylabel('Population (Billions)', fontproperties=label_font)\n",
    "ax.grid()\n",
    "ax.set_axis_bgcolor('#ffffff')\n",
    "ax.set_xlim([2015, 2100])\n",
    "\n",
    "# annotate the top 5 countries\n",
    "def annotate(row):\n",
    "    bbox = dict(boxstyle='round', color='w', fc='w', alpha=0.0)\n",
    "    name = ' {}'.format(row['country_name'])\n",
    "    pop = row['2100'] / 10**9\n",
    "    ax.annotate(name, xy=(2100, pop), bbox=bbox, xycoords='data', fontproperties=annot_font)\n",
    "df.sort_values(by='2100', ascending=False).head().apply(annotate, axis=1)\n",
    "\n",
    "fig.savefig('images/projected-pop-line.png', dpi=96, bbox_inches='tight')\n",
    "plt.show()"
   ]
  },
  {
   "cell_type": "code",
   "execution_count": null,
   "metadata": {},
   "outputs": [],
   "source": [
    "# log the populations\n",
    "df_log_plot = df_plot.applymap(np.log)"
   ]
  },
  {
   "cell_type": "code",
   "execution_count": null,
   "metadata": {},
   "outputs": [],
   "source": [
    "# plot again, this time with the log values\n",
    "fig, ax = plt.subplots(figsize=[10, 7])\n",
    "for col, c in reversed(list(zip(df_log_plot.columns, color_list))):\n",
    "    ax.plot(df_log_plot[col], linewidth=2, alpha=0.6, marker='.', markeredgewidth=0, color=c)\n",
    "    \n",
    "ax.set_title('UN Projected Population Growth of Large Countries', fontproperties=label_font, y=1.01)\n",
    "ax.set_xlabel('Year', fontproperties=label_font)\n",
    "ax.set_ylabel('Population (Log)', fontproperties=label_font)\n",
    "ax.grid()\n",
    "ax.set_axis_bgcolor('#ffffff')\n",
    "ax.set_xlim([2015, 2100])\n",
    "\n",
    "# annotate the top 5 countries\n",
    "def annotate(row):\n",
    "    bbox = dict(boxstyle='round', color='w', fc='w', alpha=0.0)\n",
    "    name = ' {}'.format(row['country_name'])\n",
    "    pop = np.log(int(row['2100']))\n",
    "    ax.annotate(name, xy=(2100, pop), bbox=bbox, xycoords='data', fontproperties=annot_font)\n",
    "df['country_name'] = df['country_name'].str.replace('United States of America', 'USA')\n",
    "df['country_name'] = df['country_name'].str.replace('Democratic Republic of the Congo', 'Congo')\n",
    "df.sort_values(by='2100', ascending=False).head().apply(annotate, axis=1)\n",
    "\n",
    "fig.savefig('images/projected-pop-log-line.png', dpi=96, bbox_inches='tight')\n",
    "plt.show()"
   ]
  },
  {
   "cell_type": "markdown",
   "metadata": {},
   "source": [
    "## Now, visualize population change with a choropleth map"
   ]
  },
  {
   "cell_type": "code",
   "execution_count": null,
   "metadata": {},
   "outputs": [],
   "source": [
    "# calculate each country's percent change between 2015 and 2100\n",
    "df['change'] = df['2100'] / df['2015']"
   ]
  },
  {
   "cell_type": "code",
   "execution_count": null,
   "metadata": {},
   "outputs": [],
   "source": [
    "# divide up the dataset into quantiles by population change\n",
    "num_bins = 7\n",
    "bin_labels = range(num_bins)\n",
    "df['bin'] = pd.qcut(x=df['change'], q=num_bins, labels=bin_labels)"
   ]
  },
  {
   "cell_type": "code",
   "execution_count": null,
   "metadata": {},
   "outputs": [],
   "source": [
    "# create labels and ticks for the legend\n",
    "def get_label(value):\n",
    "    pct = int((value - 1) * 100)\n",
    "    sign = '+' if pct > 0 else ''\n",
    "    return '{}{:,}%'.format(sign, pct)\n",
    "\n",
    "# the labels will be the mins of each bin and the max of the last bin\n",
    "labels = [get_label(df[df['bin']==b]['change'].min()) for b in range(num_bins)]\n",
    "labels.append(get_label(df[df['bin']==list(range(num_bins))[-1]]['change'].max()))\n",
    "print(labels)\n",
    "\n",
    "# add one more tick mark, for the max of the last bin\n",
    "label_ticks = list(bin_labels) + [num_bins]\n",
    "print(label_ticks)"
   ]
  },
  {
   "cell_type": "code",
   "execution_count": null,
   "metadata": {},
   "outputs": [],
   "source": [
    "# define map colors\n",
    "cholorpleth_color_map = 'viridis'\n",
    "water_color = '#dddddd'\n",
    "border_color = '#ffffff'\n",
    "no_data_color = '#ffffff'\n",
    "map_boundary_color = '#999999'"
   ]
  },
  {
   "cell_type": "code",
   "execution_count": null,
   "metadata": {},
   "outputs": [],
   "source": [
    "# get a list of colors for our choropleth map\n",
    "color_list = get_colors(cholorpleth_color_map, n=num_bins, start=0.0, stop=0.92, alpha=0.75)"
   ]
  },
  {
   "cell_type": "code",
   "execution_count": null,
   "metadata": {
    "scrolled": false
   },
   "outputs": [],
   "source": [
    "# now create the map: first set up the plotting figure\n",
    "shapefile = 'data/countries_110m/ne_110m_admin_0_countries'\n",
    "fig = plt.figure(figsize=[14, 8])\n",
    "ax = fig.add_subplot(111, axisbg=water_color, frame_on=False)\n",
    "ax.set_title('UN Population Growth Projections, 2015-2100', fontproperties=title_font, y=1.01)\n",
    "\n",
    "# draw the basemap and read the shapefile\n",
    "m = Basemap(lon_0=0, projection='kav7', resolution=None)\n",
    "m.drawmapboundary(color=map_boundary_color)\n",
    "m.readshapefile(shapefile, name='shapes', drawbounds=False, default_encoding='ISO-8859-1')\n",
    "\n",
    "# draw each shape, colored according to country's bin\n",
    "for info, shape in zip(m.shapes_info, m.shapes):\n",
    "    country_code = info['iso_n3']    \n",
    "    if country_code in df['country_code'].values:\n",
    "        bin_num = df[df['country_code']==country_code]['bin'].iloc[0]\n",
    "        color = color_list[bin_num]\n",
    "    else:\n",
    "        color = no_data_color #if no data\n",
    "    pc = PatchCollection([Polygon(np.array(shape), True)])\n",
    "    pc.set_facecolor(color)\n",
    "    pc.set_edgecolor(border_color)\n",
    "    pc.set_linewidth(0.5)\n",
    "    ax.add_collection(pc)\n",
    "\n",
    "# draw color legend (lengths are ratios of figure size)\n",
    "legend_width = 0.375\n",
    "legend_left = (1 - legend_width) / 2.\n",
    "legend_bottom = 0.07\n",
    "legend_height = 0.03\n",
    "legend_axis = fig.add_axes([legend_left, legend_bottom, legend_width, legend_height], zorder=2)\n",
    "cmap = colors.ListedColormap(color_list)\n",
    "cb = colorbar.ColorbarBase(legend_axis, cmap=cmap, ticks=label_ticks, boundaries=label_ticks, orientation='horizontal')\n",
    "cb.ax.set_xticklabels(labels, fontproperties=annot_font)\n",
    "\n",
    "fig.tight_layout()\n",
    "fig.savefig('images/projected-pop-map.png', dpi=96)\n",
    "plt.show()"
   ]
  },
  {
   "cell_type": "markdown",
   "metadata": {},
   "source": [
    "## Lastly, show some descriptive tables"
   ]
  },
  {
   "cell_type": "code",
   "execution_count": null,
   "metadata": {},
   "outputs": [],
   "source": [
    "africa_change = africa['2100'] - africa['2015']\n",
    "world_change = df['2100'] - df['2015']\n",
    "\n",
    "print('African population will grow by {:,.0f} people by 2100'.format(africa_change.sum()))\n",
    "print('World population will grow by {:,.0f} people by 2100'.format(world_change.sum()))\n",
    "print('That is {:,.0f} new people outside of Africa'.format(world_change.sum() - africa_change.sum()))\n",
    "print('Africa accounts for {:,.1f}% of the projected growth'.format(africa_change.sum() * 100 / world_change.sum()))"
   ]
  },
  {
   "cell_type": "code",
   "execution_count": null,
   "metadata": {},
   "outputs": [],
   "source": [
    "# format populations and changes nicely for display\n",
    "def get_pct_str(value):\n",
    "    pct = (value - 1) * 100\n",
    "    sign = '+' if pct > 0 else ''\n",
    "    return '{}{:,.0f}%'.format(sign, pct)\n",
    "\n",
    "def get_change_str(value):\n",
    "    sign = '+' if value > 0 else ''\n",
    "    return '{}{:,.0f}'.format(sign, value)\n",
    "\n",
    "def get_pop_str(value):\n",
    "    return '{:,.0f}'.format(value)"
   ]
  },
  {
   "cell_type": "code",
   "execution_count": null,
   "metadata": {},
   "outputs": [],
   "source": [
    "change = df[['country_name', '2015', '2100', 'change']].copy()\n",
    "change['% Change'] = change['change'].map(get_pct_str)\n",
    "change['Pop Change'] = (change['2100'] - change['2015']).map(get_change_str)\n",
    "change[['2015', '2100']] = change[['2015', '2100']].applymap(get_pop_str)\n",
    "change = change.rename(columns={'country_name':'Country', '2015':'2015 Pop', '2100':'2100 Pop'})"
   ]
  },
  {
   "cell_type": "code",
   "execution_count": null,
   "metadata": {},
   "outputs": [],
   "source": [
    "# show the 10 countries projecting the greatest % population decline\n",
    "change = change.sort_values(by='change', inplace=False).reset_index()\n",
    "change.index = change.index.map(lambda x: x + 1)\n",
    "change[['Country', '2015 Pop', '2100 Pop', 'Pop Change', '% Change']].head(10)"
   ]
  },
  {
   "cell_type": "code",
   "execution_count": null,
   "metadata": {},
   "outputs": [],
   "source": [
    "# show the 10 countries projecting the greatest % population increase\n",
    "change = change.sort_values(by='change', ascending=False, inplace=False).reset_index()\n",
    "change.index = change.index.map(lambda x: x + 1)\n",
    "change[['Country', '2015 Pop', '2100 Pop', 'Pop Change', '% Change']].head(10)"
   ]
  },
  {
   "cell_type": "code",
   "execution_count": null,
   "metadata": {},
   "outputs": [],
   "source": [
    "# show the most populous countries in 2015\n",
    "most_populous_2015 = df.sort_values(by='2015', ascending=False).reset_index().copy()\n",
    "most_populous_2015.index = most_populous_2015.index.map(lambda x: x + 1)\n",
    "most_populous_2015['2015'] = most_populous_2015['2015'].map(lambda x: '{:,.0f}'.format(x))\n",
    "most_populous_2015 = most_populous_2015.rename(columns={'country_name':'Country', '2015':'2015 Pop'})\n",
    "most_populous_2015[['Country', '2015 Pop']].head(10)"
   ]
  },
  {
   "cell_type": "code",
   "execution_count": null,
   "metadata": {},
   "outputs": [],
   "source": [
    "# show the most populous countries in 2100\n",
    "most_populous_2100 = df.sort_values(by='2100', ascending=False).reset_index().copy()\n",
    "most_populous_2100.index = most_populous_2100.index.map(lambda x: x + 1)\n",
    "most_populous_2100['2100'] = most_populous_2100['2100'].map(lambda x: '{:,.0f}'.format(x))\n",
    "most_populous_2100 = most_populous_2100.rename(columns={'country_name':'Country', '2100':'2100 Pop'})\n",
    "most_populous_2100[['Country', '2100 Pop']].head(10)"
   ]
  },
  {
   "cell_type": "code",
   "execution_count": null,
   "metadata": {},
   "outputs": [],
   "source": [
    "# lastly, make a table for the regions\n",
    "regions_change = df_regions[['country_name', '2015', '2100']].copy()\n",
    "regions_change['change'] = regions_change['2100'] / regions_change['2015']\n",
    "regions_change['pop_change'] = regions_change['2100'] - regions_change['2015']\n",
    "\n",
    "regions_change['% Change'] = regions_change['change'].map(get_pct_str)\n",
    "regions_change['Pop Change'] = regions_change['pop_change'].map(get_change_str)\n",
    "regions_change = regions_change.sort_values(by='pop_change', inplace=False, ascending=False).reset_index()\n",
    "\n",
    "regions_change.index = regions_change.index.map(lambda x: x + 1)\n",
    "regions_change[['2015', '2100']] = regions_change[['2015', '2100']].applymap(get_pop_str)\n",
    "regions_change = regions_change.rename(columns={'country_name':'Region', '2015':'2015 Pop', '2100':'2100 Pop'})\n",
    "regions_change[['Region', '2015 Pop', '2100 Pop', 'Pop Change', '% Change']]"
   ]
  },
  {
   "cell_type": "code",
   "execution_count": null,
   "metadata": {},
   "outputs": [],
   "source": []
  }
 ],
 "metadata": {
  "kernelspec": {
   "display_name": "Python 3",
   "language": "python",
   "name": "python3"
  },
  "language_info": {
   "codemirror_mode": {
    "name": "ipython",
    "version": 3
   },
   "file_extension": ".py",
   "mimetype": "text/x-python",
   "name": "python",
   "nbconvert_exporter": "python",
   "pygments_lexer": "ipython3",
   "version": "3.6.5"
  }
 },
 "nbformat": 4,
 "nbformat_minor": 1
}
