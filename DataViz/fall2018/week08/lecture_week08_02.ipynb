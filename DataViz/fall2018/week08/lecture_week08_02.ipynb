{
 "cells": [
  {
   "cell_type": "markdown",
   "metadata": {},
   "source": [
    "# Introduction to Bokeh"
   ]
  },
  {
   "cell_type": "code",
   "execution_count": 6,
   "metadata": {},
   "outputs": [
    {
     "data": {
      "text/plain": [
       "Index(['Agency Name', 'Location Name', 'Address', 'City', 'Zip code', 'County',\n",
       "       'Congress Dist', 'Congressional Full Name', 'Rep Dist', 'Rep Full Name',\n",
       "       'Senate Dist', 'Senator Full Name', 'Bldg Status', 'Year Acquired',\n",
       "       'Year Constructed', 'Square Footage', 'Total Floors',\n",
       "       'Floors Above Grade', 'Floors Below Grade', 'Usage Description',\n",
       "       'Usage Description 2', 'Usage Description 3'],\n",
       "      dtype='object')"
      ]
     },
     "execution_count": 6,
     "metadata": {},
     "output_type": "execute_result"
    }
   ],
   "source": [
    "import pandas as pd\n",
    "import numpy as np\n",
    "\n",
    "buildings = pd.read_csv(\"data/Building_Inventory.csv\")\n",
    "\n",
    "buildings.columns"
   ]
  },
  {
   "cell_type": "code",
   "execution_count": 7,
   "metadata": {},
   "outputs": [
    {
     "data": {
      "text/plain": [
       "Agency Name                object\n",
       "Location Name              object\n",
       "Address                    object\n",
       "City                       object\n",
       "Zip code                    int64\n",
       "County                     object\n",
       "Congress Dist               int64\n",
       "Congressional Full Name    object\n",
       "Rep Dist                    int64\n",
       "Rep Full Name              object\n",
       "Senate Dist                 int64\n",
       "Senator Full Name          object\n",
       "Bldg Status                object\n",
       "Year Acquired               int64\n",
       "Year Constructed            int64\n",
       "Square Footage              int64\n",
       "Total Floors                int64\n",
       "Floors Above Grade          int64\n",
       "Floors Below Grade          int64\n",
       "Usage Description          object\n",
       "Usage Description 2        object\n",
       "Usage Description 3        object\n",
       "dtype: object"
      ]
     },
     "execution_count": 7,
     "metadata": {},
     "output_type": "execute_result"
    }
   ],
   "source": [
    "buildings.dtypes"
   ]
  },
  {
   "cell_type": "code",
   "execution_count": 8,
   "metadata": {},
   "outputs": [],
   "source": [
    "buildings[\"Agency Name\"] = buildings[\"Agency Name\"].astype(\"category\")"
   ]
  },
  {
   "cell_type": "code",
   "execution_count": 9,
   "metadata": {},
   "outputs": [
    {
     "ename": "NameError",
     "evalue": "name 'figure' is not defined",
     "output_type": "error",
     "traceback": [
      "\u001b[0;31m---------------------------------------------------------------------------\u001b[0m",
      "\u001b[0;31mNameError\u001b[0m                                 Traceback (most recent call last)",
      "\u001b[0;32m<ipython-input-9-61abe09f222f>\u001b[0m in \u001b[0;36m<module>\u001b[0;34m()\u001b[0m\n\u001b[0;32m----> 1\u001b[0;31m \u001b[0mfig\u001b[0m \u001b[0;34m=\u001b[0m \u001b[0mfigure\u001b[0m\u001b[0;34m(\u001b[0m\u001b[0;34m)\u001b[0m\u001b[0;34m\u001b[0m\u001b[0m\n\u001b[0m\u001b[1;32m      2\u001b[0m \u001b[0mfig\u001b[0m\u001b[0;34m.\u001b[0m\u001b[0mscatter\u001b[0m\u001b[0;34m(\u001b[0m\u001b[0;34m\"Square Footage\"\u001b[0m\u001b[0;34m,\u001b[0m \u001b[0;34m\"Floors Below Grade\"\u001b[0m\u001b[0;34m,\u001b[0m \u001b[0msource\u001b[0m\u001b[0;34m=\u001b[0m\u001b[0mbuildings\u001b[0m\u001b[0;34m)\u001b[0m\u001b[0;34m\u001b[0m\u001b[0m\n",
      "\u001b[0;31mNameError\u001b[0m: name 'figure' is not defined"
     ]
    }
   ],
   "source": [
    "fig = figure()\n",
    "fig.scatter(\"Square Footage\", \"Floors Below Grade\", source=buildings)"
   ]
  },
  {
   "cell_type": "code",
   "execution_count": 10,
   "metadata": {},
   "outputs": [
    {
     "ename": "NameError",
     "evalue": "name 'show' is not defined",
     "output_type": "error",
     "traceback": [
      "\u001b[0;31m---------------------------------------------------------------------------\u001b[0m",
      "\u001b[0;31mNameError\u001b[0m                                 Traceback (most recent call last)",
      "\u001b[0;32m<ipython-input-10-242f48e2fd15>\u001b[0m in \u001b[0;36m<module>\u001b[0;34m()\u001b[0m\n\u001b[0;32m----> 1\u001b[0;31m \u001b[0mshow\u001b[0m\u001b[0;34m(\u001b[0m\u001b[0mfig\u001b[0m\u001b[0;34m)\u001b[0m\u001b[0;34m\u001b[0m\u001b[0m\n\u001b[0m",
      "\u001b[0;31mNameError\u001b[0m: name 'show' is not defined"
     ]
    }
   ],
   "source": [
    "show(fig)"
   ]
  },
  {
   "cell_type": "code",
   "execution_count": null,
   "metadata": {},
   "outputs": [],
   "source": []
  },
  {
   "cell_type": "markdown",
   "metadata": {},
   "source": [
    "## Graph and Network Plots"
   ]
  },
  {
   "cell_type": "code",
   "execution_count": 11,
   "metadata": {},
   "outputs": [
    {
     "data": {
      "text/html": [
       "\n",
       "    <div class=\"bk-root\">\n",
       "        <a href=\"https://bokeh.pydata.org\" target=\"_blank\" class=\"bk-logo bk-logo-small bk-logo-notebook\"></a>\n",
       "        <span id=\"42d9ddd8-0055-45af-88e0-6b5b865e2287\">Loading BokehJS ...</span>\n",
       "    </div>"
      ]
     },
     "metadata": {},
     "output_type": "display_data"
    },
    {
     "data": {
      "application/javascript": [
       "\n",
       "(function(root) {\n",
       "  function now() {\n",
       "    return new Date();\n",
       "  }\n",
       "\n",
       "  var force = true;\n",
       "\n",
       "  if (typeof (root._bokeh_onload_callbacks) === \"undefined\" || force === true) {\n",
       "    root._bokeh_onload_callbacks = [];\n",
       "    root._bokeh_is_loading = undefined;\n",
       "  }\n",
       "\n",
       "  var JS_MIME_TYPE = 'application/javascript';\n",
       "  var HTML_MIME_TYPE = 'text/html';\n",
       "  var EXEC_MIME_TYPE = 'application/vnd.bokehjs_exec.v0+json';\n",
       "  var CLASS_NAME = 'output_bokeh rendered_html';\n",
       "\n",
       "  /**\n",
       "   * Render data to the DOM node\n",
       "   */\n",
       "  function render(props, node) {\n",
       "    var script = document.createElement(\"script\");\n",
       "    node.appendChild(script);\n",
       "  }\n",
       "\n",
       "  /**\n",
       "   * Handle when an output is cleared or removed\n",
       "   */\n",
       "  function handleClearOutput(event, handle) {\n",
       "    var cell = handle.cell;\n",
       "\n",
       "    var id = cell.output_area._bokeh_element_id;\n",
       "    var server_id = cell.output_area._bokeh_server_id;\n",
       "    // Clean up Bokeh references\n",
       "    if (id !== undefined) {\n",
       "      Bokeh.index[id].model.document.clear();\n",
       "      delete Bokeh.index[id];\n",
       "    }\n",
       "\n",
       "    if (server_id !== undefined) {\n",
       "      // Clean up Bokeh references\n",
       "      var cmd = \"from bokeh.io.state import curstate; print(curstate().uuid_to_server['\" + server_id + \"'].get_sessions()[0].document.roots[0]._id)\";\n",
       "      cell.notebook.kernel.execute(cmd, {\n",
       "        iopub: {\n",
       "          output: function(msg) {\n",
       "            var element_id = msg.content.text.trim();\n",
       "            Bokeh.index[element_id].model.document.clear();\n",
       "            delete Bokeh.index[element_id];\n",
       "          }\n",
       "        }\n",
       "      });\n",
       "      // Destroy server and session\n",
       "      var cmd = \"import bokeh.io.notebook as ion; ion.destroy_server('\" + server_id + \"')\";\n",
       "      cell.notebook.kernel.execute(cmd);\n",
       "    }\n",
       "  }\n",
       "\n",
       "  /**\n",
       "   * Handle when a new output is added\n",
       "   */\n",
       "  function handleAddOutput(event, handle) {\n",
       "    var output_area = handle.output_area;\n",
       "    var output = handle.output;\n",
       "\n",
       "    // limit handleAddOutput to display_data with EXEC_MIME_TYPE content only\n",
       "    if ((output.output_type != \"display_data\") || (!output.data.hasOwnProperty(EXEC_MIME_TYPE))) {\n",
       "      return\n",
       "    }\n",
       "\n",
       "    var toinsert = output_area.element.find(\".\" + CLASS_NAME.split(' ')[0]);\n",
       "\n",
       "    if (output.metadata[EXEC_MIME_TYPE][\"id\"] !== undefined) {\n",
       "      toinsert[toinsert.length - 1].firstChild.textContent = output.data[JS_MIME_TYPE];\n",
       "      // store reference to embed id on output_area\n",
       "      output_area._bokeh_element_id = output.metadata[EXEC_MIME_TYPE][\"id\"];\n",
       "    }\n",
       "    if (output.metadata[EXEC_MIME_TYPE][\"server_id\"] !== undefined) {\n",
       "      var bk_div = document.createElement(\"div\");\n",
       "      bk_div.innerHTML = output.data[HTML_MIME_TYPE];\n",
       "      var script_attrs = bk_div.children[0].attributes;\n",
       "      for (var i = 0; i < script_attrs.length; i++) {\n",
       "        toinsert[toinsert.length - 1].firstChild.setAttribute(script_attrs[i].name, script_attrs[i].value);\n",
       "      }\n",
       "      // store reference to server id on output_area\n",
       "      output_area._bokeh_server_id = output.metadata[EXEC_MIME_TYPE][\"server_id\"];\n",
       "    }\n",
       "  }\n",
       "\n",
       "  function register_renderer(events, OutputArea) {\n",
       "\n",
       "    function append_mime(data, metadata, element) {\n",
       "      // create a DOM node to render to\n",
       "      var toinsert = this.create_output_subarea(\n",
       "        metadata,\n",
       "        CLASS_NAME,\n",
       "        EXEC_MIME_TYPE\n",
       "      );\n",
       "      this.keyboard_manager.register_events(toinsert);\n",
       "      // Render to node\n",
       "      var props = {data: data, metadata: metadata[EXEC_MIME_TYPE]};\n",
       "      render(props, toinsert[toinsert.length - 1]);\n",
       "      element.append(toinsert);\n",
       "      return toinsert\n",
       "    }\n",
       "\n",
       "    /* Handle when an output is cleared or removed */\n",
       "    events.on('clear_output.CodeCell', handleClearOutput);\n",
       "    events.on('delete.Cell', handleClearOutput);\n",
       "\n",
       "    /* Handle when a new output is added */\n",
       "    events.on('output_added.OutputArea', handleAddOutput);\n",
       "\n",
       "    /**\n",
       "     * Register the mime type and append_mime function with output_area\n",
       "     */\n",
       "    OutputArea.prototype.register_mime_type(EXEC_MIME_TYPE, append_mime, {\n",
       "      /* Is output safe? */\n",
       "      safe: true,\n",
       "      /* Index of renderer in `output_area.display_order` */\n",
       "      index: 0\n",
       "    });\n",
       "  }\n",
       "\n",
       "  // register the mime type if in Jupyter Notebook environment and previously unregistered\n",
       "  if (root.Jupyter !== undefined) {\n",
       "    var events = require('base/js/events');\n",
       "    var OutputArea = require('notebook/js/outputarea').OutputArea;\n",
       "\n",
       "    if (OutputArea.prototype.mime_types().indexOf(EXEC_MIME_TYPE) == -1) {\n",
       "      register_renderer(events, OutputArea);\n",
       "    }\n",
       "  }\n",
       "\n",
       "  \n",
       "  if (typeof (root._bokeh_timeout) === \"undefined\" || force === true) {\n",
       "    root._bokeh_timeout = Date.now() + 5000;\n",
       "    root._bokeh_failed_load = false;\n",
       "  }\n",
       "\n",
       "  var NB_LOAD_WARNING = {'data': {'text/html':\n",
       "     \"<div style='background-color: #fdd'>\\n\"+\n",
       "     \"<p>\\n\"+\n",
       "     \"BokehJS does not appear to have successfully loaded. If loading BokehJS from CDN, this \\n\"+\n",
       "     \"may be due to a slow or bad network connection. Possible fixes:\\n\"+\n",
       "     \"</p>\\n\"+\n",
       "     \"<ul>\\n\"+\n",
       "     \"<li>re-rerun `output_notebook()` to attempt to load from CDN again, or</li>\\n\"+\n",
       "     \"<li>use INLINE resources instead, as so:</li>\\n\"+\n",
       "     \"</ul>\\n\"+\n",
       "     \"<code>\\n\"+\n",
       "     \"from bokeh.resources import INLINE\\n\"+\n",
       "     \"output_notebook(resources=INLINE)\\n\"+\n",
       "     \"</code>\\n\"+\n",
       "     \"</div>\"}};\n",
       "\n",
       "  function display_loaded() {\n",
       "    var el = document.getElementById(\"42d9ddd8-0055-45af-88e0-6b5b865e2287\");\n",
       "    if (el != null) {\n",
       "      el.textContent = \"BokehJS is loading...\";\n",
       "    }\n",
       "    if (root.Bokeh !== undefined) {\n",
       "      if (el != null) {\n",
       "        el.textContent = \"BokehJS \" + root.Bokeh.version + \" successfully loaded.\";\n",
       "      }\n",
       "    } else if (Date.now() < root._bokeh_timeout) {\n",
       "      setTimeout(display_loaded, 100)\n",
       "    }\n",
       "  }\n",
       "\n",
       "\n",
       "  function run_callbacks() {\n",
       "    try {\n",
       "      root._bokeh_onload_callbacks.forEach(function(callback) { callback() });\n",
       "    }\n",
       "    finally {\n",
       "      delete root._bokeh_onload_callbacks\n",
       "    }\n",
       "    console.info(\"Bokeh: all callbacks have finished\");\n",
       "  }\n",
       "\n",
       "  function load_libs(js_urls, callback) {\n",
       "    root._bokeh_onload_callbacks.push(callback);\n",
       "    if (root._bokeh_is_loading > 0) {\n",
       "      console.log(\"Bokeh: BokehJS is being loaded, scheduling callback at\", now());\n",
       "      return null;\n",
       "    }\n",
       "    if (js_urls == null || js_urls.length === 0) {\n",
       "      run_callbacks();\n",
       "      return null;\n",
       "    }\n",
       "    console.log(\"Bokeh: BokehJS not loaded, scheduling load and callback at\", now());\n",
       "    root._bokeh_is_loading = js_urls.length;\n",
       "    for (var i = 0; i < js_urls.length; i++) {\n",
       "      var url = js_urls[i];\n",
       "      var s = document.createElement('script');\n",
       "      s.src = url;\n",
       "      s.async = false;\n",
       "      s.onreadystatechange = s.onload = function() {\n",
       "        root._bokeh_is_loading--;\n",
       "        if (root._bokeh_is_loading === 0) {\n",
       "          console.log(\"Bokeh: all BokehJS libraries loaded\");\n",
       "          run_callbacks()\n",
       "        }\n",
       "      };\n",
       "      s.onerror = function() {\n",
       "        console.warn(\"failed to load library \" + url);\n",
       "      };\n",
       "      console.log(\"Bokeh: injecting script tag for BokehJS library: \", url);\n",
       "      document.getElementsByTagName(\"head\")[0].appendChild(s);\n",
       "    }\n",
       "  };var element = document.getElementById(\"42d9ddd8-0055-45af-88e0-6b5b865e2287\");\n",
       "  if (element == null) {\n",
       "    console.log(\"Bokeh: ERROR: autoload.js configured with elementid '42d9ddd8-0055-45af-88e0-6b5b865e2287' but no matching script tag was found. \")\n",
       "    return false;\n",
       "  }\n",
       "\n",
       "  var js_urls = [\"https://cdn.pydata.org/bokeh/release/bokeh-0.12.16.min.js\", \"https://cdn.pydata.org/bokeh/release/bokeh-widgets-0.12.16.min.js\", \"https://cdn.pydata.org/bokeh/release/bokeh-tables-0.12.16.min.js\", \"https://cdn.pydata.org/bokeh/release/bokeh-gl-0.12.16.min.js\"];\n",
       "\n",
       "  var inline_js = [\n",
       "    function(Bokeh) {\n",
       "      Bokeh.set_log_level(\"info\");\n",
       "    },\n",
       "    \n",
       "    function(Bokeh) {\n",
       "      \n",
       "    },\n",
       "    function(Bokeh) {\n",
       "      console.log(\"Bokeh: injecting CSS: https://cdn.pydata.org/bokeh/release/bokeh-0.12.16.min.css\");\n",
       "      Bokeh.embed.inject_css(\"https://cdn.pydata.org/bokeh/release/bokeh-0.12.16.min.css\");\n",
       "      console.log(\"Bokeh: injecting CSS: https://cdn.pydata.org/bokeh/release/bokeh-widgets-0.12.16.min.css\");\n",
       "      Bokeh.embed.inject_css(\"https://cdn.pydata.org/bokeh/release/bokeh-widgets-0.12.16.min.css\");\n",
       "      console.log(\"Bokeh: injecting CSS: https://cdn.pydata.org/bokeh/release/bokeh-tables-0.12.16.min.css\");\n",
       "      Bokeh.embed.inject_css(\"https://cdn.pydata.org/bokeh/release/bokeh-tables-0.12.16.min.css\");\n",
       "    }\n",
       "  ];\n",
       "\n",
       "  function run_inline_js() {\n",
       "    \n",
       "    if ((root.Bokeh !== undefined) || (force === true)) {\n",
       "      for (var i = 0; i < inline_js.length; i++) {\n",
       "        inline_js[i].call(root, root.Bokeh);\n",
       "      }if (force === true) {\n",
       "        display_loaded();\n",
       "      }} else if (Date.now() < root._bokeh_timeout) {\n",
       "      setTimeout(run_inline_js, 100);\n",
       "    } else if (!root._bokeh_failed_load) {\n",
       "      console.log(\"Bokeh: BokehJS failed to load within specified timeout.\");\n",
       "      root._bokeh_failed_load = true;\n",
       "    } else if (force !== true) {\n",
       "      var cell = $(document.getElementById(\"42d9ddd8-0055-45af-88e0-6b5b865e2287\")).parents('.cell').data().cell;\n",
       "      cell.output_area.append_execute_result(NB_LOAD_WARNING)\n",
       "    }\n",
       "\n",
       "  }\n",
       "\n",
       "  if (root._bokeh_is_loading === 0) {\n",
       "    console.log(\"Bokeh: BokehJS loaded, going straight to plotting\");\n",
       "    run_inline_js();\n",
       "  } else {\n",
       "    load_libs(js_urls, function() {\n",
       "      console.log(\"Bokeh: BokehJS plotting callback run at\", now());\n",
       "      run_inline_js();\n",
       "    });\n",
       "  }\n",
       "}(window));"
      ],
      "application/vnd.bokehjs_load.v0+json": "\n(function(root) {\n  function now() {\n    return new Date();\n  }\n\n  var force = true;\n\n  if (typeof (root._bokeh_onload_callbacks) === \"undefined\" || force === true) {\n    root._bokeh_onload_callbacks = [];\n    root._bokeh_is_loading = undefined;\n  }\n\n  \n\n  \n  if (typeof (root._bokeh_timeout) === \"undefined\" || force === true) {\n    root._bokeh_timeout = Date.now() + 5000;\n    root._bokeh_failed_load = false;\n  }\n\n  var NB_LOAD_WARNING = {'data': {'text/html':\n     \"<div style='background-color: #fdd'>\\n\"+\n     \"<p>\\n\"+\n     \"BokehJS does not appear to have successfully loaded. If loading BokehJS from CDN, this \\n\"+\n     \"may be due to a slow or bad network connection. Possible fixes:\\n\"+\n     \"</p>\\n\"+\n     \"<ul>\\n\"+\n     \"<li>re-rerun `output_notebook()` to attempt to load from CDN again, or</li>\\n\"+\n     \"<li>use INLINE resources instead, as so:</li>\\n\"+\n     \"</ul>\\n\"+\n     \"<code>\\n\"+\n     \"from bokeh.resources import INLINE\\n\"+\n     \"output_notebook(resources=INLINE)\\n\"+\n     \"</code>\\n\"+\n     \"</div>\"}};\n\n  function display_loaded() {\n    var el = document.getElementById(\"42d9ddd8-0055-45af-88e0-6b5b865e2287\");\n    if (el != null) {\n      el.textContent = \"BokehJS is loading...\";\n    }\n    if (root.Bokeh !== undefined) {\n      if (el != null) {\n        el.textContent = \"BokehJS \" + root.Bokeh.version + \" successfully loaded.\";\n      }\n    } else if (Date.now() < root._bokeh_timeout) {\n      setTimeout(display_loaded, 100)\n    }\n  }\n\n\n  function run_callbacks() {\n    try {\n      root._bokeh_onload_callbacks.forEach(function(callback) { callback() });\n    }\n    finally {\n      delete root._bokeh_onload_callbacks\n    }\n    console.info(\"Bokeh: all callbacks have finished\");\n  }\n\n  function load_libs(js_urls, callback) {\n    root._bokeh_onload_callbacks.push(callback);\n    if (root._bokeh_is_loading > 0) {\n      console.log(\"Bokeh: BokehJS is being loaded, scheduling callback at\", now());\n      return null;\n    }\n    if (js_urls == null || js_urls.length === 0) {\n      run_callbacks();\n      return null;\n    }\n    console.log(\"Bokeh: BokehJS not loaded, scheduling load and callback at\", now());\n    root._bokeh_is_loading = js_urls.length;\n    for (var i = 0; i < js_urls.length; i++) {\n      var url = js_urls[i];\n      var s = document.createElement('script');\n      s.src = url;\n      s.async = false;\n      s.onreadystatechange = s.onload = function() {\n        root._bokeh_is_loading--;\n        if (root._bokeh_is_loading === 0) {\n          console.log(\"Bokeh: all BokehJS libraries loaded\");\n          run_callbacks()\n        }\n      };\n      s.onerror = function() {\n        console.warn(\"failed to load library \" + url);\n      };\n      console.log(\"Bokeh: injecting script tag for BokehJS library: \", url);\n      document.getElementsByTagName(\"head\")[0].appendChild(s);\n    }\n  };var element = document.getElementById(\"42d9ddd8-0055-45af-88e0-6b5b865e2287\");\n  if (element == null) {\n    console.log(\"Bokeh: ERROR: autoload.js configured with elementid '42d9ddd8-0055-45af-88e0-6b5b865e2287' but no matching script tag was found. \")\n    return false;\n  }\n\n  var js_urls = [\"https://cdn.pydata.org/bokeh/release/bokeh-0.12.16.min.js\", \"https://cdn.pydata.org/bokeh/release/bokeh-widgets-0.12.16.min.js\", \"https://cdn.pydata.org/bokeh/release/bokeh-tables-0.12.16.min.js\", \"https://cdn.pydata.org/bokeh/release/bokeh-gl-0.12.16.min.js\"];\n\n  var inline_js = [\n    function(Bokeh) {\n      Bokeh.set_log_level(\"info\");\n    },\n    \n    function(Bokeh) {\n      \n    },\n    function(Bokeh) {\n      console.log(\"Bokeh: injecting CSS: https://cdn.pydata.org/bokeh/release/bokeh-0.12.16.min.css\");\n      Bokeh.embed.inject_css(\"https://cdn.pydata.org/bokeh/release/bokeh-0.12.16.min.css\");\n      console.log(\"Bokeh: injecting CSS: https://cdn.pydata.org/bokeh/release/bokeh-widgets-0.12.16.min.css\");\n      Bokeh.embed.inject_css(\"https://cdn.pydata.org/bokeh/release/bokeh-widgets-0.12.16.min.css\");\n      console.log(\"Bokeh: injecting CSS: https://cdn.pydata.org/bokeh/release/bokeh-tables-0.12.16.min.css\");\n      Bokeh.embed.inject_css(\"https://cdn.pydata.org/bokeh/release/bokeh-tables-0.12.16.min.css\");\n    }\n  ];\n\n  function run_inline_js() {\n    \n    if ((root.Bokeh !== undefined) || (force === true)) {\n      for (var i = 0; i < inline_js.length; i++) {\n        inline_js[i].call(root, root.Bokeh);\n      }if (force === true) {\n        display_loaded();\n      }} else if (Date.now() < root._bokeh_timeout) {\n      setTimeout(run_inline_js, 100);\n    } else if (!root._bokeh_failed_load) {\n      console.log(\"Bokeh: BokehJS failed to load within specified timeout.\");\n      root._bokeh_failed_load = true;\n    } else if (force !== true) {\n      var cell = $(document.getElementById(\"42d9ddd8-0055-45af-88e0-6b5b865e2287\")).parents('.cell').data().cell;\n      cell.output_area.append_execute_result(NB_LOAD_WARNING)\n    }\n\n  }\n\n  if (root._bokeh_is_loading === 0) {\n    console.log(\"Bokeh: BokehJS loaded, going straight to plotting\");\n    run_inline_js();\n  } else {\n    load_libs(js_urls, function() {\n      console.log(\"Bokeh: BokehJS plotting callback run at\", now());\n      run_inline_js();\n    });\n  }\n}(window));"
     },
     "metadata": {},
     "output_type": "display_data"
    }
   ],
   "source": [
    "from bokeh.io import show, output_notebook\n",
    "from bokeh.plotting import figure\n",
    "\n",
    "output_notebook()"
   ]
  },
  {
   "cell_type": "markdown",
   "metadata": {},
   "source": [
    "## Plotting from NetworkX\n",
    "\n",
    "The easiest way to plot network graphs with Bokeh is to use the `from_networkx` function. This function accepts any NetworkX graph and returns a Bokeh `GraphRenderer` that can be added to a plot. The `GraphRenderer` has `node_renderer` and `edge_renderer` properties that contain the Bokeh renderers that draw the nodes and edges, respectively. \n",
    "\n",
    "The example below shows a Bokeh plot of `nx.desargues_graph()`, setting some of the node and edge properties."
   ]
  },
  {
   "cell_type": "code",
   "execution_count": 13,
   "metadata": {},
   "outputs": [
    {
     "data": {
      "text/html": [
       "\n",
       "<div class=\"bk-root\">\n",
       "    <div class=\"bk-plotdiv\" id=\"49633d3d-c5d3-4b61-8d0e-7e6ac158c544\"></div>\n",
       "</div>"
      ]
     },
     "metadata": {},
     "output_type": "display_data"
    },
    {
     "data": {
      "application/javascript": [
       "(function(root) {\n",
       "  function embed_document(root) {\n",
       "    \n",
       "  var docs_json = {\"9aa0a479-056c-4805-b193-2cdc5887d702\":{\"roots\":{\"references\":[{\"attributes\":{\"edge_renderer\":{\"id\":\"36a2724f-326c-4970-b17b-a57610e3e2f6\",\"type\":\"GlyphRenderer\"},\"inspection_policy\":{\"id\":\"49f60678-9a33-402c-9ba5-e4822fbaeeaa\",\"type\":\"NodesOnly\"},\"layout_provider\":{\"id\":\"b0044914-76c1-4b1b-8f33-f94529d44fa2\",\"type\":\"StaticLayoutProvider\"},\"node_renderer\":{\"id\":\"bb434448-0c62-458c-81e1-150f48533ea1\",\"type\":\"GlyphRenderer\"},\"selection_policy\":{\"id\":\"606d8e68-0be2-4145-b091-f35aa17870ce\",\"type\":\"NodesOnly\"}},\"id\":\"163d1631-9e2c-48aa-8ce7-874043f276d1\",\"type\":\"GraphRenderer\"},{\"attributes\":{\"line_dash\":[2,2]},\"id\":\"3d185c55-aa7a-4026-8bfb-ee073e106e26\",\"type\":\"MultiLine\"},{\"attributes\":{},\"id\":\"606d8e68-0be2-4145-b091-f35aa17870ce\",\"type\":\"NodesOnly\"},{\"attributes\":{\"callback\":null,\"end\":2,\"start\":-2},\"id\":\"87360e3e-ec52-4bc8-90d2-4b27c1239d26\",\"type\":\"Range1d\"},{\"attributes\":{\"source\":{\"id\":\"2ef074d4-432c-431b-af6d-d366216509f8\",\"type\":\"ColumnDataSource\"}},\"id\":\"c55a650f-5d70-4afb-9831-a582e5f3add0\",\"type\":\"CDSView\"},{\"attributes\":{\"graph_layout\":{\"0\":[0.805309014329299,-1.6317207257729411],\"1\":[0.4302842367562127,-0.6737289813768506],\"10\":[-0.6586770778038129,-0.7348172138059187],\"11\":[-1.0437149874624059,0.3554816696058127],\"12\":[-1.6862656259051148,0.9097177441339606],\"13\":[-0.8087157070736166,1.621137935879492],\"14\":[0.3558466098283923,1.8000000000000003],\"15\":[0.6257499295798145,0.7684965046580318],\"16\":[-0.3749076331380988,-3.920638357302116e-06],\"17\":[-1.5917113611492177,-0.2110939458819272],\"18\":[-1.1550131644894057,-1.247405278740139],\"19\":[-0.3571068836279772,-1.7813140130912357],\"2\":[0.21195925081154587,0.5612609156166001],\"3\":[1.149168635934834,1.2435762091669955],\"4\":[1.594463925909406,0.21201917027893635],\"5\":[1.690202137391519,-0.8947866174870434],\"6\":[1.0375324440715687,-0.3332856141501051],\"7\":[-0.19423271057237293,-0.5905807539324971],\"8\":[-0.4157343223491167,0.6418443496498389],\"9\":[0.3855632889585481,-0.01479743411265263]}},\"id\":\"b0044914-76c1-4b1b-8f33-f94529d44fa2\",\"type\":\"StaticLayoutProvider\"},{\"attributes\":{\"renderers\":[{\"id\":\"163d1631-9e2c-48aa-8ce7-874043f276d1\",\"type\":\"GraphRenderer\"}],\"title\":{\"id\":\"c876e924-23f1-4c33-a7ef-969e7a4a815d\",\"type\":\"Title\"},\"toolbar\":{\"id\":\"5e1b95cf-b149-42d8-92b3-16e255f86e71\",\"type\":\"Toolbar\"},\"x_range\":{\"id\":\"87360e3e-ec52-4bc8-90d2-4b27c1239d26\",\"type\":\"Range1d\"},\"x_scale\":{\"id\":\"3bd87bb3-4653-4709-b441-18688cad633e\",\"type\":\"LinearScale\"},\"y_range\":{\"id\":\"640c765f-ddd7-4bd3-b59f-92c776664ac8\",\"type\":\"Range1d\"},\"y_scale\":{\"id\":\"0d3962ce-2c82-414f-a0d2-22e116e21e94\",\"type\":\"LinearScale\"}},\"id\":\"0ffae103-5338-4704-b2dd-4a6a757ed8b0\",\"type\":\"Plot\"},{\"attributes\":{\"active_drag\":\"auto\",\"active_inspect\":\"auto\",\"active_scroll\":\"auto\",\"active_tap\":\"auto\"},\"id\":\"5e1b95cf-b149-42d8-92b3-16e255f86e71\",\"type\":\"Toolbar\"},{\"attributes\":{},\"id\":\"0d3962ce-2c82-414f-a0d2-22e116e21e94\",\"type\":\"LinearScale\"},{\"attributes\":{\"callback\":null,\"data\":{\"end\":[1,19,5,2,16,3,11,4,14,5,9,6,7,15,8,18,9,13,10,11,19,12,13,17,14,15,16,17,18,19],\"start\":[0,0,0,1,1,2,2,3,3,4,4,5,6,6,7,7,8,8,9,10,10,11,12,12,13,14,15,16,17,18]},\"selected\":{\"id\":\"e4366932-c222-4f68-9256-404f06700885\",\"type\":\"Selection\"},\"selection_policy\":{\"id\":\"f067feb9-23f6-4be3-8650-7f6cb56c4b06\",\"type\":\"UnionRenderers\"}},\"id\":\"2ef074d4-432c-431b-af6d-d366216509f8\",\"type\":\"ColumnDataSource\"},{\"attributes\":{},\"id\":\"3bd87bb3-4653-4709-b441-18688cad633e\",\"type\":\"LinearScale\"},{\"attributes\":{\"source\":{\"id\":\"1934006e-8ee6-4378-9f66-7b289267fbc8\",\"type\":\"ColumnDataSource\"}},\"id\":\"dde53c47-1c57-4697-96bb-0dc1bdd57ea5\",\"type\":\"CDSView\"},{\"attributes\":{\"data_source\":{\"id\":\"2ef074d4-432c-431b-af6d-d366216509f8\",\"type\":\"ColumnDataSource\"},\"glyph\":{\"id\":\"3d185c55-aa7a-4026-8bfb-ee073e106e26\",\"type\":\"MultiLine\"},\"hover_glyph\":null,\"muted_glyph\":null,\"view\":{\"id\":\"c55a650f-5d70-4afb-9831-a582e5f3add0\",\"type\":\"CDSView\"}},\"id\":\"36a2724f-326c-4970-b17b-a57610e3e2f6\",\"type\":\"GlyphRenderer\"},{\"attributes\":{\"data_source\":{\"id\":\"1934006e-8ee6-4378-9f66-7b289267fbc8\",\"type\":\"ColumnDataSource\"},\"glyph\":{\"id\":\"5f5bdf63-98b5-4254-8acc-de53036154bd\",\"type\":\"Circle\"},\"hover_glyph\":null,\"muted_glyph\":null,\"view\":{\"id\":\"dde53c47-1c57-4697-96bb-0dc1bdd57ea5\",\"type\":\"CDSView\"}},\"id\":\"bb434448-0c62-458c-81e1-150f48533ea1\",\"type\":\"GlyphRenderer\"},{\"attributes\":{},\"id\":\"49f60678-9a33-402c-9ba5-e4822fbaeeaa\",\"type\":\"NodesOnly\"},{\"attributes\":{\"fill_color\":{\"value\":\"orange\"},\"size\":{\"units\":\"screen\",\"value\":20}},\"id\":\"5f5bdf63-98b5-4254-8acc-de53036154bd\",\"type\":\"Circle\"},{\"attributes\":{},\"id\":\"30179924-e22d-4a1a-8849-60f1572dc852\",\"type\":\"Selection\"},{\"attributes\":{},\"id\":\"f067feb9-23f6-4be3-8650-7f6cb56c4b06\",\"type\":\"UnionRenderers\"},{\"attributes\":{},\"id\":\"e4366932-c222-4f68-9256-404f06700885\",\"type\":\"Selection\"},{\"attributes\":{\"callback\":null,\"data\":{\"index\":[0,1,2,3,4,5,6,7,8,9,10,11,12,13,14,15,16,17,18,19]},\"selected\":{\"id\":\"30179924-e22d-4a1a-8849-60f1572dc852\",\"type\":\"Selection\"},\"selection_policy\":{\"id\":\"43330c20-e4d8-423e-b672-3dd264ab0d44\",\"type\":\"UnionRenderers\"}},\"id\":\"1934006e-8ee6-4378-9f66-7b289267fbc8\",\"type\":\"ColumnDataSource\"},{\"attributes\":{\"callback\":null,\"end\":2,\"start\":-2},\"id\":\"640c765f-ddd7-4bd3-b59f-92c776664ac8\",\"type\":\"Range1d\"},{\"attributes\":{\"plot\":null,\"text\":\"\"},\"id\":\"c876e924-23f1-4c33-a7ef-969e7a4a815d\",\"type\":\"Title\"},{\"attributes\":{},\"id\":\"43330c20-e4d8-423e-b672-3dd264ab0d44\",\"type\":\"UnionRenderers\"}],\"root_ids\":[\"0ffae103-5338-4704-b2dd-4a6a757ed8b0\"]},\"title\":\"Bokeh Application\",\"version\":\"0.12.16\"}};\n",
       "  var render_items = [{\"docid\":\"9aa0a479-056c-4805-b193-2cdc5887d702\",\"elementid\":\"49633d3d-c5d3-4b61-8d0e-7e6ac158c544\",\"modelid\":\"0ffae103-5338-4704-b2dd-4a6a757ed8b0\"}];\n",
       "  root.Bokeh.embed.embed_items_notebook(docs_json, render_items);\n",
       "\n",
       "  }\n",
       "  if (root.Bokeh !== undefined) {\n",
       "    embed_document(root);\n",
       "  } else {\n",
       "    var attempts = 0;\n",
       "    var timer = setInterval(function(root) {\n",
       "      if (root.Bokeh !== undefined) {\n",
       "        embed_document(root);\n",
       "        clearInterval(timer);\n",
       "      }\n",
       "      attempts++;\n",
       "      if (attempts > 100) {\n",
       "        console.log(\"Bokeh: ERROR: Unable to run BokehJS code because BokehJS library is missing\")\n",
       "        clearInterval(timer);\n",
       "      }\n",
       "    }, 10, root)\n",
       "  }\n",
       "})(window);"
      ],
      "application/vnd.bokehjs_exec.v0+json": ""
     },
     "metadata": {
      "application/vnd.bokehjs_exec.v0+json": {
       "id": "0ffae103-5338-4704-b2dd-4a6a757ed8b0"
      }
     },
     "output_type": "display_data"
    }
   ],
   "source": [
    "import networkx as nx\n",
    "from bokeh.models import Range1d, Plot\n",
    "from bokeh.models.graphs import from_networkx\n",
    "\n",
    "G = nx.desargues_graph()\n",
    "\n",
    "# We could use figure here but don't want all the axes and titles\n",
    "plot = Plot(x_range=Range1d(-2, 2), y_range=Range1d(-2, 2))\n",
    "\n",
    "# Create a Bokeh graph from the NetworkX input using nx.spring_layout\n",
    "graph = from_networkx(G, nx.spring_layout, scale=1.8, center=(0,0))\n",
    "plot.renderers.append(graph)\n",
    "\n",
    "# Set some of the default node glyph (Circle) properties\n",
    "graph.node_renderer.glyph.update(size=20, fill_color=\"orange\")\n",
    "\n",
    "# Set some edge properties too\n",
    "graph.edge_renderer.glyph.line_dash = [2,2]\n",
    "\n",
    "show(plot)"
   ]
  },
  {
   "cell_type": "code",
   "execution_count": 14,
   "metadata": {},
   "outputs": [],
   "source": [
    "# Exercise: try a different NetworkX layout, and set some properies on `graph.edge_renderer.glyph` \n",
    "# and `graph.node_renderer.glyph`"
   ]
  },
  {
   "cell_type": "markdown",
   "metadata": {},
   "source": [
    "## Adding Extra Data Columns.\n",
    "\n",
    "The `node_renderer` and `edge_renderer` properties of the graph renderer each have a `data_source` that is a standard `ColumnDataSource` that you can add new data to, e.g. to drive a hover tool, or to specify colors for the renderer. The example below demonstates both."
   ]
  },
  {
   "cell_type": "code",
   "execution_count": 15,
   "metadata": {},
   "outputs": [
    {
     "data": {
      "text/html": [
       "\n",
       "<div class=\"bk-root\">\n",
       "    <div class=\"bk-plotdiv\" id=\"c383f762-9e73-45f1-9a36-945924a7c6f4\"></div>\n",
       "</div>"
      ]
     },
     "metadata": {},
     "output_type": "display_data"
    },
    {
     "data": {
      "application/javascript": [
       "(function(root) {\n",
       "  function embed_document(root) {\n",
       "    \n",
       "  var docs_json = {\"9a65bd4e-b7df-4422-8649-5580416957b7\":{\"roots\":{\"references\":[{\"attributes\":{\"fill_color\":{\"field\":\"colors\"},\"size\":{\"units\":\"screen\",\"value\":20}},\"id\":\"9469f45b-8b96-4a44-863a-e26bc7d87bb5\",\"type\":\"Circle\"},{\"attributes\":{\"active_drag\":\"auto\",\"active_inspect\":\"auto\",\"active_scroll\":\"auto\",\"active_tap\":\"auto\",\"tools\":[{\"id\":\"7d428526-3e96-42ae-b439-de53658a4b21\",\"type\":\"HoverTool\"}]},\"id\":\"631204ac-772b-4806-a4e6-f57378de7fed\",\"type\":\"Toolbar\"},{\"attributes\":{},\"id\":\"e2edac31-ae3f-4e20-9d2d-4fa42299d264\",\"type\":\"NodesOnly\"},{\"attributes\":{\"callback\":null,\"data\":{\"colors\":[\"#1f77b4\",\"#aec7e8\",\"#ff7f0e\",\"#ffbb78\",\"#2ca02c\",\"#98df8a\",\"#d62728\",\"#ff9896\",\"#9467bd\",\"#c5b0d5\",\"#8c564b\",\"#c49c94\",\"#e377c2\",\"#f7b6d2\",\"#7f7f7f\",\"#c7c7c7\",\"#bcbd22\",\"#dbdb8d\",\"#17becf\",\"#9edae5\"],\"index\":[0,1,2,3,4,5,6,7,8,9,10,11,12,13,14,15,16,17,18,19]},\"selected\":{\"id\":\"ccec5e03-10d5-4a67-ab94-4c637b53a908\",\"type\":\"Selection\"},\"selection_policy\":{\"id\":\"6c0883f0-f05c-4bf1-bf45-437b14ab5d42\",\"type\":\"UnionRenderers\"}},\"id\":\"b542daf2-b2a1-4b5b-ae52-20a444bae3e5\",\"type\":\"ColumnDataSource\"},{\"attributes\":{},\"id\":\"80cfd5ca-c9bc-4f99-a8cb-29bbf2454970\",\"type\":\"Selection\"},{\"attributes\":{\"edge_renderer\":{\"id\":\"f5dec066-53c3-4b47-ad7c-59854a5cbe9e\",\"type\":\"GlyphRenderer\"},\"inspection_policy\":{\"id\":\"6c829532-f3b6-4277-953e-fbb542f08b4f\",\"type\":\"NodesOnly\"},\"layout_provider\":{\"id\":\"a787aff1-9646-44fc-a837-08a3117703af\",\"type\":\"StaticLayoutProvider\"},\"node_renderer\":{\"id\":\"6d66ee31-7c8c-4c10-b480-a0f9a610e43b\",\"type\":\"GlyphRenderer\"},\"selection_policy\":{\"id\":\"e2edac31-ae3f-4e20-9d2d-4fa42299d264\",\"type\":\"NodesOnly\"}},\"id\":\"3017380b-e607-4138-9426-d6efb0748d17\",\"type\":\"GraphRenderer\"},{\"attributes\":{\"graph_layout\":{\"0\":[1.2554346890083694,0.6283216785758213],\"1\":[0.5711391671142738,1.5181477636863279],\"10\":[-0.542824039390428,-0.16670735032208117],\"11\":[-1.1867556438330087,0.8535751395808173],\"12\":[-1.8000000000000003,0.15863076867719877],\"13\":[-1.2481345733994726,-0.635293398884039],\"14\":[-0.3202654293447871,0.20870241121356436],\"15\":[0.5396417611330013,0.17434414611408483],\"16\":[-0.16073687095860156,0.9208264682016787],\"17\":[-1.0575311519231663,0.1558716241676627],\"18\":[-0.39427165850083556,-0.8253881352572148],\"19\":[0.3268218803340073,-0.21198503912265904],\"2\":[-0.2874204893938201,1.57161768287506],\"3\":[0.3879753659937236,0.822836254804209],\"4\":[1.0470264457978171,-0.14743119166378113],\"5\":[1.7997329701283424,-0.16480425093904852],\"6\":[1.1784098257983957,-0.8521900411842562],\"7\":[0.2927926647972334,-1.5679202358325597],\"8\":[-0.5567367152674731,-1.5298153504941596],\"9\":[0.1557018019064386,-0.9113389441966262]}},\"id\":\"a787aff1-9646-44fc-a837-08a3117703af\",\"type\":\"StaticLayoutProvider\"},{\"attributes\":{},\"id\":\"08591778-e61d-4957-971c-411062017e6c\",\"type\":\"MultiLine\"},{\"attributes\":{},\"id\":\"3d3509ee-283f-432e-82b5-90e1a70e6c4f\",\"type\":\"LinearScale\"},{\"attributes\":{},\"id\":\"93fcbda6-166f-41c2-8e77-76dde9300609\",\"type\":\"LinearScale\"},{\"attributes\":{\"callback\":null,\"data\":{\"end\":[1,19,5,2,16,3,11,4,14,5,9,6,7,15,8,18,9,13,10,11,19,12,13,17,14,15,16,17,18,19],\"start\":[0,0,0,1,1,2,2,3,3,4,4,5,6,6,7,7,8,8,9,10,10,11,12,12,13,14,15,16,17,18]},\"selected\":{\"id\":\"80cfd5ca-c9bc-4f99-a8cb-29bbf2454970\",\"type\":\"Selection\"},\"selection_policy\":{\"id\":\"92aa6b0c-f075-49ff-bd48-699f06f53db0\",\"type\":\"UnionRenderers\"}},\"id\":\"8fca41d4-c0f2-4c58-b808-26ac2b822f90\",\"type\":\"ColumnDataSource\"},{\"attributes\":{\"callback\":null,\"renderers\":\"auto\",\"tooltips\":\"index: @index\"},\"id\":\"7d428526-3e96-42ae-b439-de53658a4b21\",\"type\":\"HoverTool\"},{\"attributes\":{},\"id\":\"ccec5e03-10d5-4a67-ab94-4c637b53a908\",\"type\":\"Selection\"},{\"attributes\":{\"plot\":null,\"text\":\"\"},\"id\":\"686d2d3f-b399-4e29-b990-62f94e4d0297\",\"type\":\"Title\"},{\"attributes\":{\"data_source\":{\"id\":\"b542daf2-b2a1-4b5b-ae52-20a444bae3e5\",\"type\":\"ColumnDataSource\"},\"glyph\":{\"id\":\"9469f45b-8b96-4a44-863a-e26bc7d87bb5\",\"type\":\"Circle\"},\"hover_glyph\":null,\"muted_glyph\":null,\"view\":{\"id\":\"f09a5071-2024-48f9-9110-708f53ab780d\",\"type\":\"CDSView\"}},\"id\":\"6d66ee31-7c8c-4c10-b480-a0f9a610e43b\",\"type\":\"GlyphRenderer\"},{\"attributes\":{},\"id\":\"92aa6b0c-f075-49ff-bd48-699f06f53db0\",\"type\":\"UnionRenderers\"},{\"attributes\":{\"callback\":null,\"end\":2,\"start\":-2},\"id\":\"7474bb53-e525-4460-8051-d4c4f1242f51\",\"type\":\"Range1d\"},{\"attributes\":{\"renderers\":[{\"id\":\"3017380b-e607-4138-9426-d6efb0748d17\",\"type\":\"GraphRenderer\"}],\"title\":{\"id\":\"686d2d3f-b399-4e29-b990-62f94e4d0297\",\"type\":\"Title\"},\"toolbar\":{\"id\":\"631204ac-772b-4806-a4e6-f57378de7fed\",\"type\":\"Toolbar\"},\"x_range\":{\"id\":\"bb920c22-2518-458e-9795-48761b96b45c\",\"type\":\"Range1d\"},\"x_scale\":{\"id\":\"3d3509ee-283f-432e-82b5-90e1a70e6c4f\",\"type\":\"LinearScale\"},\"y_range\":{\"id\":\"7474bb53-e525-4460-8051-d4c4f1242f51\",\"type\":\"Range1d\"},\"y_scale\":{\"id\":\"93fcbda6-166f-41c2-8e77-76dde9300609\",\"type\":\"LinearScale\"}},\"id\":\"a1fc1c70-1f98-4e70-b3fd-dc1814e6d4e8\",\"type\":\"Plot\"},{\"attributes\":{\"source\":{\"id\":\"8fca41d4-c0f2-4c58-b808-26ac2b822f90\",\"type\":\"ColumnDataSource\"}},\"id\":\"ef03c0f5-c4e4-439d-8068-be3e2fe2e9e0\",\"type\":\"CDSView\"},{\"attributes\":{},\"id\":\"6c0883f0-f05c-4bf1-bf45-437b14ab5d42\",\"type\":\"UnionRenderers\"},{\"attributes\":{\"source\":{\"id\":\"b542daf2-b2a1-4b5b-ae52-20a444bae3e5\",\"type\":\"ColumnDataSource\"}},\"id\":\"f09a5071-2024-48f9-9110-708f53ab780d\",\"type\":\"CDSView\"},{\"attributes\":{\"callback\":null,\"end\":2,\"start\":-2},\"id\":\"bb920c22-2518-458e-9795-48761b96b45c\",\"type\":\"Range1d\"},{\"attributes\":{\"data_source\":{\"id\":\"8fca41d4-c0f2-4c58-b808-26ac2b822f90\",\"type\":\"ColumnDataSource\"},\"glyph\":{\"id\":\"08591778-e61d-4957-971c-411062017e6c\",\"type\":\"MultiLine\"},\"hover_glyph\":null,\"muted_glyph\":null,\"view\":{\"id\":\"ef03c0f5-c4e4-439d-8068-be3e2fe2e9e0\",\"type\":\"CDSView\"}},\"id\":\"f5dec066-53c3-4b47-ad7c-59854a5cbe9e\",\"type\":\"GlyphRenderer\"},{\"attributes\":{},\"id\":\"6c829532-f3b6-4277-953e-fbb542f08b4f\",\"type\":\"NodesOnly\"}],\"root_ids\":[\"a1fc1c70-1f98-4e70-b3fd-dc1814e6d4e8\"]},\"title\":\"Bokeh Application\",\"version\":\"0.12.16\"}};\n",
       "  var render_items = [{\"docid\":\"9a65bd4e-b7df-4422-8649-5580416957b7\",\"elementid\":\"c383f762-9e73-45f1-9a36-945924a7c6f4\",\"modelid\":\"a1fc1c70-1f98-4e70-b3fd-dc1814e6d4e8\"}];\n",
       "  root.Bokeh.embed.embed_items_notebook(docs_json, render_items);\n",
       "\n",
       "  }\n",
       "  if (root.Bokeh !== undefined) {\n",
       "    embed_document(root);\n",
       "  } else {\n",
       "    var attempts = 0;\n",
       "    var timer = setInterval(function(root) {\n",
       "      if (root.Bokeh !== undefined) {\n",
       "        embed_document(root);\n",
       "        clearInterval(timer);\n",
       "      }\n",
       "      attempts++;\n",
       "      if (attempts > 100) {\n",
       "        console.log(\"Bokeh: ERROR: Unable to run BokehJS code because BokehJS library is missing\")\n",
       "        clearInterval(timer);\n",
       "      }\n",
       "    }, 10, root)\n",
       "  }\n",
       "})(window);"
      ],
      "application/vnd.bokehjs_exec.v0+json": ""
     },
     "metadata": {
      "application/vnd.bokehjs_exec.v0+json": {
       "id": "a1fc1c70-1f98-4e70-b3fd-dc1814e6d4e8"
      }
     },
     "output_type": "display_data"
    }
   ],
   "source": [
    "from bokeh.models import HoverTool\n",
    "from bokeh.palettes import Category20_20\n",
    "\n",
    "G = nx.desargues_graph() # always 20 nodes\n",
    "\n",
    "# We could use figure here but don't want all the axes and titles\n",
    "plot = Plot(x_range=Range1d(-2, 2), y_range=Range1d(-2, 2))\n",
    "\n",
    "# Create a Bokeh graph from the NetworkX input using nx.spring_layout\n",
    "graph = from_networkx(G, nx.spring_layout, scale=1.8, center=(0,0))\n",
    "plot.renderers.append(graph)\n",
    "\n",
    "# Add some new columns to the node renderer data source\n",
    "graph.node_renderer.data_source.data['index'] = list(range(len(G)))\n",
    "graph.node_renderer.data_source.data['colors'] = Category20_20\n",
    "\n",
    "graph.node_renderer.glyph.update(size=20, fill_color=\"colors\")\n",
    "\n",
    "plot.add_tools(HoverTool(tooltips=\"index: @index\"))\n",
    "\n",
    "show(plot)"
   ]
  },
  {
   "cell_type": "markdown",
   "metadata": {},
   "source": [
    "## Inspection and Selection Policies\n",
    "\n",
    "Bokeh graph renderers have `inspection_policy` and `selection_policy` properties. These can be used to control how hover inspections highlight the graph, or how selection tools make selections. These properties may be set to any of the inpection policies in `bokeh.graphs`. For instance, if a user hovers over a node, you may wish to highlight all the associated edges as well. This can be accomplished by setting the inspection policy:\n",
    "\n",
    "    graph.inspection_policy = NodesAndLinkedEdges()\n",
    "    \n",
    "as the example below demonstrates."
   ]
  },
  {
   "cell_type": "code",
   "execution_count": 17,
   "metadata": {},
   "outputs": [
    {
     "data": {
      "text/html": [
       "\n",
       "<div class=\"bk-root\">\n",
       "    <div class=\"bk-plotdiv\" id=\"8be5ebf1-a995-4a42-8fa7-ee7bd460df4e\"></div>\n",
       "</div>"
      ]
     },
     "metadata": {},
     "output_type": "display_data"
    },
    {
     "data": {
      "application/javascript": [
       "(function(root) {\n",
       "  function embed_document(root) {\n",
       "    \n",
       "  var docs_json = {\"f7aa60d1-caca-41ab-97ad-2f7aa110c8c0\":{\"roots\":{\"references\":[{\"attributes\":{\"active_drag\":\"auto\",\"active_inspect\":\"auto\",\"active_scroll\":\"auto\",\"active_tap\":\"auto\",\"tools\":[{\"id\":\"8fea3ebc-2e65-4b45-925c-f716e99bdbfc\",\"type\":\"HoverTool\"}]},\"id\":\"cc542af9-c878-42af-8e65-3ffe3591b47d\",\"type\":\"Toolbar\"},{\"attributes\":{},\"id\":\"580b8333-7298-495e-a9e0-656ef5a3c888\",\"type\":\"Selection\"},{\"attributes\":{},\"id\":\"b85ee035-a7ee-437c-a993-bc69aa59cb13\",\"type\":\"UnionRenderers\"},{\"attributes\":{},\"id\":\"b32bf2db-4e7e-4496-9bfe-48fa7f56861c\",\"type\":\"LinearScale\"},{\"attributes\":{\"line_alpha\":{\"value\":0.8},\"line_color\":{\"value\":\"#cccccc\"},\"line_width\":{\"value\":2}},\"id\":\"f1fbce54-5326-4b17-8e86-b6c7084de3e0\",\"type\":\"MultiLine\"},{\"attributes\":{},\"id\":\"c3bd33a3-753a-42d7-a715-6876dc26c5f4\",\"type\":\"Selection\"},{\"attributes\":{\"edge_renderer\":{\"id\":\"379c2024-92e2-4cf7-b763-9a1d870bf64a\",\"type\":\"GlyphRenderer\"},\"inspection_policy\":{\"id\":\"4683eca7-fe30-49a5-9c11-58de1c906a58\",\"type\":\"NodesAndLinkedEdges\"},\"layout_provider\":{\"id\":\"e6867f9a-c607-4a14-9bf4-898e11a84966\",\"type\":\"StaticLayoutProvider\"},\"node_renderer\":{\"id\":\"eb87acd8-cbed-4326-b6d8-6ab421072b8e\",\"type\":\"GlyphRenderer\"},\"selection_policy\":{\"id\":\"18f13626-3bfa-441a-ab8c-9b4768ba8299\",\"type\":\"NodesOnly\"}},\"id\":\"5624415f-fab2-494b-8b77-ef9b0a9096d9\",\"type\":\"GraphRenderer\"},{\"attributes\":{\"fill_color\":{\"value\":\"#2b83ba\"},\"size\":{\"units\":\"screen\",\"value\":25}},\"id\":\"f9624fa2-6969-4c7c-b96a-273c2f8cdd91\",\"type\":\"Circle\"},{\"attributes\":{\"renderers\":[{\"id\":\"5624415f-fab2-494b-8b77-ef9b0a9096d9\",\"type\":\"GraphRenderer\"}],\"title\":{\"id\":\"0fd11dd3-6976-4dd3-9992-cce8364201de\",\"type\":\"Title\"},\"toolbar\":{\"id\":\"cc542af9-c878-42af-8e65-3ffe3591b47d\",\"type\":\"Toolbar\"},\"x_range\":{\"id\":\"3fd91372-680b-4275-97ad-74e0499ad5da\",\"type\":\"Range1d\"},\"x_scale\":{\"id\":\"b32bf2db-4e7e-4496-9bfe-48fa7f56861c\",\"type\":\"LinearScale\"},\"y_range\":{\"id\":\"61afff27-532e-473b-a446-8ac82091b736\",\"type\":\"Range1d\"},\"y_scale\":{\"id\":\"e7b0e627-4ff4-47be-bcf9-6a6ff7c60206\",\"type\":\"LinearScale\"}},\"id\":\"ef782f5a-3cb0-407a-943b-0fdda6116ff6\",\"type\":\"Plot\"},{\"attributes\":{\"source\":{\"id\":\"c1eea7e6-f6ec-41e5-9116-a183dfa5cc94\",\"type\":\"ColumnDataSource\"}},\"id\":\"cf6990cc-e587-47fa-a158-6d4fb8673e9d\",\"type\":\"CDSView\"},{\"attributes\":{},\"id\":\"18f13626-3bfa-441a-ab8c-9b4768ba8299\",\"type\":\"NodesOnly\"},{\"attributes\":{\"graph_layout\":{\"0\":[-0.6010053161257953,-0.33290645075270736],\"1\":[0.4521695133336637,0.032375828672767074],\"10\":[-0.04027559361447405,-1.5739132191777816],\"11\":[-0.23024585964485195,-0.9460470737390858],\"12\":[-0.8961997286585375,-0.7753524073129671],\"13\":[-0.024553278558057574,-0.055330781979744274],\"14\":[0.5544499542042527,-0.8025260056563854],\"2\":[-0.24708523272336433,-0.38233001443594766],\"3\":[0.68633267100137,1.1084651210748366],\"4\":[-0.03335796059786834,1.4187046797061333],\"5\":[1.2646361489562925,1.8],\"6\":[-0.6721932258908936,-0.06528502273646243],\"7\":[0.2474856465609154,0.6372052541710185],\"8\":[-0.46696664776924574,0.6435155564103354],\"9\":[0.006808909526595011,-0.7065754642440065]}},\"id\":\"e6867f9a-c607-4a14-9bf4-898e11a84966\",\"type\":\"StaticLayoutProvider\"},{\"attributes\":{},\"id\":\"4683eca7-fe30-49a5-9c11-58de1c906a58\",\"type\":\"NodesAndLinkedEdges\"},{\"attributes\":{\"callback\":null,\"end\":2,\"start\":-2},\"id\":\"61afff27-532e-473b-a446-8ac82091b736\",\"type\":\"Range1d\"},{\"attributes\":{\"source\":{\"id\":\"ba5627c7-20f5-4b23-bb21-17a938928a1b\",\"type\":\"ColumnDataSource\"}},\"id\":\"1d8a0d92-3e97-4fc1-bf67-81a017f7d107\",\"type\":\"CDSView\"},{\"attributes\":{\"callback\":null,\"renderers\":\"auto\",\"tooltips\":null},\"id\":\"8fea3ebc-2e65-4b45-925c-f716e99bdbfc\",\"type\":\"HoverTool\"},{\"attributes\":{},\"id\":\"e7b0e627-4ff4-47be-bcf9-6a6ff7c60206\",\"type\":\"LinearScale\"},{\"attributes\":{\"data_source\":{\"id\":\"ba5627c7-20f5-4b23-bb21-17a938928a1b\",\"type\":\"ColumnDataSource\"},\"glyph\":{\"id\":\"f1fbce54-5326-4b17-8e86-b6c7084de3e0\",\"type\":\"MultiLine\"},\"hover_glyph\":{\"id\":\"59d49b59-a028-4a32-9173-252b209658e1\",\"type\":\"MultiLine\"},\"muted_glyph\":null,\"view\":{\"id\":\"1d8a0d92-3e97-4fc1-bf67-81a017f7d107\",\"type\":\"CDSView\"}},\"id\":\"379c2024-92e2-4cf7-b763-9a1d870bf64a\",\"type\":\"GlyphRenderer\"},{\"attributes\":{\"line_color\":{\"value\":\"#abdda4\"},\"line_width\":{\"value\":4}},\"id\":\"59d49b59-a028-4a32-9173-252b209658e1\",\"type\":\"MultiLine\"},{\"attributes\":{\"callback\":null,\"end\":2,\"start\":-2},\"id\":\"3fd91372-680b-4275-97ad-74e0499ad5da\",\"type\":\"Range1d\"},{\"attributes\":{\"callback\":null,\"data\":{\"end\":[8,9,11,2,6,7,14,9,2,3,13,12,13,5,4,7,8,13,9,12,8,8,13,10,11,14,11,13,14,12],\"start\":[0,0,0,0,0,1,1,1,1,1,1,2,2,3,3,3,4,6,6,6,6,7,7,9,9,9,10,11,11,11]},\"selected\":{\"id\":\"c3bd33a3-753a-42d7-a715-6876dc26c5f4\",\"type\":\"Selection\"},\"selection_policy\":{\"id\":\"5f80b741-e8fb-48d3-9db4-73510ee8e2cf\",\"type\":\"UnionRenderers\"}},\"id\":\"ba5627c7-20f5-4b23-bb21-17a938928a1b\",\"type\":\"ColumnDataSource\"},{\"attributes\":{\"data_source\":{\"id\":\"c1eea7e6-f6ec-41e5-9116-a183dfa5cc94\",\"type\":\"ColumnDataSource\"},\"glyph\":{\"id\":\"f9624fa2-6969-4c7c-b96a-273c2f8cdd91\",\"type\":\"Circle\"},\"hover_glyph\":{\"id\":\"45f33cea-2786-494f-90fe-49f8eae13fe3\",\"type\":\"Circle\"},\"muted_glyph\":null,\"view\":{\"id\":\"cf6990cc-e587-47fa-a158-6d4fb8673e9d\",\"type\":\"CDSView\"}},\"id\":\"eb87acd8-cbed-4326-b6d8-6ab421072b8e\",\"type\":\"GlyphRenderer\"},{\"attributes\":{\"callback\":null,\"data\":{\"index\":[0,1,2,3,4,5,6,7,8,9,10,11,12,13,14]},\"selected\":{\"id\":\"580b8333-7298-495e-a9e0-656ef5a3c888\",\"type\":\"Selection\"},\"selection_policy\":{\"id\":\"b85ee035-a7ee-437c-a993-bc69aa59cb13\",\"type\":\"UnionRenderers\"}},\"id\":\"c1eea7e6-f6ec-41e5-9116-a183dfa5cc94\",\"type\":\"ColumnDataSource\"},{\"attributes\":{\"plot\":null,\"text\":\"\"},\"id\":\"0fd11dd3-6976-4dd3-9992-cce8364201de\",\"type\":\"Title\"},{\"attributes\":{\"fill_color\":{\"value\":\"#abdda4\"},\"size\":{\"units\":\"screen\",\"value\":25}},\"id\":\"45f33cea-2786-494f-90fe-49f8eae13fe3\",\"type\":\"Circle\"},{\"attributes\":{},\"id\":\"5f80b741-e8fb-48d3-9db4-73510ee8e2cf\",\"type\":\"UnionRenderers\"}],\"root_ids\":[\"ef782f5a-3cb0-407a-943b-0fdda6116ff6\"]},\"title\":\"Bokeh Application\",\"version\":\"0.12.16\"}};\n",
       "  var render_items = [{\"docid\":\"f7aa60d1-caca-41ab-97ad-2f7aa110c8c0\",\"elementid\":\"8be5ebf1-a995-4a42-8fa7-ee7bd460df4e\",\"modelid\":\"ef782f5a-3cb0-407a-943b-0fdda6116ff6\"}];\n",
       "  root.Bokeh.embed.embed_items_notebook(docs_json, render_items);\n",
       "\n",
       "  }\n",
       "  if (root.Bokeh !== undefined) {\n",
       "    embed_document(root);\n",
       "  } else {\n",
       "    var attempts = 0;\n",
       "    var timer = setInterval(function(root) {\n",
       "      if (root.Bokeh !== undefined) {\n",
       "        embed_document(root);\n",
       "        clearInterval(timer);\n",
       "      }\n",
       "      attempts++;\n",
       "      if (attempts > 100) {\n",
       "        console.log(\"Bokeh: ERROR: Unable to run BokehJS code because BokehJS library is missing\")\n",
       "        clearInterval(timer);\n",
       "      }\n",
       "    }, 10, root)\n",
       "  }\n",
       "})(window);"
      ],
      "application/vnd.bokehjs_exec.v0+json": ""
     },
     "metadata": {
      "application/vnd.bokehjs_exec.v0+json": {
       "id": "ef782f5a-3cb0-407a-943b-0fdda6116ff6"
      }
     },
     "output_type": "display_data"
    }
   ],
   "source": [
    "from bokeh.models.graphs import NodesAndLinkedEdges\n",
    "from bokeh.models import Circle, HoverTool, MultiLine\n",
    "\n",
    "G = nx.gnm_random_graph(15, 30)\n",
    "\n",
    "# We could use figure here but don't want all the axes and titles\n",
    "plot = Plot(x_range=Range1d(-2, 2), y_range=Range1d(-2 ,2))\n",
    "\n",
    "# Create a Bokeh graph from the NetworkX input using nx.spring_layout\n",
    "graph = from_networkx(G, nx.spring_layout, scale=1.8, center=(0,0))\n",
    "plot.renderers.append(graph)\n",
    "\n",
    "# Blue circles for nodes, and light grey lines for edges\n",
    "graph.node_renderer.glyph = Circle(size=25, fill_color='#2b83ba')\n",
    "graph.edge_renderer.glyph = MultiLine(line_color=\"#cccccc\", line_alpha=0.8, line_width=2)\n",
    "\n",
    "# green hover for both nodes and edges\n",
    "graph.node_renderer.hover_glyph = Circle(size=25, fill_color='#abdda4')\n",
    "graph.edge_renderer.hover_glyph = MultiLine(line_color='#abdda4', line_width=4)\n",
    "\n",
    "# When we hover over nodes, highlight adjecent edges too\n",
    "graph.inspection_policy = NodesAndLinkedEdges()\n",
    "\n",
    "plot.add_tools(HoverTool(tooltips=None))\n",
    "\n",
    "show(plot)"
   ]
  },
  {
   "cell_type": "code",
   "execution_count": null,
   "metadata": {},
   "outputs": [],
   "source": []
  }
 ],
 "metadata": {
  "kernelspec": {
   "display_name": "Python 3",
   "language": "python",
   "name": "python3"
  },
  "language_info": {
   "codemirror_mode": {
    "name": "ipython",
    "version": 3
   },
   "file_extension": ".py",
   "mimetype": "text/x-python",
   "name": "python",
   "nbconvert_exporter": "python",
   "pygments_lexer": "ipython3",
   "version": "3.6.5"
  }
 },
 "nbformat": 4,
 "nbformat_minor": 2
}
