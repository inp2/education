{
 "cells": [
  {
   "cell_type": "markdown",
   "metadata": {},
   "source": [
    "# Introduction to Python"
   ]
  },
  {
   "cell_type": "markdown",
   "metadata": {},
   "source": [
    "## Install Python\n",
    "\n",
    "<a href=\"https://realpython.com/installing-python/\">Install Python 3</a>"
   ]
  },
  {
   "cell_type": "markdown",
   "metadata": {},
   "source": [
    "## Hello World"
   ]
  },
  {
   "cell_type": "markdown",
   "metadata": {},
   "source": [
    "1. Open your favorite text editor or IDE\n",
    "    * Emacs\n",
    "    * Vim\n",
    "    * Notepad\n",
    "    * PyCharm\n",
    "    * IDLE\n",
    "    * PyDev\n",
    "    * Spyder\n",
    "    * ipython\n",
    " 2. Create the file helloworld.py\n",
    " "
   ]
  },
  {
   "cell_type": "code",
   "execution_count": 5,
   "metadata": {},
   "outputs": [
    {
     "name": "stdout",
     "output_type": "stream",
     "text": [
      "Hello, World!\n"
     ]
    }
   ],
   "source": [
    "print(\"Hello, World!\")"
   ]
  },
  {
   "cell_type": "markdown",
   "metadata": {},
   "source": [
    "# Data Structures"
   ]
  },
  {
   "cell_type": "markdown",
   "metadata": {},
   "source": [
    "## Lists\n",
    "\n",
    "Lists are collections of heterogeneous objects.  They can be appended to, iterated over, etc, and we will use them for lots of fun things.  They're useful especially when you don't know in advance how big something is going to be or what types of objects will be in it.\n",
    "\n",
    "We'll set a simple one up that includes the numbers 1 through 9."
   ]
  },
  {
   "cell_type": "code",
   "execution_count": 2,
   "metadata": {},
   "outputs": [],
   "source": [
    "a = [1, 2, 3, 4, 5, 6, 7, 8, 9]"
   ]
  },
  {
   "cell_type": "markdown",
   "metadata": {},
   "source": [
    "Now let's call `dir` on it to see what things we can do to it.  Note that this will include lots of things starting with two underscores; for the most part these are \"hidden\" methods that we will use implicitly when we do things.  The main methods you'll use directly are the ones that don't start with underscores."
   ]
  },
  {
   "cell_type": "code",
   "execution_count": 3,
   "metadata": {},
   "outputs": [
    {
     "data": {
      "text/plain": [
       "['__add__',\n",
       " '__class__',\n",
       " '__contains__',\n",
       " '__delattr__',\n",
       " '__delitem__',\n",
       " '__dir__',\n",
       " '__doc__',\n",
       " '__eq__',\n",
       " '__format__',\n",
       " '__ge__',\n",
       " '__getattribute__',\n",
       " '__getitem__',\n",
       " '__gt__',\n",
       " '__hash__',\n",
       " '__iadd__',\n",
       " '__imul__',\n",
       " '__init__',\n",
       " '__init_subclass__',\n",
       " '__iter__',\n",
       " '__le__',\n",
       " '__len__',\n",
       " '__lt__',\n",
       " '__mul__',\n",
       " '__ne__',\n",
       " '__new__',\n",
       " '__reduce__',\n",
       " '__reduce_ex__',\n",
       " '__repr__',\n",
       " '__reversed__',\n",
       " '__rmul__',\n",
       " '__setattr__',\n",
       " '__setitem__',\n",
       " '__sizeof__',\n",
       " '__str__',\n",
       " '__subclasshook__',\n",
       " 'append',\n",
       " 'clear',\n",
       " 'copy',\n",
       " 'count',\n",
       " 'extend',\n",
       " 'index',\n",
       " 'insert',\n",
       " 'pop',\n",
       " 'remove',\n",
       " 'reverse',\n",
       " 'sort']"
      ]
     },
     "execution_count": 3,
     "metadata": {},
     "output_type": "execute_result"
    }
   ],
   "source": [
    "dir(a)"
   ]
  },
  {
   "cell_type": "markdown",
   "metadata": {},
   "source": [
    "Lists can be reversed *in-place*.  This means the return value is empty (`None`) but that the list has been changed.  An important thing that this means is that lists are *mutable* -- you can change them without copying them into a new thing."
   ]
  },
  {
   "cell_type": "code",
   "execution_count": 4,
   "metadata": {},
   "outputs": [],
   "source": [
    "a.reverse()"
   ]
  },
  {
   "cell_type": "code",
   "execution_count": 5,
   "metadata": {},
   "outputs": [
    {
     "data": {
      "text/plain": [
       "[9, 8, 7, 6, 5, 4, 3, 2, 1]"
      ]
     },
     "execution_count": 5,
     "metadata": {},
     "output_type": "execute_result"
    }
   ],
   "source": [
    "a"
   ]
  },
  {
   "cell_type": "markdown",
   "metadata": {},
   "source": [
    "We can sort them, too.  Here the sorting is trivial -- it'll end up just reversing it back to what it was.  But, we can sort a more complex list as well."
   ]
  },
  {
   "cell_type": "code",
   "execution_count": 6,
   "metadata": {},
   "outputs": [],
   "source": [
    "a.sort()"
   ]
  },
  {
   "cell_type": "code",
   "execution_count": 7,
   "metadata": {},
   "outputs": [
    {
     "data": {
      "text/plain": [
       "[1, 2, 3, 4, 5, 6, 7, 8, 9]"
      ]
     },
     "execution_count": 7,
     "metadata": {},
     "output_type": "execute_result"
    }
   ],
   "source": [
    "a"
   ]
  },
  {
   "cell_type": "markdown",
   "metadata": {},
   "source": [
    "Because lists are mutable, we can insert things into them.  Lists are zero-indexed, which means that the very first place is 0, not 1.  This makes insertion a lot easier if you think about the position you're inserting at -- 0 is the first (so it pre-empts the first item in the list) and so on.  Here, we'll insert at position 3, which is between the numbers 3 and 4 in this list."
   ]
  },
  {
   "cell_type": "code",
   "execution_count": 8,
   "metadata": {},
   "outputs": [],
   "source": [
    "a.insert(3, 3.9)"
   ]
  },
  {
   "cell_type": "code",
   "execution_count": 9,
   "metadata": {},
   "outputs": [
    {
     "data": {
      "text/plain": [
       "[1, 2, 3, 3.9, 4, 5, 6, 7, 8, 9]"
      ]
     },
     "execution_count": 9,
     "metadata": {},
     "output_type": "execute_result"
    }
   ],
   "source": [
    "a"
   ]
  },
  {
   "cell_type": "markdown",
   "metadata": {},
   "source": [
    "We can also append values."
   ]
  },
  {
   "cell_type": "code",
   "execution_count": 10,
   "metadata": {},
   "outputs": [],
   "source": [
    "a.append(10)"
   ]
  },
  {
   "cell_type": "code",
   "execution_count": 11,
   "metadata": {},
   "outputs": [
    {
     "data": {
      "text/plain": [
       "[1, 2, 3, 3.9, 4, 5, 6, 7, 8, 9, 10]"
      ]
     },
     "execution_count": 11,
     "metadata": {},
     "output_type": "execute_result"
    }
   ],
   "source": [
    "a"
   ]
  },
  {
   "cell_type": "markdown",
   "metadata": {},
   "source": [
    "We can also remove an item; note that using `pop` here will not only remove the item, but return it as a return value.  If we were to use `del` then it would not return it."
   ]
  },
  {
   "cell_type": "code",
   "execution_count": 17,
   "metadata": {},
   "outputs": [
    {
     "data": {
      "text/plain": [
       "3.9"
      ]
     },
     "execution_count": 17,
     "metadata": {},
     "output_type": "execute_result"
    }
   ],
   "source": [
    "a.pop(3)"
   ]
  },
  {
   "cell_type": "code",
   "execution_count": 18,
   "metadata": {},
   "outputs": [
    {
     "data": {
      "text/plain": [
       "[1, 2, 3, 4, 5, 6, 7, 8, 9, 10]"
      ]
     },
     "execution_count": 18,
     "metadata": {},
     "output_type": "execute_result"
    }
   ],
   "source": [
    "a"
   ]
  },
  {
   "cell_type": "markdown",
   "metadata": {},
   "source": [
    "We can also use negative indices.  This means \"the last\" item."
   ]
  },
  {
   "cell_type": "code",
   "execution_count": 19,
   "metadata": {},
   "outputs": [
    {
     "data": {
      "text/plain": [
       "10"
      ]
     },
     "execution_count": 19,
     "metadata": {},
     "output_type": "execute_result"
    }
   ],
   "source": [
    "a.pop(-1)"
   ]
  },
  {
   "cell_type": "markdown",
   "metadata": {},
   "source": [
    "### Slices\n",
    "\n",
    "We can also slice lists.  This uses the square brackets `[]` to supply a start index, a stop index, and a step.  This lets us choose subsets.  If you leave one of the items out, it defaults to the maximum selection -- i.e., first, last, and step of 1."
   ]
  },
  {
   "cell_type": "code",
   "execution_count": 20,
   "metadata": {},
   "outputs": [
    {
     "data": {
      "text/plain": [
       "[2, 4]"
      ]
     },
     "execution_count": 20,
     "metadata": {},
     "output_type": "execute_result"
    }
   ],
   "source": [
    "a[1:5:2]"
   ]
  },
  {
   "cell_type": "markdown",
   "metadata": {},
   "source": [
    "Here we just start at the beginning and take every other item."
   ]
  },
  {
   "cell_type": "code",
   "execution_count": 21,
   "metadata": {},
   "outputs": [
    {
     "data": {
      "text/plain": [
       "[1, 3, 5, 7, 9]"
      ]
     },
     "execution_count": 21,
     "metadata": {},
     "output_type": "execute_result"
    }
   ],
   "source": [
    "a[::2]"
   ]
  },
  {
   "cell_type": "markdown",
   "metadata": {},
   "source": [
    "Every other item, starting from the second:"
   ]
  },
  {
   "cell_type": "code",
   "execution_count": 22,
   "metadata": {},
   "outputs": [
    {
     "data": {
      "text/plain": [
       "[2, 4, 6, 8]"
      ]
     },
     "execution_count": 22,
     "metadata": {},
     "output_type": "execute_result"
    }
   ],
   "source": [
    "a[1::2]"
   ]
  },
  {
   "cell_type": "markdown",
   "metadata": {},
   "source": [
    "We can also iterate in reverse:"
   ]
  },
  {
   "cell_type": "code",
   "execution_count": 23,
   "metadata": {},
   "outputs": [
    {
     "data": {
      "text/plain": [
       "[9, 8, 7, 6, 5, 4, 3, 2, 1]"
      ]
     },
     "execution_count": 23,
     "metadata": {},
     "output_type": "execute_result"
    }
   ],
   "source": [
    "a[::-1]"
   ]
  },
  {
   "cell_type": "markdown",
   "metadata": {},
   "source": [
    "In reverse, but every second."
   ]
  },
  {
   "cell_type": "code",
   "execution_count": 24,
   "metadata": {},
   "outputs": [
    {
     "data": {
      "text/plain": [
       "[9, 7, 5, 3, 1]"
      ]
     },
     "execution_count": 24,
     "metadata": {},
     "output_type": "execute_result"
    }
   ],
   "source": [
    "a[::-2]"
   ]
  },
  {
   "cell_type": "markdown",
   "metadata": {},
   "source": [
    "Lists can include objects of different types."
   ]
  },
  {
   "cell_type": "code",
   "execution_count": 25,
   "metadata": {},
   "outputs": [],
   "source": [
    "a.append(\"blast off\")"
   ]
  },
  {
   "cell_type": "code",
   "execution_count": 26,
   "metadata": {},
   "outputs": [
    {
     "data": {
      "text/plain": [
       "[1, 2, 3, 4, 5, 6, 7, 8, 9, 'blast off']"
      ]
     },
     "execution_count": 26,
     "metadata": {},
     "output_type": "execute_result"
    }
   ],
   "source": [
    "a"
   ]
  },
  {
   "cell_type": "code",
   "execution_count": 27,
   "metadata": {},
   "outputs": [
    {
     "data": {
      "text/plain": [
       "'blast off'"
      ]
     },
     "execution_count": 27,
     "metadata": {},
     "output_type": "execute_result"
    }
   ],
   "source": [
    "a.pop(-1)"
   ]
  },
  {
   "cell_type": "markdown",
   "metadata": {},
   "source": [
    "A common problem you may run into is that sometimes, numbers look like strings.  This can cause problems, as we'll see:"
   ]
  },
  {
   "cell_type": "code",
   "execution_count": 28,
   "metadata": {},
   "outputs": [],
   "source": [
    "a.append('10')"
   ]
  },
  {
   "cell_type": "code",
   "execution_count": 29,
   "metadata": {},
   "outputs": [
    {
     "data": {
      "text/plain": [
       "[1, 2, 3, 4, 5, 6, 7, 8, 9, '10']"
      ]
     },
     "execution_count": 29,
     "metadata": {},
     "output_type": "execute_result"
    }
   ],
   "source": [
    "a"
   ]
  },
  {
   "cell_type": "markdown",
   "metadata": {},
   "source": [
    "If it were the number 10, this would work.  Unfortunately, strings and numbers can't be sorted together."
   ]
  },
  {
   "cell_type": "code",
   "execution_count": 30,
   "metadata": {},
   "outputs": [
    {
     "ename": "TypeError",
     "evalue": "'<' not supported between instances of 'str' and 'int'",
     "output_type": "error",
     "traceback": [
      "\u001b[0;31m---------------------------------------------------------------------------\u001b[0m",
      "\u001b[0;31mTypeError\u001b[0m                                 Traceback (most recent call last)",
      "\u001b[0;32m<ipython-input-30-2ed0d7de6146>\u001b[0m in \u001b[0;36m<module>\u001b[0;34m()\u001b[0m\n\u001b[0;32m----> 1\u001b[0;31m \u001b[0ma\u001b[0m\u001b[0;34m.\u001b[0m\u001b[0msort\u001b[0m\u001b[0;34m(\u001b[0m\u001b[0;34m)\u001b[0m\u001b[0;34m\u001b[0m\u001b[0m\n\u001b[0m",
      "\u001b[0;31mTypeError\u001b[0m: '<' not supported between instances of 'str' and 'int'"
     ]
    }
   ],
   "source": [
    "a.sort()"
   ]
  },
  {
   "cell_type": "markdown",
   "metadata": {},
   "source": [
    "## Dictionaries\n",
    "\n",
    "Dictionaries (`dict` objects) are hashes, where a key is looked up to find a value.  Both keys and values can be of hetereogeneous types within a given dict; there are some restrictions on what can be used as a key.  (The type must be \"hashable,\" which among other things means that it can't be a list.)\n",
    "\n",
    "We can initialize an empty dict with the curly brackets, `{}`, and then we can assign things to this dict."
   ]
  },
  {
   "cell_type": "code",
   "execution_count": 31,
   "metadata": {},
   "outputs": [],
   "source": [
    "b = {}"
   ]
  },
  {
   "cell_type": "markdown",
   "metadata": {},
   "source": [
    "Here, we can just use an integer key that gets us to a string."
   ]
  },
  {
   "cell_type": "code",
   "execution_count": 32,
   "metadata": {},
   "outputs": [],
   "source": [
    "b[0] = 'a'"
   ]
  },
  {
   "cell_type": "markdown",
   "metadata": {},
   "source": [
    "If we look at the dict, we can see what it includes."
   ]
  },
  {
   "cell_type": "code",
   "execution_count": 33,
   "metadata": {},
   "outputs": [
    {
     "data": {
      "text/plain": [
       "{0: 'a'}"
      ]
     },
     "execution_count": 33,
     "metadata": {},
     "output_type": "execute_result"
    }
   ],
   "source": [
    "b"
   ]
  },
  {
   "cell_type": "markdown",
   "metadata": {},
   "source": [
    "We can see a view on what all the keys are using `.keys()`:"
   ]
  },
  {
   "cell_type": "code",
   "execution_count": 34,
   "metadata": {},
   "outputs": [
    {
     "data": {
      "text/plain": [
       "dict_keys([0])"
      ]
     },
     "execution_count": 34,
     "metadata": {},
     "output_type": "execute_result"
    }
   ],
   "source": [
    "b.keys()"
   ]
  },
  {
   "cell_type": "markdown",
   "metadata": {},
   "source": [
    "If we just want to see what all the values are, we can use `.values()`:"
   ]
  },
  {
   "cell_type": "code",
   "execution_count": 35,
   "metadata": {},
   "outputs": [
    {
     "data": {
      "text/plain": [
       "dict_values(['a'])"
      ]
     },
     "execution_count": 35,
     "metadata": {},
     "output_type": "execute_result"
    }
   ],
   "source": [
    "b.values()"
   ]
  },
  {
   "cell_type": "markdown",
   "metadata": {},
   "source": [
    "If we ask for a key that doesn't exist, we get a `KeyError`:"
   ]
  },
  {
   "cell_type": "code",
   "execution_count": 36,
   "metadata": {},
   "outputs": [
    {
     "ename": "KeyError",
     "evalue": "1",
     "output_type": "error",
     "traceback": [
      "\u001b[0;31m---------------------------------------------------------------------------\u001b[0m",
      "\u001b[0;31mKeyError\u001b[0m                                  Traceback (most recent call last)",
      "\u001b[0;32m<ipython-input-36-15aef1b45a99>\u001b[0m in \u001b[0;36m<module>\u001b[0;34m()\u001b[0m\n\u001b[0;32m----> 1\u001b[0;31m \u001b[0mb\u001b[0m\u001b[0;34m[\u001b[0m\u001b[0;36m1\u001b[0m\u001b[0;34m]\u001b[0m\u001b[0;34m\u001b[0m\u001b[0m\n\u001b[0m",
      "\u001b[0;31mKeyError\u001b[0m: 1"
     ]
    }
   ],
   "source": [
    "b[1]"
   ]
  },
  {
   "cell_type": "markdown",
   "metadata": {},
   "source": [
    "Earlier, I noted that lists can't be used as *keys* in dicts, but they can be used as *values*.  For example:"
   ]
  },
  {
   "cell_type": "code",
   "execution_count": 37,
   "metadata": {},
   "outputs": [],
   "source": [
    "b = {0: [1, 2, 3], 1: [4, 5, 6], 2: [7, 8, 9]}"
   ]
  },
  {
   "cell_type": "code",
   "execution_count": 38,
   "metadata": {},
   "outputs": [
    {
     "data": {
      "text/plain": [
       "{0: [1, 2, 3], 1: [4, 5, 6], 2: [7, 8, 9]}"
      ]
     },
     "execution_count": 38,
     "metadata": {},
     "output_type": "execute_result"
    }
   ],
   "source": [
    "b"
   ]
  },
  {
   "cell_type": "markdown",
   "metadata": {},
   "source": [
    "We can also iterate over the keys in a dict, simply by iterating over the dict itself.  This statement will return each of the keys in turn, and we can see what value it is associated with."
   ]
  },
  {
   "cell_type": "code",
   "execution_count": 39,
   "metadata": {},
   "outputs": [
    {
     "name": "stdout",
     "output_type": "stream",
     "text": [
      "[1, 2, 3]\n",
      "[4, 5, 6]\n",
      "[7, 8, 9]\n"
     ]
    }
   ],
   "source": [
    "for key in b:\n",
    "    print(b[key])"
   ]
  },
  {
   "cell_type": "markdown",
   "metadata": {},
   "source": [
    "## Sets\n",
    "\n",
    "Sometimes, we need to keep track of all unique values in something.  This is where sets come in.  These are unsorted objects that only contain one of every item.  This means you can do neat set operations on them.  Let's initialize two sets that overlap:"
   ]
  },
  {
   "cell_type": "code",
   "execution_count": 40,
   "metadata": {},
   "outputs": [],
   "source": [
    "c = set([1,2,3,4,5])\n",
    "d = set([4,5,6,7,8])"
   ]
  },
  {
   "cell_type": "markdown",
   "metadata": {},
   "source": [
    "We can now subtract one from the other, to see all objects in one but not the other."
   ]
  },
  {
   "cell_type": "code",
   "execution_count": 41,
   "metadata": {},
   "outputs": [
    {
     "data": {
      "text/plain": [
       "{1, 2, 3}"
      ]
     },
     "execution_count": 41,
     "metadata": {},
     "output_type": "execute_result"
    }
   ],
   "source": [
    "c - d"
   ]
  },
  {
   "cell_type": "markdown",
   "metadata": {},
   "source": [
    "We can also union them:"
   ]
  },
  {
   "cell_type": "code",
   "execution_count": 42,
   "metadata": {},
   "outputs": [],
   "source": [
    "e = c.union(d)"
   ]
  },
  {
   "cell_type": "code",
   "execution_count": 43,
   "metadata": {},
   "outputs": [
    {
     "data": {
      "text/plain": [
       "{1, 2, 3, 4, 5, 6, 7, 8}"
      ]
     },
     "execution_count": 43,
     "metadata": {},
     "output_type": "execute_result"
    }
   ],
   "source": [
    "e"
   ]
  },
  {
   "cell_type": "markdown",
   "metadata": {},
   "source": [
    "An interesting component of sets is that they accept iterables.  This means that if you supply to them strings, they will look at each character of the string as an independent object.  So we can create two sets from two strings, and see what they contain -- all the unique values in each of the strings."
   ]
  },
  {
   "cell_type": "code",
   "execution_count": 44,
   "metadata": {},
   "outputs": [],
   "source": [
    "s1 = \"Hello there, how are you?\"\n",
    "s2 = \"I am fine, how are you doing today?\"\n",
    "v1 = set(s1)\n",
    "v2 = set(s2)"
   ]
  },
  {
   "cell_type": "code",
   "execution_count": 45,
   "metadata": {},
   "outputs": [
    {
     "data": {
      "text/plain": [
       "{' ', ',', '?', 'H', 'a', 'e', 'h', 'l', 'o', 'r', 't', 'u', 'w', 'y'}"
      ]
     },
     "execution_count": 45,
     "metadata": {},
     "output_type": "execute_result"
    }
   ],
   "source": [
    "v1"
   ]
  },
  {
   "cell_type": "code",
   "execution_count": 46,
   "metadata": {},
   "outputs": [
    {
     "data": {
      "text/plain": [
       "{' ',\n",
       " ',',\n",
       " '?',\n",
       " 'I',\n",
       " 'a',\n",
       " 'd',\n",
       " 'e',\n",
       " 'f',\n",
       " 'g',\n",
       " 'h',\n",
       " 'i',\n",
       " 'm',\n",
       " 'n',\n",
       " 'o',\n",
       " 'r',\n",
       " 't',\n",
       " 'u',\n",
       " 'w',\n",
       " 'y'}"
      ]
     },
     "execution_count": 46,
     "metadata": {},
     "output_type": "execute_result"
    }
   ],
   "source": [
    "v2"
   ]
  },
  {
   "cell_type": "markdown",
   "metadata": {},
   "source": [
    "Let's see how many there are in each:"
   ]
  },
  {
   "cell_type": "code",
   "execution_count": 47,
   "metadata": {},
   "outputs": [
    {
     "data": {
      "text/plain": [
       "(25, 14)"
      ]
     },
     "execution_count": 47,
     "metadata": {},
     "output_type": "execute_result"
    }
   ],
   "source": [
    "len(s1), len(v1)"
   ]
  },
  {
   "cell_type": "code",
   "execution_count": 48,
   "metadata": {},
   "outputs": [
    {
     "data": {
      "text/plain": [
       "(35, 19)"
      ]
     },
     "execution_count": 48,
     "metadata": {},
     "output_type": "execute_result"
    }
   ],
   "source": [
    "len(s2), len(v2)"
   ]
  },
  {
   "cell_type": "markdown",
   "metadata": {},
   "source": [
    "If we combine, we can see how many unique characters in the two strings combined there are:"
   ]
  },
  {
   "cell_type": "code",
   "execution_count": 49,
   "metadata": {},
   "outputs": [
    {
     "data": {
      "text/plain": [
       "21"
      ]
     },
     "execution_count": 49,
     "metadata": {},
     "output_type": "execute_result"
    }
   ],
   "source": [
    "len(v1.union(v2))"
   ]
  },
  {
   "cell_type": "markdown",
   "metadata": {},
   "source": [
    "## Iteration\n",
    "\n",
    "We can use the `for` construct to iterate over objects.  Depending on the object type, this has different meaning.  If we iterate over a list, we get each item."
   ]
  },
  {
   "cell_type": "code",
   "execution_count": 50,
   "metadata": {},
   "outputs": [
    {
     "name": "stdout",
     "output_type": "stream",
     "text": [
      "1\n",
      "2\n",
      "3\n",
      "4\n",
      "5\n",
      "6\n",
      "7\n",
      "8\n",
      "9\n",
      "10\n"
     ]
    }
   ],
   "source": [
    "for value in a:\n",
    "    print(value)"
   ]
  },
  {
   "cell_type": "markdown",
   "metadata": {},
   "source": [
    "If we iterate over a dictionary, we get the keys.  We can also explicitly iterate over keys:"
   ]
  },
  {
   "cell_type": "code",
   "execution_count": 51,
   "metadata": {},
   "outputs": [
    {
     "name": "stdout",
     "output_type": "stream",
     "text": [
      "[1, 2, 3]\n",
      "[4, 5, 6]\n",
      "[7, 8, 9]\n"
     ]
    }
   ],
   "source": [
    "for name in b.keys():\n",
    "    print(b[name])"
   ]
  },
  {
   "cell_type": "markdown",
   "metadata": {},
   "source": [
    "If we iterate over a set, we get all the values in that set.  Note, however, that this iteration order is not guaranteed to be consistent, and should not be relied upon."
   ]
  },
  {
   "cell_type": "code",
   "execution_count": 52,
   "metadata": {},
   "outputs": [
    {
     "name": "stdout",
     "output_type": "stream",
     "text": [
      "a\n",
      "h\n",
      ",\n",
      "y\n",
      "o\n",
      "u\n",
      "H\n",
      "w\n",
      " \n",
      "?\n",
      "l\n",
      "r\n",
      "t\n",
      "e\n"
     ]
    }
   ],
   "source": [
    "for value in v1:\n",
    "    print(value)"
   ]
  },
  {
   "cell_type": "markdown",
   "metadata": {},
   "source": [
    "# Dataset 1: Building Inventory in IL\n",
    "\n",
    "We will start out using a dataset from the [Illinois Open Data](http://data.illinois.gov/) repository about the buildings under state ownership in Illinois.  You can download it here: https://data.illinois.gov/Housing/Building-Inventory/utd5-tdr2 by clicking \"Export\" or by going to our [class data repository](https://girder.hub.yt/#collection/588b64f44085f90001229e95/folder/588b650e4085f90001229e96).\n",
    "\n",
    "At this point in the class, we will be utilizing very simple data reading and visualization techniques, so that we have the opportunity to see basic data structures, simple visualization, and so forth, before we start getting into pandas and other more advanced libraries.\n",
    "\n",
    "We will use the built-in csv module to read in the data."
   ]
  },
  {
   "cell_type": "code",
   "execution_count": 56,
   "metadata": {},
   "outputs": [],
   "source": [
    "import csv"
   ]
  },
  {
   "cell_type": "markdown",
   "metadata": {},
   "source": [
    "Here, we'll use `next` to get the first line, then we will proceed to read the rest.  The first line in this file is the header."
   ]
  },
  {
   "cell_type": "code",
   "execution_count": 57,
   "metadata": {},
   "outputs": [],
   "source": [
    "f = open(\"data/Building_Inventory.csv\")\n",
    "csv_reader = csv.reader(f)\n",
    "header = next(csv_reader)"
   ]
  },
  {
   "cell_type": "code",
   "execution_count": 58,
   "metadata": {},
   "outputs": [
    {
     "data": {
      "text/plain": [
       "['Agency Name',\n",
       " 'Location Name',\n",
       " 'Address',\n",
       " 'City',\n",
       " 'Zip code',\n",
       " 'County',\n",
       " 'Congress Dist',\n",
       " 'Congressional Full Name',\n",
       " 'Rep Dist',\n",
       " 'Rep Full Name',\n",
       " 'Senate Dist',\n",
       " 'Senator Full Name',\n",
       " 'Bldg Status',\n",
       " 'Year Acquired',\n",
       " 'Year Constructed',\n",
       " 'Square Footage',\n",
       " 'Total Floors',\n",
       " 'Floors Above Grade',\n",
       " 'Floors Below Grade',\n",
       " 'Usage Description',\n",
       " 'Usage Description 2',\n",
       " 'Usage Description 3']"
      ]
     },
     "execution_count": 58,
     "metadata": {},
     "output_type": "execute_result"
    }
   ],
   "source": [
    "header"
   ]
  },
  {
   "cell_type": "markdown",
   "metadata": {},
   "source": [
    "We will now pre-initialize a dict with the header values so that we can subsequently iterate and fill it.  This will help us transform from a row-based store to a column-based store."
   ]
  },
  {
   "cell_type": "code",
   "execution_count": 59,
   "metadata": {},
   "outputs": [
    {
     "data": {
      "text/plain": [
       "{'Agency Name': [],\n",
       " 'Location Name': [],\n",
       " 'Address': [],\n",
       " 'City': [],\n",
       " 'Zip code': [],\n",
       " 'County': [],\n",
       " 'Congress Dist': [],\n",
       " 'Congressional Full Name': [],\n",
       " 'Rep Dist': [],\n",
       " 'Rep Full Name': [],\n",
       " 'Senate Dist': [],\n",
       " 'Senator Full Name': [],\n",
       " 'Bldg Status': [],\n",
       " 'Year Acquired': [],\n",
       " 'Year Constructed': [],\n",
       " 'Square Footage': [],\n",
       " 'Total Floors': [],\n",
       " 'Floors Above Grade': [],\n",
       " 'Floors Below Grade': [],\n",
       " 'Usage Description': [],\n",
       " 'Usage Description 2': [],\n",
       " 'Usage Description 3': []}"
      ]
     },
     "execution_count": 59,
     "metadata": {},
     "output_type": "execute_result"
    }
   ],
   "source": [
    "data = {}\n",
    "for name in header:\n",
    "    data[name] = []\n",
    "data"
   ]
  },
  {
   "cell_type": "markdown",
   "metadata": {},
   "source": [
    "We're going to use `zip` to simultaneously iterate over two iterables; this works like follows, where you can see it \"zip\" up the two items and yield each in turn."
   ]
  },
  {
   "cell_type": "code",
   "execution_count": 60,
   "metadata": {},
   "outputs": [
    {
     "name": "stdout",
     "output_type": "stream",
     "text": [
      "('a', 1)\n",
      "('b', 2)\n",
      "('c', 3)\n",
      "('d', 4)\n"
     ]
    }
   ],
   "source": [
    "list1 = ['a', 'b', 'c', 'd']\n",
    "list2 = [1, 2, 3, 4]\n",
    "for v in zip(list1, list2):\n",
    "    print(v)"
   ]
  },
  {
   "cell_type": "markdown",
   "metadata": {},
   "source": [
    "Now, for every row, we append to the appropriate list."
   ]
  },
  {
   "cell_type": "code",
   "execution_count": 61,
   "metadata": {},
   "outputs": [],
   "source": [
    "for row in csv_reader:\n",
    "    for name, value in zip(header, row):\n",
    "        data[name].append(value)"
   ]
  },
  {
   "cell_type": "markdown",
   "metadata": {},
   "source": [
    "This gives us results like this:"
   ]
  },
  {
   "cell_type": "code",
   "execution_count": 62,
   "metadata": {},
   "outputs": [
    {
     "data": {
      "text/plain": [
       "['61501',\n",
       " '61501',\n",
       " '61501',\n",
       " '61501',\n",
       " '61501',\n",
       " '61501',\n",
       " '62938',\n",
       " '62938',\n",
       " '61373',\n",
       " '61373',\n",
       " '61373',\n",
       " '61373',\n",
       " '62231',\n",
       " '62311',\n",
       " '62311',\n",
       " '62311',\n",
       " '62311',\n",
       " '62311',\n",
       " '62311',\n",
       " '62311',\n",
       " '62311',\n",
       " '62534',\n",
       " '62534',\n",
       " '60420',\n",
       " '60432',\n",
       " '62203',\n",
       " '61844',\n",
       " '62454',\n",
       " '61341',\n",
       " '62832',\n",
       " '62832',\n",
       " '62832',\n",
       " '60466',\n",
       " '60466',\n",
       " '60466',\n",
       " '62685',\n",
       " '62707',\n",
       " '61943',\n",
       " '61943',\n",
       " '61943',\n",
       " '61943',\n",
       " '61943',\n",
       " '61943',\n",
       " '61943',\n",
       " '61943',\n",
       " '61858',\n",
       " '61727',\n",
       " '61727',\n",
       " '61727',\n",
       " '61727',\n",
       " '61727',\n",
       " '61727',\n",
       " '61727',\n",
       " '61727',\n",
       " '61727',\n",
       " '61727',\n",
       " '60434',\n",
       " '60048',\n",
       " '62056',\n",
       " '62702',\n",
       " '62254',\n",
       " '62401',\n",
       " '61233',\n",
       " '61063',\n",
       " '62706',\n",
       " '61761',\n",
       " '61761',\n",
       " '61761',\n",
       " '61761',\n",
       " '61761',\n",
       " '61761',\n",
       " '62324',\n",
       " '61491',\n",
       " '61491',\n",
       " '61491',\n",
       " '61491',\n",
       " '61491',\n",
       " '61491',\n",
       " '61491',\n",
       " '61491',\n",
       " '62701',\n",
       " '61846',\n",
       " '62627',\n",
       " '62203',\n",
       " '61943',\n",
       " '61943',\n",
       " '61943',\n",
       " '61061',\n",
       " '61341',\n",
       " '62231',\n",
       " '62701',\n",
       " '62701',\n",
       " '60434',\n",
       " '60434',\n",
       " '61443',\n",
       " '61858',\n",
       " '60434',\n",
       " '61951',\n",
       " '61951',\n",
       " '62897',\n",
       " '62448',\n",
       " '62448',\n",
       " '61735',\n",
       " '61735',\n",
       " '61735',\n",
       " '61735',\n",
       " '61735',\n",
       " '61858',\n",
       " '60174',\n",
       " '60174',\n",
       " '62656',\n",
       " '62288',\n",
       " '62201',\n",
       " '62201',\n",
       " '60612',\n",
       " '62354',\n",
       " '60450',\n",
       " '62241',\n",
       " '62241',\n",
       " '62241',\n",
       " '62241',\n",
       " '62241',\n",
       " '62354',\n",
       " '62354',\n",
       " '62354',\n",
       " '62354',\n",
       " '62354',\n",
       " '62354',\n",
       " '62354',\n",
       " '62354',\n",
       " '62354',\n",
       " '62354',\n",
       " '62354',\n",
       " '62354',\n",
       " '62354',\n",
       " '62354',\n",
       " '62354',\n",
       " '61350',\n",
       " '60481',\n",
       " '60481',\n",
       " '61443',\n",
       " '62995',\n",
       " '60196',\n",
       " '60196',\n",
       " '62901',\n",
       " '62864',\n",
       " '62901',\n",
       " '62958',\n",
       " '60612',\n",
       " '61542',\n",
       " '61542',\n",
       " '62644',\n",
       " '62958',\n",
       " '60081',\n",
       " '60081',\n",
       " '60081',\n",
       " '60081',\n",
       " '60081',\n",
       " '60081',\n",
       " '60081',\n",
       " '60081',\n",
       " '62960',\n",
       " '62960',\n",
       " '62960',\n",
       " '62960',\n",
       " '62960',\n",
       " '62960',\n",
       " '62960',\n",
       " '62960',\n",
       " '62960',\n",
       " '61520',\n",
       " '61520',\n",
       " '62584',\n",
       " '61834',\n",
       " '61920',\n",
       " '62938',\n",
       " '62938',\n",
       " '62966',\n",
       " '62471',\n",
       " '62471',\n",
       " '62471',\n",
       " '62471',\n",
       " '62037',\n",
       " '62906',\n",
       " '62906',\n",
       " '60441',\n",
       " '62454',\n",
       " '62231',\n",
       " '62231',\n",
       " '62217',\n",
       " '62217',\n",
       " '62401',\n",
       " '62274',\n",
       " '62274',\n",
       " '62274',\n",
       " '62274',\n",
       " '62274',\n",
       " '62274',\n",
       " '62274',\n",
       " '62274',\n",
       " '62274',\n",
       " '62274',\n",
       " '62274',\n",
       " '62274',\n",
       " '62274',\n",
       " '62274',\n",
       " '62274',\n",
       " '62231',\n",
       " '62908',\n",
       " '62217',\n",
       " '62217',\n",
       " '62217',\n",
       " '62217',\n",
       " '62217',\n",
       " '62217',\n",
       " '62217',\n",
       " '62217',\n",
       " '61567',\n",
       " '61567',\n",
       " '61615',\n",
       " '61615',\n",
       " '61615',\n",
       " '61615',\n",
       " '61615',\n",
       " '61615',\n",
       " '61615',\n",
       " '61615',\n",
       " '61615',\n",
       " '61615',\n",
       " '61615',\n",
       " '61615',\n",
       " '61615',\n",
       " '61615',\n",
       " '61615',\n",
       " '61615',\n",
       " '61615',\n",
       " '61615',\n",
       " '61615',\n",
       " '61615',\n",
       " '61615',\n",
       " '61615',\n",
       " '61615',\n",
       " '61615',\n",
       " '61615',\n",
       " '61615',\n",
       " '61615',\n",
       " '61615',\n",
       " '61615',\n",
       " '61615',\n",
       " '61615',\n",
       " '61615',\n",
       " '61615',\n",
       " '61615',\n",
       " '61615',\n",
       " '61615',\n",
       " '61615',\n",
       " '61615',\n",
       " '61615',\n",
       " '61615',\n",
       " '61615',\n",
       " '61615',\n",
       " '61615',\n",
       " '61615',\n",
       " '61615',\n",
       " '61615',\n",
       " '61615',\n",
       " '61615',\n",
       " '61615',\n",
       " '61615',\n",
       " '61615',\n",
       " '61615',\n",
       " '61615',\n",
       " '61615',\n",
       " '61615',\n",
       " '61615',\n",
       " '61615',\n",
       " '61615',\n",
       " '61615',\n",
       " '61615',\n",
       " '61615',\n",
       " '61615',\n",
       " '61615',\n",
       " '61615',\n",
       " '61615',\n",
       " '61615',\n",
       " '61615',\n",
       " '61615',\n",
       " '61615',\n",
       " '61615',\n",
       " '61615',\n",
       " '61615',\n",
       " '61615',\n",
       " '61615',\n",
       " '61615',\n",
       " '61615',\n",
       " '61615',\n",
       " '61615',\n",
       " '61615',\n",
       " '61615',\n",
       " '61615',\n",
       " '62037',\n",
       " '62233',\n",
       " '62233',\n",
       " '62534',\n",
       " '62534',\n",
       " '62534',\n",
       " '62534',\n",
       " '62534',\n",
       " '62534',\n",
       " '62534',\n",
       " '62534',\n",
       " '62534',\n",
       " '62534',\n",
       " '62534',\n",
       " '62534',\n",
       " '62534',\n",
       " '62534',\n",
       " '62534',\n",
       " '62534',\n",
       " '62534',\n",
       " '62534',\n",
       " '62534',\n",
       " '62534',\n",
       " '62534',\n",
       " '62534',\n",
       " '62534',\n",
       " '62534',\n",
       " '62534',\n",
       " '62534',\n",
       " '61443',\n",
       " '62259',\n",
       " '62966',\n",
       " '60062',\n",
       " '60031',\n",
       " '62702',\n",
       " '62702',\n",
       " '62702',\n",
       " '61764',\n",
       " '61764',\n",
       " '62832',\n",
       " '61820',\n",
       " '61820',\n",
       " '61820',\n",
       " '61820',\n",
       " '61820',\n",
       " '61820',\n",
       " '61820',\n",
       " '61820',\n",
       " '61820',\n",
       " '61820',\n",
       " '61820',\n",
       " '61820',\n",
       " '61820',\n",
       " '61820',\n",
       " '61820',\n",
       " '61820',\n",
       " '61820',\n",
       " '61820',\n",
       " '61820',\n",
       " '61820',\n",
       " '61820',\n",
       " '61820',\n",
       " '61820',\n",
       " '60607',\n",
       " '60612',\n",
       " '61820',\n",
       " '62901',\n",
       " '62901',\n",
       " '62901',\n",
       " '62901',\n",
       " '61761',\n",
       " '61301',\n",
       " '60612',\n",
       " '62448',\n",
       " '62448',\n",
       " '62919',\n",
       " '62919',\n",
       " '62919',\n",
       " '62919',\n",
       " '62919',\n",
       " '62919',\n",
       " '62656',\n",
       " '62656',\n",
       " '62656',\n",
       " '62656',\n",
       " '62821',\n",
       " '62837',\n",
       " '62821',\n",
       " '62821',\n",
       " '62832',\n",
       " '62832',\n",
       " '62832',\n",
       " '62832',\n",
       " '61350',\n",
       " '61858',\n",
       " '61858',\n",
       " '61858',\n",
       " '62897',\n",
       " '62897',\n",
       " '62897',\n",
       " '62897',\n",
       " '62897',\n",
       " '62897',\n",
       " '62897',\n",
       " '62897',\n",
       " '62897',\n",
       " '62897',\n",
       " '62897',\n",
       " '61764',\n",
       " '62801',\n",
       " '62801',\n",
       " '60426',\n",
       " '61401',\n",
       " '61401',\n",
       " '62914',\n",
       " '62988',\n",
       " '62901',\n",
       " '60628',\n",
       " '60115',\n",
       " '60115',\n",
       " '60115',\n",
       " '60115',\n",
       " '60115',\n",
       " '60115',\n",
       " '60115',\n",
       " '60115',\n",
       " '60115',\n",
       " '62301',\n",
       " '62259',\n",
       " '62056',\n",
       " '61341',\n",
       " '62801',\n",
       " '61341',\n",
       " '61341',\n",
       " '62940',\n",
       " '62940',\n",
       " '62940',\n",
       " '61820',\n",
       " '61820',\n",
       " '60085',\n",
       " '60085',\n",
       " '60085',\n",
       " '60085',\n",
       " '60085',\n",
       " '60085',\n",
       " '60085',\n",
       " '60085',\n",
       " '60085',\n",
       " '61735',\n",
       " '61735',\n",
       " '61735',\n",
       " '61735',\n",
       " '61735',\n",
       " '62274',\n",
       " '62274',\n",
       " '62274',\n",
       " '62864',\n",
       " '62864',\n",
       " '62864',\n",
       " '62864',\n",
       " '62864',\n",
       " '62864',\n",
       " '62859',\n",
       " '62901',\n",
       " '61341',\n",
       " '60099',\n",
       " '60081',\n",
       " '60081',\n",
       " '60081',\n",
       " '60081',\n",
       " '60081',\n",
       " '60081',\n",
       " '60081',\n",
       " '60081',\n",
       " '60081',\n",
       " '60081',\n",
       " '60081',\n",
       " '60081',\n",
       " '60081',\n",
       " '60081',\n",
       " '60081',\n",
       " '60081',\n",
       " '60081',\n",
       " '60081',\n",
       " '60081',\n",
       " '60081',\n",
       " '60081',\n",
       " '60081',\n",
       " '60081',\n",
       " '60081',\n",
       " '60081',\n",
       " '60081',\n",
       " '60081',\n",
       " '60081',\n",
       " '60081',\n",
       " '60081',\n",
       " '60081',\n",
       " '62046',\n",
       " '60081',\n",
       " '60081',\n",
       " '60081',\n",
       " '60081',\n",
       " '60081',\n",
       " '60081',\n",
       " '60081',\n",
       " '60081',\n",
       " '60081',\n",
       " '60081',\n",
       " '60081',\n",
       " '62897',\n",
       " '62897',\n",
       " '62897',\n",
       " '62897',\n",
       " '62897',\n",
       " '62897',\n",
       " '62897',\n",
       " '62897',\n",
       " '62897',\n",
       " '62897',\n",
       " '62897',\n",
       " '62897',\n",
       " '62897',\n",
       " '62897',\n",
       " '62897',\n",
       " '62897',\n",
       " '62897',\n",
       " '62897',\n",
       " '62897',\n",
       " '62897',\n",
       " '62233',\n",
       " '61201',\n",
       " '62259',\n",
       " '62995',\n",
       " '62259',\n",
       " '61418',\n",
       " '62821',\n",
       " '62821',\n",
       " '62938',\n",
       " '62702',\n",
       " '62832',\n",
       " '62832',\n",
       " '61201',\n",
       " '62534',\n",
       " '61846',\n",
       " '61846',\n",
       " '61846',\n",
       " '61846',\n",
       " '61341',\n",
       " '61341',\n",
       " '61341',\n",
       " '62354',\n",
       " '62354',\n",
       " '61801',\n",
       " '60950',\n",
       " '61550',\n",
       " '62049',\n",
       " '61048',\n",
       " '62046',\n",
       " '62046',\n",
       " '62046',\n",
       " '62046',\n",
       " '62046',\n",
       " '62046',\n",
       " '62046',\n",
       " '62046',\n",
       " '62046',\n",
       " '62046',\n",
       " '62046',\n",
       " '62046',\n",
       " '62046',\n",
       " '62046',\n",
       " '62046',\n",
       " '62939',\n",
       " '60099',\n",
       " '62201',\n",
       " '61738',\n",
       " '62702',\n",
       " '61801',\n",
       " '62448',\n",
       " '62448',\n",
       " '62448',\n",
       " '62448',\n",
       " '62448',\n",
       " '62448',\n",
       " '60174',\n",
       " '60628',\n",
       " '60103',\n",
       " '62454',\n",
       " '62259',\n",
       " '62259',\n",
       " '61550',\n",
       " '61341',\n",
       " '61341',\n",
       " '61341',\n",
       " '61341',\n",
       " '61341',\n",
       " '61341',\n",
       " '62908',\n",
       " '60481',\n",
       " '60481',\n",
       " '60481',\n",
       " '60481',\n",
       " '60481',\n",
       " '60481',\n",
       " '60481',\n",
       " '61801',\n",
       " '62627',\n",
       " '62627',\n",
       " '62627',\n",
       " '62627',\n",
       " '62627',\n",
       " '62627',\n",
       " '62627',\n",
       " '62627',\n",
       " '62627',\n",
       " '61517',\n",
       " '61235',\n",
       " '61235',\n",
       " '61235',\n",
       " '61235',\n",
       " '61235',\n",
       " '61235',\n",
       " '61235',\n",
       " '61235',\n",
       " '61235',\n",
       " '61235',\n",
       " '61235',\n",
       " '61235',\n",
       " '61235',\n",
       " '61235',\n",
       " '61235',\n",
       " '1235',\n",
       " '61235',\n",
       " '60432',\n",
       " '60432',\n",
       " '61310',\n",
       " '61329',\n",
       " '60556',\n",
       " '62363',\n",
       " '61341',\n",
       " '62026',\n",
       " '62471',\n",
       " '60644',\n",
       " '62901',\n",
       " '62954',\n",
       " '62954',\n",
       " '62954',\n",
       " '62704',\n",
       " '62704',\n",
       " '62704',\n",
       " '62704',\n",
       " '62704',\n",
       " '62704',\n",
       " '62704',\n",
       " '62704',\n",
       " '62704',\n",
       " '62704',\n",
       " '62704',\n",
       " '62704',\n",
       " '62704',\n",
       " '62704',\n",
       " '62704',\n",
       " '62704',\n",
       " '62704',\n",
       " '62656',\n",
       " '62301',\n",
       " '62301',\n",
       " '61701',\n",
       " '61455',\n",
       " '61063',\n",
       " '60607',\n",
       " '62919',\n",
       " '62919',\n",
       " '62919',\n",
       " '62441',\n",
       " '62441',\n",
       " '62441',\n",
       " '62441',\n",
       " '62441',\n",
       " '62441',\n",
       " '62441',\n",
       " '62441',\n",
       " '62441',\n",
       " '62441',\n",
       " '62441',\n",
       " '62441',\n",
       " '62441',\n",
       " '62441',\n",
       " '62441',\n",
       " '62441',\n",
       " '62441',\n",
       " '62441',\n",
       " '62441',\n",
       " '62441',\n",
       " '62440',\n",
       " '60950',\n",
       " '62465',\n",
       " '62048',\n",
       " '61752',\n",
       " '61752',\n",
       " '62448',\n",
       " '62448',\n",
       " '60083',\n",
       " '60083',\n",
       " '60181',\n",
       " '62205',\n",
       " '62685',\n",
       " '62685',\n",
       " '62685',\n",
       " '62685',\n",
       " '62685',\n",
       " '62685',\n",
       " '62685',\n",
       " '62685',\n",
       " '62231',\n",
       " '62231',\n",
       " '62231',\n",
       " '62231',\n",
       " '62231',\n",
       " '62231',\n",
       " '62231',\n",
       " '62231',\n",
       " '62231',\n",
       " '62231',\n",
       " '62231',\n",
       " '62231',\n",
       " '62231',\n",
       " '62231',\n",
       " '62231',\n",
       " '62988',\n",
       " '62702',\n",
       " '62702',\n",
       " '62702',\n",
       " '62702',\n",
       " '62702',\n",
       " '62702',\n",
       " '62702',\n",
       " '62901',\n",
       " '62703',\n",
       " '62859',\n",
       " '62859',\n",
       " '62859',\n",
       " '62859',\n",
       " '62859',\n",
       " '62859',\n",
       " '62859',\n",
       " '61727',\n",
       " '61727',\n",
       " '61727',\n",
       " '61727',\n",
       " '61727',\n",
       " '62946',\n",
       " '62812',\n",
       " '62812',\n",
       " '62812',\n",
       " '61021',\n",
       " '61021',\n",
       " '62702',\n",
       " '62901',\n",
       " '62812',\n",
       " '62812',\n",
       " '62812',\n",
       " '62656',\n",
       " '62656',\n",
       " '62656',\n",
       " '62656',\n",
       " '61832',\n",
       " '62530',\n",
       " '62901',\n",
       " '62301',\n",
       " '62850',\n",
       " '62812',\n",
       " '62812',\n",
       " '62812',\n",
       " '62812',\n",
       " '62812',\n",
       " '62812',\n",
       " '62812',\n",
       " '62812',\n",
       " '61501',\n",
       " '62534',\n",
       " '62534',\n",
       " '62433',\n",
       " '62433',\n",
       " '62433',\n",
       " '62433',\n",
       " '62433',\n",
       " '62433',\n",
       " '62433',\n",
       " '62433',\n",
       " '60628',\n",
       " '62702',\n",
       " '62704',\n",
       " '61401',\n",
       " '62354',\n",
       " '62354',\n",
       " '62354',\n",
       " '62812',\n",
       " '62910',\n",
       " '62294',\n",
       " '60634',\n",
       " '62201',\n",
       " '60477',\n",
       " '61520',\n",
       " '61341',\n",
       " '61341',\n",
       " '61341',\n",
       " '62703',\n",
       " '62274',\n",
       " '62274',\n",
       " '62274',\n",
       " '61485',\n",
       " '62897',\n",
       " '62897',\n",
       " '62897',\n",
       " '62897',\n",
       " '62850',\n",
       " '62897',\n",
       " '62897',\n",
       " '62897',\n",
       " '62897',\n",
       " '62897',\n",
       " '62897',\n",
       " '62897',\n",
       " '62897',\n",
       " '62897',\n",
       " '62897',\n",
       " '62897',\n",
       " '62897',\n",
       " '62897',\n",
       " '62897',\n",
       " '62897',\n",
       " '62897',\n",
       " '62897',\n",
       " '62897',\n",
       " '62897',\n",
       " '62701',\n",
       " '62465',\n",
       " '62850',\n",
       " '62850',\n",
       " '62850',\n",
       " '62850',\n",
       " '62850',\n",
       " '61356',\n",
       " '61265',\n",
       " '61858',\n",
       " '61858',\n",
       " '61858',\n",
       " '61360',\n",
       " '61360',\n",
       " '62627',\n",
       " '62260',\n",
       " '62260',\n",
       " '62260',\n",
       " '62260',\n",
       " '62260',\n",
       " '62260',\n",
       " '62260',\n",
       " '62260',\n",
       " '62260',\n",
       " '62260',\n",
       " '62260',\n",
       " '62260',\n",
       " '62260',\n",
       " '62260',\n",
       " '62260',\n",
       " '62260',\n",
       " '62260',\n",
       " '62260',\n",
       " '62260',\n",
       " '62260',\n",
       " '62260',\n",
       " '62260',\n",
       " '62260',\n",
       " '62260',\n",
       " '62260',\n",
       " '62260',\n",
       " '62260',\n",
       " '62260',\n",
       " '62260',\n",
       " '62260',\n",
       " '62260',\n",
       " '62260',\n",
       " '62260',\n",
       " '62260',\n",
       " '62260',\n",
       " '62260',\n",
       " '62260',\n",
       " '62260',\n",
       " '62260',\n",
       " '62260',\n",
       " '62260',\n",
       " '62260',\n",
       " '62260',\n",
       " '62260',\n",
       " '62260',\n",
       " '62260',\n",
       " '62260',\n",
       " '62260',\n",
       " '62260',\n",
       " '62260',\n",
       " '62260',\n",
       " '62260',\n",
       " '62260',\n",
       " '62260',\n",
       " '62260',\n",
       " '62260',\n",
       " '62260',\n",
       " '62260',\n",
       " '62260',\n",
       " '62260',\n",
       " '62260',\n",
       " '62260',\n",
       " '62260',\n",
       " '62260',\n",
       " '62260',\n",
       " '62260',\n",
       " '62260',\n",
       " '62260',\n",
       " '62260',\n",
       " '62260',\n",
       " '62286',\n",
       " '62286',\n",
       " '62286',\n",
       " '62286',\n",
       " '62286',\n",
       " '62286',\n",
       " '62286',\n",
       " '62286',\n",
       " '62286',\n",
       " '62286',\n",
       " '62286',\n",
       " '62286',\n",
       " '62286',\n",
       " '62286',\n",
       " '62286',\n",
       " '62286',\n",
       " '62286',\n",
       " '62286',\n",
       " '62286',\n",
       " '62286',\n",
       " '62286',\n",
       " '62286',\n",
       " '62286',\n",
       " '62286',\n",
       " '62286',\n",
       " '62286',\n",
       " '62286',\n",
       " '62286',\n",
       " '62286',\n",
       " '62286',\n",
       " '62286',\n",
       " '62286',\n",
       " '62286',\n",
       " '62286',\n",
       " '62286',\n",
       " '62260',\n",
       " '62260',\n",
       " '62260',\n",
       " '62260',\n",
       " '62260',\n",
       " '62260',\n",
       " '62260',\n",
       " '62260',\n",
       " '62260',\n",
       " '62260',\n",
       " '62260',\n",
       " '62260',\n",
       " '62260',\n",
       " '62260',\n",
       " '62260',\n",
       " '62260',\n",
       " '62260',\n",
       " '62260',\n",
       " '62260',\n",
       " '62260',\n",
       " '62260',\n",
       " '62260',\n",
       " '62260',\n",
       " '62260',\n",
       " '62260',\n",
       " '62260',\n",
       " '62260',\n",
       " '62260',\n",
       " '62260',\n",
       " '62260',\n",
       " '62260',\n",
       " '62260',\n",
       " '62260',\n",
       " '62260',\n",
       " '62260',\n",
       " '62260',\n",
       " '62260',\n",
       " '62260',\n",
       " '62260',\n",
       " '62260',\n",
       " '62260',\n",
       " '62260',\n",
       " '62260',\n",
       " '62260',\n",
       " ...]"
      ]
     },
     "execution_count": 62,
     "metadata": {},
     "output_type": "execute_result"
    }
   ],
   "source": [
    "data['Zip code']"
   ]
  },
  {
   "cell_type": "markdown",
   "metadata": {},
   "source": [
    "We have one name/list pair for every header entry:"
   ]
  },
  {
   "cell_type": "code",
   "execution_count": 63,
   "metadata": {},
   "outputs": [
    {
     "data": {
      "text/plain": [
       "dict_keys(['Agency Name', 'Location Name', 'Address', 'City', 'Zip code', 'County', 'Congress Dist', 'Congressional Full Name', 'Rep Dist', 'Rep Full Name', 'Senate Dist', 'Senator Full Name', 'Bldg Status', 'Year Acquired', 'Year Constructed', 'Square Footage', 'Total Floors', 'Floors Above Grade', 'Floors Below Grade', 'Usage Description', 'Usage Description 2', 'Usage Description 3'])"
      ]
     },
     "execution_count": 63,
     "metadata": {},
     "output_type": "execute_result"
    }
   ],
   "source": [
    "data.keys()"
   ]
  },
  {
   "cell_type": "markdown",
   "metadata": {},
   "source": [
    "We can see how many zip code entries (rows) there are:"
   ]
  },
  {
   "cell_type": "code",
   "execution_count": 64,
   "metadata": {},
   "outputs": [
    {
     "data": {
      "text/plain": [
       "8849"
      ]
     },
     "execution_count": 64,
     "metadata": {},
     "output_type": "execute_result"
    }
   ],
   "source": [
    "len(data['Zip code'])"
   ]
  },
  {
   "cell_type": "markdown",
   "metadata": {},
   "source": [
    "As well as how many *unique* zip codes there are."
   ]
  },
  {
   "cell_type": "code",
   "execution_count": 65,
   "metadata": {},
   "outputs": [
    {
     "data": {
      "text/plain": [
       "457"
      ]
     },
     "execution_count": 65,
     "metadata": {},
     "output_type": "execute_result"
    }
   ],
   "source": [
    "len(set(data['Zip code']))"
   ]
  },
  {
   "cell_type": "markdown",
   "metadata": {},
   "source": [
    "Now, the same thing with congressional districts:"
   ]
  },
  {
   "cell_type": "code",
   "execution_count": 66,
   "metadata": {},
   "outputs": [
    {
     "data": {
      "text/plain": [
       "19"
      ]
     },
     "execution_count": 66,
     "metadata": {},
     "output_type": "execute_result"
    }
   ],
   "source": [
    "len(set(data['Congress Dist']))"
   ]
  },
  {
   "cell_type": "code",
   "execution_count": 67,
   "metadata": {},
   "outputs": [
    {
     "data": {
      "text/plain": [
       "19"
      ]
     },
     "execution_count": 67,
     "metadata": {},
     "output_type": "execute_result"
    }
   ],
   "source": [
    "len(set(data['Congressional Full Name']))"
   ]
  },
  {
   "cell_type": "markdown",
   "metadata": {},
   "source": [
    "There's a special data structure called a `Counter` that we can use to figure out how many of each unique item there are."
   ]
  },
  {
   "cell_type": "code",
   "execution_count": 68,
   "metadata": {},
   "outputs": [],
   "source": [
    "from collections import Counter"
   ]
  },
  {
   "cell_type": "code",
   "execution_count": 69,
   "metadata": {},
   "outputs": [],
   "source": [
    "c = Counter(data['Zip code'])"
   ]
  },
  {
   "cell_type": "markdown",
   "metadata": {},
   "source": [
    "It associates each item with a count, as it iterates, and then we can get that information back."
   ]
  },
  {
   "cell_type": "code",
   "execution_count": 70,
   "metadata": {},
   "outputs": [
    {
     "data": {
      "text/plain": [
       "265"
      ]
     },
     "execution_count": 70,
     "metadata": {},
     "output_type": "execute_result"
    }
   ],
   "source": [
    "max(c.values())"
   ]
  },
  {
   "cell_type": "markdown",
   "metadata": {},
   "source": [
    "We can sort by the most common:"
   ]
  },
  {
   "cell_type": "code",
   "execution_count": 71,
   "metadata": {},
   "outputs": [
    {
     "data": {
      "text/plain": [
       "[('62702', 265),\n",
       " ('62901', 258),\n",
       " ('62037', 235),\n",
       " ('61801', 220),\n",
       " ('62958', 199),\n",
       " ('61820', 146),\n",
       " ('62471', 130),\n",
       " ('62656', 126),\n",
       " ('62259', 126),\n",
       " ('62260', 123),\n",
       " ('60434', 106),\n",
       " ('61764', 104),\n",
       " ('61761', 102),\n",
       " ('60477', 100),\n",
       " ('61373', 99),\n",
       " ('62627', 96),\n",
       " ('62995', 92),\n",
       " ('62650', 89),\n",
       " ('62675', 88),\n",
       " ('62703', 84),\n",
       " ('61341', 83),\n",
       " ('61858', 83),\n",
       " ('61615', 83),\n",
       " ('62897', 81),\n",
       " ('62231', 79),\n",
       " ('60466', 79),\n",
       " ('62233', 76),\n",
       " ('61021', 76),\n",
       " ('62832', 75),\n",
       " ('61074', 73),\n",
       " ('60551', 71),\n",
       " ('61920', 70),\n",
       " ('60081', 68),\n",
       " ('62801', 67),\n",
       " ('60085', 67),\n",
       " ('60901', 67),\n",
       " ('60115', 64),\n",
       " ('62301', 63),\n",
       " ('62448', 60),\n",
       " ('60099', 60),\n",
       " ('61201', 59),\n",
       " ('62906', 58),\n",
       " ('60174', 57),\n",
       " ('61054', 57),\n",
       " ('60432', 56),\n",
       " ('61752', 55),\n",
       " ('60420', 52),\n",
       " ('61061', 52),\n",
       " ('62466', 51),\n",
       " ('62534', 50),\n",
       " ('62274', 50),\n",
       " ('62049', 50),\n",
       " ('60612', 49),\n",
       " ('60950', 49),\n",
       " ('62563', 49),\n",
       " ('60481', 48),\n",
       " ('60914', 48),\n",
       " ('62952', 47),\n",
       " ('62938', 44),\n",
       " ('61520', 44),\n",
       " ('61455', 44),\n",
       " ('62812', 44),\n",
       " ('61401', 43),\n",
       " ('62026', 43),\n",
       " ('62286', 43),\n",
       " ('61443', 42),\n",
       " ('62326', 41),\n",
       " ('62263', 41),\n",
       " ('60607', 40),\n",
       " ('61517', 40),\n",
       " ('61244', 40),\n",
       " ('61001', 40),\n",
       " ('61270', 40),\n",
       " ('61727', 39),\n",
       " ('62859', 36),\n",
       " ('62939', 36),\n",
       " ('62441', 36),\n",
       " ('60050', 36),\n",
       " ('61536', 36),\n",
       " ('60634', 35),\n",
       " ('62401', 34),\n",
       " ('60123', 34),\n",
       " ('61874', 34),\n",
       " ('62454', 33),\n",
       " ('62217', 33),\n",
       " ('62205', 32),\n",
       " ('62568', 31),\n",
       " ('60450', 30),\n",
       " ('62241', 30),\n",
       " ('61834', 30),\n",
       " ('60141', 30),\n",
       " ('62526', 30),\n",
       " ('62704', 29),\n",
       " ('62440', 29),\n",
       " ('62353', 29),\n",
       " ('62960', 28),\n",
       " ('60560', 28),\n",
       " ('60550', 28),\n",
       " ('61048', 27),\n",
       " ('62864', 26),\n",
       " ('62934', 26),\n",
       " ('62854', 26),\n",
       " ('62354', 25),\n",
       " ('62002', 25),\n",
       " ('62584', 24),\n",
       " ('62919', 24),\n",
       " ('60051', 24),\n",
       " ('62846', 24),\n",
       " ('61350', 23),\n",
       " ('62988', 23),\n",
       " ('62046', 23),\n",
       " ('62685', 22),\n",
       " ('61943', 22),\n",
       " ('62966', 22),\n",
       " ('60633', 22),\n",
       " ('62202', 22),\n",
       " ('61701', 21),\n",
       " ('62946', 21),\n",
       " ('61361', 21),\n",
       " ('60436', 21),\n",
       " ('62203', 20),\n",
       " ('61277', 20),\n",
       " ('61036', 20),\n",
       " ('60628', 19),\n",
       " ('60555', 19),\n",
       " ('62558', 19),\n",
       " ('62040', 19),\n",
       " ('62201', 18),\n",
       " ('61542', 17),\n",
       " ('62908', 17),\n",
       " ('61567', 17),\n",
       " ('60625', 17),\n",
       " ('62056', 16),\n",
       " ('61951', 16),\n",
       " ('61235', 16),\n",
       " ('61491', 15),\n",
       " ('62644', 15),\n",
       " ('62850', 15),\n",
       " ('62234', 15),\n",
       " ('62221', 15),\n",
       " ('62959', 15),\n",
       " ('60449', 15),\n",
       " ('61071', 15),\n",
       " ('61735', 14),\n",
       " ('61031', 14),\n",
       " ('62681', 14),\n",
       " ('61490', 14),\n",
       " ('62311', 13),\n",
       " ('62706', 13),\n",
       " ('62324', 13),\n",
       " ('62701', 13),\n",
       " ('62363', 13),\n",
       " ('60540', 13),\n",
       " ('61540', 13),\n",
       " ('62962', 13),\n",
       " ('61379', 13),\n",
       " ('61080', 13),\n",
       " ('62465', 12),\n",
       " ('62943', 12),\n",
       " ('61264', 12),\n",
       " ('61545', 12),\n",
       " ('61419', 12),\n",
       " ('61105', 12),\n",
       " ('61614', 12),\n",
       " ('62707', 11),\n",
       " ('61301', 11),\n",
       " ('60912', 11),\n",
       " ('61528', 11),\n",
       " ('61546', 11),\n",
       " ('62549', 11),\n",
       " ('60435', 11),\n",
       " ('61501', 10),\n",
       " ('62914', 10),\n",
       " ('61550', 10),\n",
       " ('62433', 10),\n",
       " ('62931', 10),\n",
       " ('61042', 10),\n",
       " ('62984', 10),\n",
       " ('60506', 10),\n",
       " ('61944', 10),\n",
       " ('62048', 9),\n",
       " ('61356', 9),\n",
       " ('61265', 9),\n",
       " ('61914', 9),\n",
       " ('60175', 9),\n",
       " ('61462', 9),\n",
       " ('61938', 9),\n",
       " ('61856', 9),\n",
       " ('61866', 9),\n",
       " ('60103', 8),\n",
       " ('61533', 8),\n",
       " ('61322', 8),\n",
       " ('61111', 8),\n",
       " ('62017', 8),\n",
       " ('62080', 8),\n",
       " ('61433', 8),\n",
       " ('62881', 8),\n",
       " ('62439', 8),\n",
       " ('60441', 7),\n",
       " ('60426', 7),\n",
       " ('62917', 7),\n",
       " ('61532', 7),\n",
       " ('62863', 7),\n",
       " ('60616', 7),\n",
       " ('61548', 7),\n",
       " ('61254', 7),\n",
       " ('60482', 7),\n",
       " ('60447', 7),\n",
       " ('60098', 7),\n",
       " ('61032', 7),\n",
       " ('60911', 7),\n",
       " ('62821', 6),\n",
       " ('62837', 6),\n",
       " ('61832', 6),\n",
       " ('62910', 6),\n",
       " ('61107', 6),\n",
       " ('62206', 6),\n",
       " ('60630', 6),\n",
       " ('60007', 6),\n",
       " ('60918', 6),\n",
       " ('61953', 6),\n",
       " ('62321', 6),\n",
       " ('62450', 6),\n",
       " ('62249', 6),\n",
       " ('62052', 6),\n",
       " ('62236', 6),\n",
       " ('60120', 6),\n",
       " ('62521', 6),\n",
       " ('60532', 6),\n",
       " ('61846', 5),\n",
       " ('62288', 5),\n",
       " ('60062', 5),\n",
       " ('60644', 5),\n",
       " ('62954', 5),\n",
       " ('62294', 5),\n",
       " ('60041', 5),\n",
       " ('62694', 5),\n",
       " ('60608', 5),\n",
       " ('62929', 5),\n",
       " ('60473', 5),\n",
       " ('60439', 5),\n",
       " ('60525', 5),\n",
       " ('61318', 5),\n",
       " ('60178', 5),\n",
       " ('61611', 5),\n",
       " ('61231', 5),\n",
       " ('61822', 5),\n",
       " ('62565', 5),\n",
       " ('62428', 5),\n",
       " ('62691', 5),\n",
       " ('62684', 5),\n",
       " ('62839', 5),\n",
       " ('62835', 5),\n",
       " ('62024', 5),\n",
       " ('62278', 5),\n",
       " ('61607', 5),\n",
       " ('61844', 4),\n",
       " ('60048', 4),\n",
       " ('61063', 4),\n",
       " ('62940', 4),\n",
       " ('61418', 4),\n",
       " ('61310', 4),\n",
       " ('62926', 4),\n",
       " ('60005', 4),\n",
       " ('62816', 4),\n",
       " ('62501', 4),\n",
       " ('60410', 4),\n",
       " ('61442', 4),\n",
       " ('62676', 4),\n",
       " ('61434', 4),\n",
       " ('62082', 4),\n",
       " ('60093', 4),\n",
       " ('60162', 4),\n",
       " ('60451', 4),\n",
       " ('61085', 4),\n",
       " ('61362', 4),\n",
       " ('61353', 4),\n",
       " ('61053', 4),\n",
       " ('60113', 4),\n",
       " ('61028', 4),\n",
       " ('60970', 4),\n",
       " ('60936', 4),\n",
       " ('61377', 4),\n",
       " ('61863', 4),\n",
       " ('62626', 4),\n",
       " ('62246', 4),\n",
       " ('62016', 4),\n",
       " ('62208', 4),\n",
       " ('61081', 4),\n",
       " ('60016', 4),\n",
       " ('61836', 4),\n",
       " ('61115', 4),\n",
       " ('61852', 4),\n",
       " ('61842', 4),\n",
       " ('61030', 4),\n",
       " ('61738', 3),\n",
       " ('60181', 3),\n",
       " ('60656', 3),\n",
       " ('60621', 3),\n",
       " ('60033', 3),\n",
       " ('60030', 3),\n",
       " ('61262', 3),\n",
       " ('61020', 3),\n",
       " ('61109', 3),\n",
       " ('61282', 3),\n",
       " ('61008', 3),\n",
       " ('61725', 3),\n",
       " ('61741', 3),\n",
       " ('60424', 3),\n",
       " ('61776', 3),\n",
       " ('61754', 3),\n",
       " ('62664', 3),\n",
       " ('63312', 3),\n",
       " ('62053', 3),\n",
       " ('62269', 3),\n",
       " ('62999', 3),\n",
       " ('60445', 3),\n",
       " ('60638', 3),\n",
       " ('61445', 3),\n",
       " ('62794', 3),\n",
       " ('62025', 3),\n",
       " ('62254', 2),\n",
       " ('60196', 2),\n",
       " ('60031', 2),\n",
       " ('61329', 2),\n",
       " ('60556', 2),\n",
       " ('60083', 2),\n",
       " ('61485', 2),\n",
       " ('61360', 2),\n",
       " ('61348', 2),\n",
       " ('61790', 2),\n",
       " ('60545', 2),\n",
       " ('62340', 2),\n",
       " ('61813', 2),\n",
       " ('61469', 2),\n",
       " ('62244', 2),\n",
       " ('60468', 2),\n",
       " ('60423', 2),\n",
       " ('60427', 2),\n",
       " ('60622', 2),\n",
       " ('61413', 2),\n",
       " ('61256', 2),\n",
       " ('61703', 2),\n",
       " ('61516', 2),\n",
       " ('61729', 2),\n",
       " ('61428', 2),\n",
       " ('61747', 2),\n",
       " ('62258', 2),\n",
       " ('62992', 2),\n",
       " ('62618', 2),\n",
       " ('60546', 2),\n",
       " ('61364', 2),\n",
       " ('61230', 2),\n",
       " ('60601', 2),\n",
       " ('60130', 2),\n",
       " ('60452', 2),\n",
       " ('60160', 2),\n",
       " ('60618', 2),\n",
       " ('60126', 2),\n",
       " ('60406', 2),\n",
       " ('60044', 2),\n",
       " ('60045', 2),\n",
       " ('60035', 2),\n",
       " ('61240', 2),\n",
       " ('62035', 2),\n",
       " ('61854', 2),\n",
       " ('61278', 2),\n",
       " ('61233', 1),\n",
       " ('1235', 1),\n",
       " ('62530', 1),\n",
       " ('61420', 1),\n",
       " ('62280', 1),\n",
       " ('68297', 1),\n",
       " ('61755', 1),\n",
       " ('62808', 1),\n",
       " ('62592', 1),\n",
       " ('62612', 1),\n",
       " ('61314', 1),\n",
       " ('62548', 1),\n",
       " ('60647', 1),\n",
       " ('62654', 1),\n",
       " ('62849', 1),\n",
       " ('61011', 1),\n",
       " ('60534', 1),\n",
       " ('61720', 1),\n",
       " ('61368', 1),\n",
       " ('61376', 1),\n",
       " ('60407', 1),\n",
       " ('62022', 1),\n",
       " ('60164', 1),\n",
       " ('60411', 1),\n",
       " ('60070', 1),\n",
       " ('60071', 1),\n",
       " ('60304', 1),\n",
       " ('62161', 1),\n",
       " ('60966', 1),\n",
       " ('62418', 1),\n",
       " ('62882', 1),\n",
       " ('62844', 1),\n",
       " ('62012', 1),\n",
       " ('60193', 1),\n",
       " ('60541', 1),\n",
       " ('61267', 1),\n",
       " ('60137', 1),\n",
       " ('60623', 1),\n",
       " ('60421', 1),\n",
       " ('62923', 1),\n",
       " ('62347', 1),\n",
       " ('60651', 1),\n",
       " ('60615', 1),\n",
       " ('61734', 1),\n",
       " ('62896', 1),\n",
       " ('61103', 1),\n",
       " ('61101', 1),\n",
       " ('61810', 1),\n",
       " ('60025', 1),\n",
       " ('60606', 1),\n",
       " ('60680', 1),\n",
       " ('61605', 1),\n",
       " ('61072', 1),\n",
       " ('62888', 1),\n",
       " ('62425', 1),\n",
       " ('62029', 1),\n",
       " ('60643', 1),\n",
       " ('60653', 1),\n",
       " ('61108', 1),\n",
       " ('62226', 1),\n",
       " ('60096', 1),\n",
       " ('60646', 1),\n",
       " ('60165', 1),\n",
       " ('60714', 1),\n",
       " ('60077', 1),\n",
       " ('60827', 1),\n",
       " ('60652', 1),\n",
       " ('60018', 1),\n",
       " ('60619', 1),\n",
       " ('60661', 1),\n",
       " ('60455', 1),\n",
       " ('60617', 1),\n",
       " ('60804', 1),\n",
       " ('60632', 1),\n",
       " ('60453', 1),\n",
       " ('60060', 1),\n",
       " ('60140', 1),\n",
       " ('60504', 1),\n",
       " ('60803', 1),\n",
       " ('60544', 1),\n",
       " ('62090', 1),\n",
       " ('62209', 1),\n",
       " ('62047', 1),\n",
       " ('62479', 1),\n",
       " ('62442', 1),\n",
       " ('61245', 1),\n",
       " ('62060', 1),\n",
       " ('61930', 1),\n",
       " ('61247', 1),\n",
       " ('62273', 1)]"
      ]
     },
     "execution_count": 71,
     "metadata": {},
     "output_type": "execute_result"
    }
   ],
   "source": [
    "c.most_common()"
   ]
  },
  {
   "cell_type": "markdown",
   "metadata": {},
   "source": [
    "We can try to compute the square footage of each building in multiples of 100, but we'll see that..."
   ]
  },
  {
   "cell_type": "code",
   "execution_count": 72,
   "metadata": {},
   "outputs": [
    {
     "ename": "TypeError",
     "evalue": "unsupported operand type(s) for /: 'str' and 'int'",
     "output_type": "error",
     "traceback": [
      "\u001b[0;31m---------------------------------------------------------------------------\u001b[0m",
      "\u001b[0;31mTypeError\u001b[0m                                 Traceback (most recent call last)",
      "\u001b[0;32m<ipython-input-72-7f34a7ae3530>\u001b[0m in \u001b[0;36m<module>\u001b[0;34m()\u001b[0m\n\u001b[0;32m----> 1\u001b[0;31m \u001b[0mdata\u001b[0m\u001b[0;34m[\u001b[0m\u001b[0;34m'Square Footage'\u001b[0m\u001b[0;34m]\u001b[0m\u001b[0;34m[\u001b[0m\u001b[0;36m0\u001b[0m\u001b[0;34m]\u001b[0m \u001b[0;34m/\u001b[0m \u001b[0;36m100\u001b[0m\u001b[0;34m\u001b[0m\u001b[0m\n\u001b[0m",
      "\u001b[0;31mTypeError\u001b[0m: unsupported operand type(s) for /: 'str' and 'int'"
     ]
    }
   ],
   "source": [
    "data['Square Footage'][0] / 100"
   ]
  },
  {
   "cell_type": "markdown",
   "metadata": {},
   "source": [
    "...it's currently all strings.  What this means is that we need to convert it.  We could do this by making another list, but we'll try instead using numpy arrays.  Numpy arrays can be thought of as \"lists\" that aren't expandable, that contain objects that are all the same size (except for \"object\" arrays, which we won't cover) and that have a number of operations that take advantage of these assumptions.\n",
    "\n",
    "First we import numpy as `np`, as per convention."
   ]
  },
  {
   "cell_type": "code",
   "execution_count": 73,
   "metadata": {},
   "outputs": [],
   "source": [
    "import numpy as np"
   ]
  },
  {
   "cell_type": "markdown",
   "metadata": {},
   "source": [
    "Now, we can convert our list to integers:"
   ]
  },
  {
   "cell_type": "code",
   "execution_count": 74,
   "metadata": {},
   "outputs": [],
   "source": [
    "square_footage = np.array(data['Square Footage'], dtype='int')"
   ]
  },
  {
   "cell_type": "code",
   "execution_count": 75,
   "metadata": {},
   "outputs": [
    {
     "data": {
      "text/plain": [
       "array([  144,   144,   144, ..., 13387,  3793,  3793])"
      ]
     },
     "execution_count": 75,
     "metadata": {},
     "output_type": "execute_result"
    }
   ],
   "source": [
    "square_footage"
   ]
  },
  {
   "cell_type": "markdown",
   "metadata": {},
   "source": [
    "There are a few operations we can call on numpy arrays, such as min/max, which we'll look at now:"
   ]
  },
  {
   "cell_type": "code",
   "execution_count": 76,
   "metadata": {},
   "outputs": [
    {
     "data": {
      "text/plain": [
       "1200000"
      ]
     },
     "execution_count": 76,
     "metadata": {},
     "output_type": "execute_result"
    }
   ],
   "source": [
    "square_footage.max()"
   ]
  },
  {
   "cell_type": "code",
   "execution_count": 77,
   "metadata": {},
   "outputs": [
    {
     "data": {
      "text/plain": [
       "0"
      ]
     },
     "execution_count": 77,
     "metadata": {},
     "output_type": "execute_result"
    }
   ],
   "source": [
    "square_footage.min()"
   ]
  },
  {
   "cell_type": "markdown",
   "metadata": {},
   "source": [
    "Numpy arrays also allow for slicing.  We'll look at every 10th value."
   ]
  },
  {
   "cell_type": "code",
   "execution_count": 78,
   "metadata": {},
   "outputs": [
    {
     "data": {
      "text/plain": [
       "array([   144,    144,    144,   3360,    220,    144,    900,    153,\n",
       "        15000, 100000,   3520,    120,   2875,     24,    560,   2000,\n",
       "          710,   2447,    665,    144,    616,   1400,   2159,    360,\n",
       "         2418,    514,    702,    307,    308,    360,   1312,    144,\n",
       "          144,    240,   3200,    720,   5655, 154000,    105,    950,\n",
       "          144,    468,      0,    500,    120,   1958,   1050,    336,\n",
       "          320,    150,    150,   1444,   1200,   2450, 118200,      0,\n",
       "          400,    144,     18,    512,    144,    144,    144,    144,\n",
       "         4956,    200,   4500,  12200,    104,    104,     64,    144,\n",
       "          630,  45000,    144,    106,     80,    104,    452,  30000,\n",
       "          420,    104,    144,    144,    104,    240,     75,     75,\n",
       "           75,     75,     75,     75,     75,    290,    700,    700,\n",
       "           75,     75,     75,     75,     75,     72,    512,    512,\n",
       "         2520,    260,      0,     64,    144,   1680,   4335,    560,\n",
       "          144,   4608,   3300,     20,      0,   2260,  11690,    126,\n",
       "         8495,    520,    560,  11897,     27,   2040,    160,     30,\n",
       "         3600,    254,   1360,    192,   1500,   2340,    800,    480,\n",
       "          100,   1800,    120,     20,    300,    320,    560,   1264,\n",
       "           19,    430,     18,     18,    154,    152,   2581,    504,\n",
       "          320,   1012,   2700,   4420,   1920,     48,    943,    144,\n",
       "         1950,     96,     20,     20,     78,    576,     80,   2656,\n",
       "          615,    500,     80,    100,    850,    600,    228,    228,\n",
       "          228,   2333,    640,    480,    144,    315,    228,   2196,\n",
       "          900,    325,   1120,    360,    900,    560,     50,     48,\n",
       "         3806,    576,    162,     12,    540,   1620,     16,    120,\n",
       "         4400,     60,     40,     60,    110,   1152,    357,     20,\n",
       "           48,     20,     20,    528,   4188,    408,    408,    672,\n",
       "         9600,   1920,     36,   2700,    228,    228,    384,    800,\n",
       "         2700,     60,    200,    600,  11700,      0,   3360,  45000,\n",
       "         2710,    160,  16698,    993,  12336,   3540,  50885,    720,\n",
       "         1089,      0,    207,    100,   8000,   1250,    480,     60,\n",
       "         7980,   4000,    144,   1120,    108,    360,   8320,     40,\n",
       "         1200,    560,   1980,     96,     35,    100,   1200,     20,\n",
       "          230,   4712,     27,     36,   2300,    144,    864,    160,\n",
       "         4200,    154,   3500,    100,   4900,    800,   4200,    200,\n",
       "         3200,    392,      9,     42,   1922,     78,     24,   1006,\n",
       "           42,    144,     77,    104,    144,    600,    630,     80,\n",
       "          420,    144,   1680,  20221,    625,    680,    177,    200,\n",
       "          120,   1000,   2322,     56,    150,    120,     28,   2268,\n",
       "         7500,    750,     50,    750,    750,    384,     25,   3750,\n",
       "          120,     16,    775,   1540,   1410,     99,   3520,     42,\n",
       "          108,     84,    312,    128,    600,    984,    832,   2400,\n",
       "           84,   1120,   1500,     80,    600,    144,     40,   3471,\n",
       "         3950,   3000,     36,    196,     20,     20,     24,   1222,\n",
       "           24,    140,     25,     25,   2400,    576,     20,    900,\n",
       "          540,    100,    468,     20,     20,    660,     25,    300,\n",
       "         1950,   1260,   3120,   4000,    200,     30,   4141,   2430,\n",
       "         6000,    800,    768,    126,  34198,   2961,   1624,   2970,\n",
       "         2920,   2970,   2970,   2970,   2920,   8350,    112,   2800,\n",
       "         2800,   2260,   2800,   2800,   2800,   7300,   6860,    100,\n",
       "        24121,  48525,  22689,  11112,   2268,  21888,    200,    422,\n",
       "          144,     98,   6939,     80,  17831,  24431,   3683,   5476,\n",
       "         8955,  28333,  25825,  27687,   2525,   4256,  24765,  23800,\n",
       "        15000,   7390,   2909,   2909,   2909,   2909,   2909,  12089,\n",
       "       128500,  36813,  13326, 104451,   6578,  49729,   4042,   7543,\n",
       "       103740,  55527,   1500,   2600,  29375,  57569,  28993,   2510,\n",
       "        13100,  11200,  44333,   7900,  17826,   1633,  44000,  19500,\n",
       "        26775,  12625,    390,     52,    105,   8000,  12000,    362,\n",
       "        23700,  69046,    117,    483,   3600,    204,   8604,   1518,\n",
       "        10306,   1943,    158,   1575,    288,    144,    720,    144,\n",
       "          432,    900,  50640,  21234,   3083,    432,   7940,    200,\n",
       "         1466,    480,  11362,    900,   4338,    162,   7529,   9250,\n",
       "          201,   6868,   4592,   2900,    446,   6261,    704,    100,\n",
       "        31500,  16176,   4725,   2200,   7000,    225,   1600,    130,\n",
       "         2460,   1440,  14400,    955,   1690,   3325,    346,   9915,\n",
       "         4295,    782,  26230,   8135,   7770,    169,    174,    900,\n",
       "         5192,    630,   7277,  10333,  49275,    560,   1800,  17549,\n",
       "          330,    432,  17000,    576,  15335,   8895,    432,   1536,\n",
       "        46000,    714,    100,   3450,   8895,  20250,    432,  44000,\n",
       "        13266,    164,   1000,    288,    353,  43300,    144,   2800,\n",
       "          120,  55500,    144,    240,  13000,    432,    280,  13266,\n",
       "          164,  49275,    144,      0,  13000,   9000,    400,  49275,\n",
       "          169,    144,  19894,    100,   1455,    560,   2400,  10526,\n",
       "        30142,  29836,   3200,   4500,   1275,    450,     20,   4500,\n",
       "         7776,   3600,  12000,   2000,   5280,    288,  16160,  10500,\n",
       "         5930,   5936,    420,   1575,   4600,   4800,   1680,  58300,\n",
       "         5184,   2400,     48,   1440,   5000,   2921,   2400,   6432,\n",
       "         4069,   5760,   3116,   5408,   2921,   9462,   2400,   2160,\n",
       "         8320,   7850,   8320,   1983,  58305,   4500,   4320,   6048,\n",
       "         3000,   2922,   5281,   2880,  16000,  12500,   5760,   4032,\n",
       "         4032,   2888,   2600,   4438,   2921,    532,   6720,  42715,\n",
       "         5880,   2374,   7200,   1920,   5320,   4608,   4032,     64,\n",
       "         5408,    720,   3000,  11132,   4069,   4100,   2921,    660,\n",
       "         1920,  14000,   5976,   7376,   6840,  69600,   7500,   1216,\n",
       "          294,    503,  36474,  24955,     64,  21860,   6008,  85312,\n",
       "          956,    720,   1640,   5449,  18400,    168, 224959,    192,\n",
       "          192,    192,  12272,  10944,  29828,   4600,    538,  57262,\n",
       "         1092,  40852,    109,     80,   2940,  28962,   1250, 226062,\n",
       "          150, 179118,  10500, 443865, 131400,  27672,  19303,    740,\n",
       "         2114,    943,   2400,    851,   6480,  14000,   4716,   3600,\n",
       "        14900, 107660,  56060, 166742,  96362,  80434,  98512,  45772,\n",
       "       260237,   6314,   5925,   9688,  10478, 190977,  37761,   2419,\n",
       "         1338,  21845,   4992, 171231,  11650,   4800,   6480,   9120,\n",
       "          150,    912,   2072,   1552,  10265,   8627,  14484,    132,\n",
       "          150,    220,  12894, 264105, 456722,  68343,   9104, 188839,\n",
       "        50200,  21734,  19040,   8056,  54973, 331541,  43193,  98347,\n",
       "        13863,  13488,   3307,   8217,   2265,   2076,   4551,  10112,\n",
       "         9956,   1867,   4120,    132,    915,   5175, 166528,   1344,\n",
       "        14400,   9344,  19318,    233,   1274,    280,    780,    780,\n",
       "         1080,   1469,    500,  70995,  70995, 104520, 116334,   5970,\n",
       "        36954,   7200,   3000, 183682,  63440,  16850,  20434,    495,\n",
       "         3500,  12096,   2170, 132907,  49908, 109300,   2786, 110506,\n",
       "           27,  27430,  18670,   4380,    224,   4904,   9704,  27465,\n",
       "        16341,  36900,  17115,  17004,   2656,  34126,    156,   9200,\n",
       "          218,   1136,  10000,    700,    300,    242,    720,    108,\n",
       "          400,    341,    282,    639,   1500,    880,    240,   1152,\n",
       "          300, 230665,     50,   3000,    144,    300,    144,    750,\n",
       "         2100,    100,    108,    120,    500,    651,    400,    400,\n",
       "          400,    600,    478,    665, 105000,   9420,   1315,      0,\n",
       "            0,   4895,   1290,     10,  27500,    512,    800,    400,\n",
       "        23040,  43000,    185,   2464,    180])"
      ]
     },
     "execution_count": 78,
     "metadata": {},
     "output_type": "execute_result"
    }
   ],
   "source": [
    "square_footage[::10]"
   ]
  },
  {
   "cell_type": "markdown",
   "metadata": {},
   "source": [
    "Now let's find out the 10 most common square footages."
   ]
  },
  {
   "cell_type": "code",
   "execution_count": 79,
   "metadata": {},
   "outputs": [
    {
     "data": {
      "text/plain": [
       "[('144', 360),\n",
       " ('20', 143),\n",
       " ('75', 123),\n",
       " ('100', 86),\n",
       " ('2400', 77),\n",
       " ('228', 76),\n",
       " ('80', 71),\n",
       " ('560', 65),\n",
       " ('400', 65),\n",
       " ('2800', 65)]"
      ]
     },
     "execution_count": 79,
     "metadata": {},
     "output_type": "execute_result"
    }
   ],
   "source": [
    "Counter(data['Square Footage']).most_common(10)"
   ]
  },
  {
   "cell_type": "markdown",
   "metadata": {},
   "source": [
    "Huh, that's odd!  There's a lot of buildings that are all about 12\"x12\".  Let's see more about them, and find out which agencies they are in."
   ]
  },
  {
   "cell_type": "code",
   "execution_count": 80,
   "metadata": {},
   "outputs": [],
   "source": [
    "agencies = Counter()\n",
    "for agency, sqfoot in zip(data['Agency Name'], data['Square Footage']):\n",
    "    if int(sqfoot) == 144:\n",
    "        agencies[agency] += 1"
   ]
  },
  {
   "cell_type": "code",
   "execution_count": 81,
   "metadata": {},
   "outputs": [
    {
     "data": {
      "text/plain": [
       "Counter({'Department of Natural Resources': 302,\n",
       "         'Department of State Police': 4,\n",
       "         'Department of Human Services': 1,\n",
       "         'Department of Transportation': 14,\n",
       "         'Department of Corrections': 33,\n",
       "         'Historic Preservation Agency': 4,\n",
       "         'Southern Illinois University': 1,\n",
       "         'Department of Military Affairs': 1})"
      ]
     },
     "execution_count": 81,
     "metadata": {},
     "output_type": "execute_result"
    }
   ],
   "source": [
    "agencies"
   ]
  },
  {
   "cell_type": "markdown",
   "metadata": {},
   "source": [
    "Interesting.  Lots of Department of Natural Resources.  I bet these are picnic bench shelters!\n",
    "\n",
    "Now let's get the year acquired in ints."
   ]
  },
  {
   "cell_type": "code",
   "execution_count": 82,
   "metadata": {},
   "outputs": [],
   "source": [
    "year_acquired = np.array(data['Year Acquired'], dtype='int')"
   ]
  },
  {
   "cell_type": "markdown",
   "metadata": {},
   "source": [
    "We now need to set up our matplotlib plotting."
   ]
  },
  {
   "cell_type": "code",
   "execution_count": 83,
   "metadata": {},
   "outputs": [],
   "source": [
    "%matplotlib inline"
   ]
  },
  {
   "cell_type": "code",
   "execution_count": 84,
   "metadata": {},
   "outputs": [],
   "source": [
    "import matplotlib.pyplot as plt"
   ]
  },
  {
   "cell_type": "markdown",
   "metadata": {},
   "source": [
    "And, let's make our first plot!  We will just pass the two arrays in, and every thing that could possibly go wrong will!"
   ]
  },
  {
   "cell_type": "code",
   "execution_count": 85,
   "metadata": {},
   "outputs": [
    {
     "data": {
      "text/plain": [
       "[<matplotlib.lines.Line2D at 0x10fed4668>]"
      ]
     },
     "execution_count": 85,
     "metadata": {},
     "output_type": "execute_result"
    },
    {
     "data": {
      "image/png": "[encoded data removed]",
      "text/plain": [
       "<Figure size 432x288 with 1 Axes>"
      ]
     },
     "metadata": {},
     "output_type": "display_data"
    }
   ],
   "source": [
    "plt.plot(year_acquired, square_footage)"
   ]
  },
  {
   "cell_type": "markdown",
   "metadata": {},
   "source": [
    "Alright, let's try that again.  This time, let's make it ever-so-slightly better.  We'll use circle markers and we'll not connect the lines.\n",
    "\n",
    "One item to note here is that these circle markers are set in *plot* coordinates, not *data* coordinates.  This means that the relative size, overlap, etc, will all be related to the plot characteristics.  This is not ideal."
   ]
  },
  {
   "cell_type": "code",
   "execution_count": 86,
   "metadata": {},
   "outputs": [
    {
     "data": {
      "text/plain": [
       "[<matplotlib.lines.Line2D at 0x11019bb38>]"
      ]
     },
     "execution_count": 86,
     "metadata": {},
     "output_type": "execute_result"
    },
    {
     "data": {
      "image/png": "[encoded data removed]",
      "text/plain": [
       "<Figure size 432x288 with 1 Axes>"
      ]
     },
     "metadata": {},
     "output_type": "display_data"
    }
   ],
   "source": [
    "plt.plot(year_acquired, square_footage, 'og')"
   ]
  },
  {
   "cell_type": "markdown",
   "metadata": {},
   "source": [
    "We see some obvious outliers in this plot.  Let's take a look and see if we can clean up the data a bit.  We will use indexing by boolean arrays here."
   ]
  },
  {
   "cell_type": "code",
   "execution_count": 87,
   "metadata": {},
   "outputs": [
    {
     "data": {
      "text/plain": [
       "array([ True,  True,  True, ..., False, False, False])"
      ]
     },
     "execution_count": 87,
     "metadata": {},
     "output_type": "execute_result"
    }
   ],
   "source": [
    "square_footage == 144"
   ]
  },
  {
   "cell_type": "code",
   "execution_count": 88,
   "metadata": {},
   "outputs": [
    {
     "data": {
      "text/plain": [
       "array([False, False, False, ..., False, False, False])"
      ]
     },
     "execution_count": 88,
     "metadata": {},
     "output_type": "execute_result"
    }
   ],
   "source": [
    "year_acquired == 0"
   ]
  },
  {
   "cell_type": "code",
   "execution_count": 89,
   "metadata": {},
   "outputs": [],
   "source": [
    "good = (year_acquired > 0)"
   ]
  },
  {
   "cell_type": "code",
   "execution_count": 90,
   "metadata": {},
   "outputs": [
    {
     "data": {
      "text/plain": [
       "1753"
      ]
     },
     "execution_count": 90,
     "metadata": {},
     "output_type": "execute_result"
    }
   ],
   "source": [
    "year_acquired[good].min()"
   ]
  },
  {
   "cell_type": "code",
   "execution_count": 91,
   "metadata": {},
   "outputs": [
    {
     "data": {
      "text/plain": [
       "(array([2799]),)"
      ]
     },
     "execution_count": 91,
     "metadata": {},
     "output_type": "execute_result"
    }
   ],
   "source": [
    "np.where(year_acquired == 1753)"
   ]
  },
  {
   "cell_type": "code",
   "execution_count": 92,
   "metadata": {},
   "outputs": [
    {
     "name": "stdout",
     "output_type": "stream",
     "text": [
      "Agency Name: Historic Preservation Agency\n",
      "Location Name: Fort De Chartres Historic Site - Prairie Du Rocher\n",
      "Address: 1350 State Hwy 155\n",
      "City: Prairie Du Rocher\n",
      "Zip code: 62241\n",
      "County: Randolph\n",
      "Congress Dist: 12\n",
      "Congressional Full Name: Mike Bost\n",
      "Rep Dist: 116\n",
      "Rep Full Name: Costello, II Jerry F.\n",
      "Senate Dist: 58\n",
      "Senator Full Name: David S. Luechtefeld\n",
      "Bldg Status: In Use\n",
      "Year Acquired: 1753\n",
      "Year Constructed: 1753\n",
      "Square Footage: 1200\n",
      "Total Floors: 1\n",
      "Floors Above Grade: 1\n",
      "Floors Below Grade: 0\n",
      "Usage Description: Assembly\n",
      "Usage Description 2: Assembly\n",
      "Usage Description 3: Not provided\n"
     ]
    }
   ],
   "source": [
    "for h in header:\n",
    "    print(\"{}: {}\".format(h, data[h][2799]))"
   ]
  },
  {
   "cell_type": "markdown",
   "metadata": {},
   "source": [
    "Alright, we've done a bit of cleaning, seen that the state owns a building from 1753, and we can make some more plots.  We'll also do some scale modification here."
   ]
  },
  {
   "cell_type": "code",
   "execution_count": 93,
   "metadata": {},
   "outputs": [
    {
     "data": {
      "image/png": "[encoded data removed]",
      "text/plain": [
       "<Figure size 432x288 with 1 Axes>"
      ]
     },
     "metadata": {},
     "output_type": "display_data"
    }
   ],
   "source": [
    "plt.plot(year_acquired[good], square_footage[good], '.g')\n",
    "plt.title(\"State Buildings\")\n",
    "plt.xlabel(\"Year Acquired\")\n",
    "plt.ylabel(\"Square Footage\")\n",
    "plt.yscale(\"log\")"
   ]
  },
  {
   "cell_type": "markdown",
   "metadata": {},
   "source": [
    "Let's pull out all the \"zero square footage\" bits, as well.  We'll use a logical operation to do this."
   ]
  },
  {
   "cell_type": "code",
   "execution_count": 94,
   "metadata": {},
   "outputs": [],
   "source": [
    "good_sqf = square_footage > 0.0\n",
    "gpos = good & good_sqf"
   ]
  },
  {
   "cell_type": "markdown",
   "metadata": {},
   "source": [
    "The hexbin plot is our next step -- this shows the density of plots at any given point.  We will make it relatively coarse, with 32 bins on each axis."
   ]
  },
  {
   "cell_type": "code",
   "execution_count": 95,
   "metadata": {},
   "outputs": [
    {
     "data": {
      "image/png": "[encoded data removed]",
      "text/plain": [
       "<Figure size 432x288 with 2 Axes>"
      ]
     },
     "metadata": {},
     "output_type": "display_data"
    }
   ],
   "source": [
    "plt.clf()\n",
    "plt.hexbin(year_acquired[gpos], square_footage[gpos], yscale='log', bins='log', gridsize=32, cmap='viridis')\n",
    "plt.title(\"State Buildings\")\n",
    "plt.xlabel(\"Year Acquired\")\n",
    "plt.ylabel(\"Square Footage\")\n",
    "plt.colorbar()\n",
    "plt.yscale(\"log\")\n",
    "fig = plt.gcf()"
   ]
  },
  {
   "cell_type": "markdown",
   "metadata": {},
   "source": [
    "We can now make modifications to the plots to change different aspects.  Let's get our first figure."
   ]
  },
  {
   "cell_type": "code",
   "execution_count": 96,
   "metadata": {},
   "outputs": [
    {
     "data": {
      "text/plain": [
       "[<matplotlib.axes._subplots.AxesSubplot at 0x110407a58>,\n",
       " <matplotlib.axes._subplots.AxesSubplot at 0x11063d9e8>]"
      ]
     },
     "execution_count": 96,
     "metadata": {},
     "output_type": "execute_result"
    }
   ],
   "source": [
    "fig.axes"
   ]
  },
  {
   "cell_type": "code",
   "execution_count": 97,
   "metadata": {},
   "outputs": [
    {
     "data": {
      "image/png": "[encoded data removed]",
      "text/plain": [
       "<Figure size 432x288 with 2 Axes>"
      ]
     },
     "execution_count": 97,
     "metadata": {},
     "output_type": "execute_result"
    }
   ],
   "source": [
    "ax = fig.axes[0]\n",
    "fig"
   ]
  },
  {
   "cell_type": "markdown",
   "metadata": {},
   "source": [
    "We will work more with ticks later, but for now, we'll just experiment a little bit with them and how they can be modified.  Let's first see the current locations."
   ]
  },
  {
   "cell_type": "code",
   "execution_count": 98,
   "metadata": {},
   "outputs": [
    {
     "name": "stdout",
     "output_type": "stream",
     "text": [
      "1700.0\n",
      "1750.0\n",
      "1800.0\n",
      "1850.0\n",
      "1900.0\n",
      "1950.0\n",
      "2000.0\n",
      "2050.0\n"
     ]
    }
   ],
   "source": [
    "for xtick in ax.xaxis.majorTicks:\n",
    "    print(xtick.get_loc())"
   ]
  },
  {
   "cell_type": "code",
   "execution_count": 99,
   "metadata": {},
   "outputs": [
    {
     "data": {
      "image/png": "[encoded data removed]",
      "text/plain": [
       "<Figure size 432x288 with 2 Axes>"
      ]
     },
     "execution_count": 99,
     "metadata": {},
     "output_type": "execute_result"
    }
   ],
   "source": [
    "ax.xaxis.set_visible(False)\n",
    "ax.yaxis.set_visible(False)\n",
    "fig"
   ]
  },
  {
   "cell_type": "code",
   "execution_count": 100,
   "metadata": {},
   "outputs": [
    {
     "data": {
      "image/png": "[encoded data removed]",
      "text/plain": [
       "<Figure size 432x288 with 2 Axes>"
      ]
     },
     "execution_count": 100,
     "metadata": {},
     "output_type": "execute_result"
    }
   ],
   "source": [
    "ax.xaxis.set_visible(True)\n",
    "ax.yaxis.set_visible(True)\n",
    "fig"
   ]
  },
  {
   "cell_type": "markdown",
   "metadata": {},
   "source": [
    "As an example, we can also turn off our major ticks.  We'll pick up from this to see more plot modifications next week!  Note here that we're also setting them *en masse* rather than modifying in-place."
   ]
  },
  {
   "cell_type": "code",
   "execution_count": 101,
   "metadata": {},
   "outputs": [
    {
     "data": {
      "image/png": "[encoded data removed]",
      "text/plain": [
       "<Figure size 432x288 with 2 Axes>"
      ]
     },
     "execution_count": 101,
     "metadata": {},
     "output_type": "execute_result"
    }
   ],
   "source": [
    "new_ticks = []\n",
    "for tick in ax.yaxis.majorTicks:\n",
    "    tick.set_visible(False)\n",
    "    new_ticks.append(tick)\n",
    "ax.yaxis.majorTicks = new_ticks\n",
    "fig"
   ]
  },
  {
   "cell_type": "markdown",
   "metadata": {},
   "source": [
    "# Dataset 2: Hubble Space Telescope"
   ]
  },
  {
   "cell_type": "markdown",
   "metadata": {
    "collapsed": true
   },
   "source": [
    "We import pandas, which is the main library in Python for data analysis and matplotlib for graphing."
   ]
  },
  {
   "cell_type": "code",
   "execution_count": 103,
   "metadata": {},
   "outputs": [
    {
     "data": {
      "text/html": [
       "<div>\n",
       "<style scoped>\n",
       "    .dataframe tbody tr th:only-of-type {\n",
       "        vertical-align: middle;\n",
       "    }\n",
       "\n",
       "    .dataframe tbody tr th {\n",
       "        vertical-align: top;\n",
       "    }\n",
       "\n",
       "    .dataframe thead th {\n",
       "        text-align: right;\n",
       "    }\n",
       "</style>\n",
       "<table border=\"1\" class=\"dataframe\">\n",
       "  <thead>\n",
       "    <tr style=\"text-align: right;\">\n",
       "      <th></th>\n",
       "      <th>distance</th>\n",
       "      <th>recession_velocity</th>\n",
       "    </tr>\n",
       "  </thead>\n",
       "  <tbody>\n",
       "    <tr>\n",
       "      <th>0</th>\n",
       "      <td>0.032</td>\n",
       "      <td>170</td>\n",
       "    </tr>\n",
       "    <tr>\n",
       "      <th>1</th>\n",
       "      <td>0.034</td>\n",
       "      <td>290</td>\n",
       "    </tr>\n",
       "    <tr>\n",
       "      <th>2</th>\n",
       "      <td>0.214</td>\n",
       "      <td>-130</td>\n",
       "    </tr>\n",
       "    <tr>\n",
       "      <th>3</th>\n",
       "      <td>0.263</td>\n",
       "      <td>-70</td>\n",
       "    </tr>\n",
       "    <tr>\n",
       "      <th>4</th>\n",
       "      <td>0.275</td>\n",
       "      <td>-185</td>\n",
       "    </tr>\n",
       "  </tbody>\n",
       "</table>\n",
       "</div>"
      ],
      "text/plain": [
       "   distance  recession_velocity\n",
       "0     0.032                 170\n",
       "1     0.034                 290\n",
       "2     0.214                -130\n",
       "3     0.263                 -70\n",
       "4     0.275                -185"
      ]
     },
     "execution_count": 103,
     "metadata": {},
     "output_type": "execute_result"
    }
   ],
   "source": [
    "import pandas as pd\n",
    "import matplotlib.pyplot as plt\n",
    "\n",
    "data = pd.read_csv(\"data/hubble_data.csv\")\n",
    "data.head()"
   ]
  },
  {
   "cell_type": "markdown",
   "metadata": {},
   "source": [
    "Pandas is very simple, you can read a csv file with read_csv(), and then call head() function to print the first five rows. It is also easy to plot."
   ]
  },
  {
   "cell_type": "code",
   "execution_count": 104,
   "metadata": {},
   "outputs": [
    {
     "data": {
      "image/png": "[encoded data removed]",
      "text/plain": [
       "<Figure size 432x288 with 1 Axes>"
      ]
     },
     "metadata": {},
     "output_type": "display_data"
    }
   ],
   "source": [
    "data.plot()\n",
    "plt.show()"
   ]
  }
 ],
 "metadata": {
  "anaconda-cloud": {},
  "kernelspec": {
   "display_name": "Python 3",
   "language": "python",
   "name": "python3"
  },
  "language_info": {
   "codemirror_mode": {
    "name": "ipython",
    "version": 3
   },
   "file_extension": ".py",
   "mimetype": "text/x-python",
   "name": "python",
   "nbconvert_exporter": "python",
   "pygments_lexer": "ipython3",
   "version": "3.6.5"
  }
 },
 "nbformat": 4,
 "nbformat_minor": 2
}
