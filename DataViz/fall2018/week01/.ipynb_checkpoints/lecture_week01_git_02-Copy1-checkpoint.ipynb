{
 "cells": [
  {
   "cell_type": "markdown",
   "metadata": {},
   "source": [
    "# Week 1 - Introduction to Git/GitHub"
   ]
  },
  {
   "cell_type": "markdown",
   "metadata": {},
   "source": [
    "## What is GitHub?\n",
    "\n",
    "GitHub is a code hosting platform for version control and collaboration. It lets you and others work together on projects from anywhere."
   ]
  },
  {
   "cell_type": "markdown",
   "metadata": {},
   "source": [
    "## Signup for GitHub"
   ]
  },
  {
   "cell_type": "markdown",
   "metadata": {},
   "source": [
    "<a href=\"https://github.com/\">Github Login/Sign Up</a>"
   ]
  },
  {
   "cell_type": "markdown",
   "metadata": {},
   "source": [
    "## Access Course Materials"
   ]
  },
  {
   "cell_type": "markdown",
   "metadata": {},
   "source": [
    "The course is in a github repository. If you would like to get ahead in the class feel free, but check with me before to make sure the folders are up to date. Course GitHub/Web Page: https://github.com/inp2/UIUC-iSchool-DataViz/\n",
    "\n",
    "We will be using github classroom in order to collect your assignments as well as create/add to your github portfolio. GitHub Classroom: https://classroom.github.com/classrooms/41658328-lis-590-data-visualization-fall-2018/roster\n"
   ]
  },
  {
   "cell_type": "markdown",
   "metadata": {},
   "source": [
    "## Installing Git"
   ]
  },
  {
   "cell_type": "markdown",
   "metadata": {},
   "source": [
    "<a href=\"https://git-scm.com/book/en/v2/Getting-Started-Installing-Git\">Install Git</a>"
   ]
  },
  {
   "cell_type": "markdown",
   "metadata": {},
   "source": [
    "## Create a Repository\n",
    "\n",
    "<a href=\"https://guides.github.com/activities/hello-world/\">Hello World</a>\n",
    "\n",
    "A repository is usually used to organize a single project. Respositories can contain folders and files, images, videos, spreadsheets, and data sets - anything your project needs. I recommend including a README, or a file with information about your project. GitHub makes it easy to add one at the same time you create your new repository. Go to <a href=\"https://github.com/\">Github.com</a>."
   ]
  },
  {
   "cell_type": "markdown",
   "metadata": {},
   "source": [
    "### To create a new repository\n",
    "\n",
    "1. In the upper right corner, next to your avatar or identicon, click + and then select <b>New Repository</b>\n",
    "2. Name your repository hello-world\n",
    "3. Write a short description\n",
    "4. Select <b>Initialize this repository with a README</b>\n",
    "\n",
    "<img src=\"images/create-new-repo.png\">\n",
    "\n",
    "5. Click <b>Create Repository</b>\n",
    "\n",
    "If you would like to know more about git/github rely on these repositories:\n",
    "\n",
    "<a href=\"https://product.hubspot.com/blog/git-and-github-tutorial-for-beginners\">Git and Github Tutorial for Beginners</a>\n",
    "\n",
    "<a href=\"https://git-scm.com/book/en/v2/Getting-Started-Git-Basics\">Git Basics</a>\n",
    "\n",
    "<a href=\"http://rogerdudler.github.io/git-guide/\">Git - The Simple Guide</a>"
   ]
  }
 ],
 "metadata": {
  "anaconda-cloud": {},
  "kernelspec": {
   "display_name": "Python 3",
   "language": "python",
   "name": "python3"
  },
  "language_info": {
   "codemirror_mode": {
    "name": "ipython",
    "version": 3
   },
   "file_extension": ".py",
   "mimetype": "text/x-python",
   "name": "python",
   "nbconvert_exporter": "python",
   "pygments_lexer": "ipython3",
   "version": "3.6.5"
  }
 },
 "nbformat": 4,
 "nbformat_minor": 2
}
