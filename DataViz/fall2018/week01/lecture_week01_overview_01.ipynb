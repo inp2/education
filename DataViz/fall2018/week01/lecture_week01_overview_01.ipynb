{
 "cells": [
  {
   "cell_type": "markdown",
   "metadata": {},
   "source": [
    "# Week 1 - Data Visualization"
   ]
  },
  {
   "cell_type": "markdown",
   "metadata": {},
   "source": [
    "## Overview"
   ]
  },
  {
   "cell_type": "markdown",
   "metadata": {},
   "source": [
    "Instructor: Imani Palmer\n",
    "\n",
    "Email: ipalmer2@illinois.edu\n",
    "\n",
    "Office Hours: Tuesdays, at 11:00 AM - 1:00 PM\n",
    "\n",
    "Office Hours Location: 3105 Siebel Center\n",
    "\n",
    "Course Github/Web Page: https://github.com/inp2/UIUC-iSchool-DataViz/\n",
    "\n",
    "Github Classroom: https://classroom.github.com/classrooms/41658328-lis-590-data-visualization-fall-2018/roster\n",
    "\n",
    "Slack: https://datavizuiucfall2018.slack.com/\n",
    "\n",
    "Moodle: https://courses.ischool.illinois.edu/course/view.php?id=3518"
   ]
  },
  {
   "cell_type": "markdown",
   "metadata": {},
   "source": [
    "Course Schedule:\n",
    "\n",
    "| Week  | Dates  | Class Topics  |\n",
    "|-------|:----------------------:|-----------------------------------|\n",
    "| 1     | Aug 27th - Aug 31st    |Introduction, Visualizations, Python|\n",
    "| 2     | Sept 3rd - Sept 7th    | What is Data?                      |\n",
    "| 3     | Sept 10th - Sept 11th  | Filtering, Smoothing/Binning, Multiplots |\n",
    "| 4     | Sept 17th - Sept 21st  | Palette & Python Classes |\n",
    "| 5 | Sept 24th - Sept 28th | Odds * Sods |\n",
    "| 6 | Oct 1st - Oct 5th  | Types of Viz & Choosing Colors |\n",
    "| 7 | Oct 8th - Oct 12th | Comparisons, Compositions & Time |\n",
    "| 8 | Oct 15th - Oct 19th | Graph Visualizations |\n",
    "| 9 | Oct 22nd - Oct 26th | Knowing Bokeh |\n",
    "| 10| Oct 29th - Nov 2nd | Knowing R |\n",
    "| 11| Nov 5th - Nov 9th | Knowing Tableau |\n",
    "| 12| Nov 12th - Nov 16th | Knowing JavaScript |\n",
    "| 13| Nov 19th - Nov 23rd| Thanksgiving Break |\n",
    "| 14| Nov 26th - Nov 30th| Full Stack Visualizations|\n",
    "| 15| Dec 4th - Dec 7th| Full Stack Visualizations|\n",
    "| 16| Dec 10th - Dec 14th| Full Stack Visualizations|"
   ]
  },
  {
   "cell_type": "markdown",
   "metadata": {},
   "source": [
    "1. What are the components of an effective visualization of quantitative data?\n",
    "2. What tools and ecosystems are available for visualizing data?\n",
    "3. What systems can be put in place to generate visualizations rapidly and with high-fidelity representation?\n"
   ]
  },
  {
   "cell_type": "markdown",
   "metadata": {},
   "source": [
    "* Students will be able to communicate information and data through visual representation\n",
    "* Students will be able to examine a visualization and understand how it can be improved upon\n",
    "* Students will have facility with the commonplace tools used for visualizations, and a deeper understanding of where those tools have shortcomings"
   ]
  },
  {
   "cell_type": "markdown",
   "metadata": {},
   "source": [
    "## Grading\n",
    "\n",
    "* Homework Assignments: 60 %\n",
    "    * 12 Homework Assignments\n",
    "    * Each worth 5%\n",
    "* Final Group Project/Presentation: 40%\n",
    "    * Project: 20%\n",
    "    * Presentation: 20%\n"
   ]
  },
  {
   "cell_type": "markdown",
   "metadata": {},
   "source": [
    "# Visualizations"
   ]
  },
  {
   "cell_type": "markdown",
   "metadata": {},
   "source": [
    "A visualization is a visual representation of the data in a dossier, such as a grid, line chart or heat map. Visualizations provide a variety of ways for you to display and interact with the data in a dossier. You can explore the relationships between data elements by creating a network visualization, or create visually striking graphs that summarize key business indicators in a clear, easy-to-understand format. Each visualization can include data from multiple datasets at once.\n",
    "\n",
    "The goals of a visualization can vary:\n",
    "* exploration and understanding\n",
    "* presentation and explanation\n",
    "* engagement\n",
    "\n",
    "Usually\n",
    "* initial data analysis tries to explore and understand the data\n",
    "* a scientific paper will use visualizations to present and explain results\n",
    "* magazines, newspapers, and on line publications will use then to attract and engage readers\n",
    "\n",
    "Static graphics remain very useful for exploration, especially if they can be created quickly and easily. Interactive graphics are very effective for engagement and are used heavily in on line publications.\n",
    "\n",
    "# Visualization in the Data Analysis Process\n",
    "\n",
    "A data-driven graphic typically involves several cycles of:\n",
    "* importing, cleaning, and arranging the data\n",
    "* exploring and understanding the data\n",
    "* modeling the data to separate signal from noise\n",
    "* exploring residuals and other aspects model/data mismatch\n",
    "* possibly getting additional data\n",
    "\n",
    "Visualization can help at each stage is often crucial for:\n",
    "* understanding the nature of the original data\n",
    "* understanding a complex fitted model\n",
    "* understanding departures from the model\n",
    "\n",
    "<img src=\"images/anscombe.png\">\n",
    "What do you think about these images? "
   ]
  },
  {
   "cell_type": "markdown",
   "metadata": {},
   "source": [
    "## Historical Graphics\n",
    "\n",
    "There are many types of visualizations. Somce of the well-known ones include:\n",
    "\n",
    "<img src=\"images/scatter plot.png\">\n",
    "The scatter plot is a type of plot used to display values for typically two variables for a set of data. In our scatter plot shown above we have are able to examine the relationship between weight and height of children.\n",
    "\n",
    "<img src=\"images/histogram.svg\">\n",
    "A histogram is an accurate representation of the distribution of numerical data. It is an estimate of the probability distirbution of a continuous variable.\n",
    "\n",
    "<img src=\"images/pie chart.svg\">\n",
    "A pie chart is a circular statistical graphic which is divided into slices in order to illustrate numerical proportion. Pie charts has come under criticism as research has nshown it is difficult to compare different sections of a given pie chart, or to compare data across different pie charts [1]."
   ]
  },
  {
   "cell_type": "markdown",
   "metadata": {},
   "source": [
    "References:\n",
    "1. Tufte, Edward, and P. Graves-Morris. \"The visual display of quantitative information.; 1983.\" (2014)."
   ]
  },
  {
   "cell_type": "markdown",
   "metadata": {},
   "source": [
    "## Advanced Visualizations\n",
    "\n",
    "<img src=\"images/london.jpg\" width=400>\n",
    "This is a visualization of greater London religious identity. What do you think of this visualization?\n",
    "\n",
    "<video controls src=\"videos/County_Diurnal.mp4\" height= 600 width=600/>\n",
    "This is a visualization of the United States Country Diurnal Air Tempurature by Month in 2011.\n",
    "\n",
    "<a href=\"http://map.norsecorp.com/#/\" target=\"_blank\">Norse Attack Map</a>\n",
    "This the Norse cyber-attack map. Norse is a threat intelligence firm based in Foster City, California, that gathers information on attacks happening to its infrastructure, records where they're coming from and les its customers know th block the malicious IP addresses.\n",
    "\n",
    "<img src=\"https://media2.giphy.com/media/yps8wvhfxTXVe/giphy.gif\">\n",
    "This is a visualization of the formation of the internet."
   ]
  },
  {
   "cell_type": "markdown",
   "metadata": {},
   "source": [
    "## Task Levels for Visualization\n",
    "In evaluating visualization methods it can be useful to think about several levels of tasks that might be accomplished with a visualization. A useful list, from highest to lowest level:\n",
    "\n",
    "* Analyze: identify patterns, distributions, presence of outliers or clusters, other interesting features\n",
    "* Search: look up aspects of feature known in advance or revealed by the visualization\n",
    "* Query: identify, compare features of individual items\n",
    "\n",
    "Each higher level builds on the levels below. As we look at different methods it is useful to consider the tasks they are suited for. "
   ]
  },
  {
   "cell_type": "markdown",
   "metadata": {},
   "source": [
    "## Scalability\n",
    "\n",
    "Datasets come in many different sizes and shapes. Some techniques work well for smaller datasets but deteriote in effectiveness as size increases. Sometimes modifications are available that slow the deterioration. Other modeths scale better, though usually at the expense of giving up some level of detail. As we look different methods it is useful to conside the scale of datasets they suited for."
   ]
  },
  {
   "cell_type": "markdown",
   "metadata": {},
   "source": [
    "# Visualize Data Jeopardy\n",
    "\n",
    "<a href=\"https://jeopardylabs.com/play/visualize-data\">Visualize Date Jeopardy</a>"
   ]
  }
 ],
 "metadata": {
  "anaconda-cloud": {},
  "kernelspec": {
   "display_name": "Python 3",
   "language": "python",
   "name": "python3"
  },
  "language_info": {
   "codemirror_mode": {
    "name": "ipython",
    "version": 3
   },
   "file_extension": ".py",
   "mimetype": "text/x-python",
   "name": "python",
   "nbconvert_exporter": "python",
   "pygments_lexer": "ipython3",
   "version": "3.6.5"
  }
 },
 "nbformat": 4,
 "nbformat_minor": 2
}
